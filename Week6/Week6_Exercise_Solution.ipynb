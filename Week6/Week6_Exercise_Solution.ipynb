{
 "cells": [
  {
   "cell_type": "markdown",
   "metadata": {},
   "source": [
    "### Exercise 1:\n",
    "\n",
    "#### Background:\n",
    "#### Alice is a librarian and she wants to create a simple library management system to track the books and their availability. She needs a class to represent the books in the library.\n",
    "\n",
    "#### Question:\n",
    "#### Create a Python class called 'Book' with the following attributes: 'title', 'author', 'publication_year', and 'is_available'. The class should also have methods 'borrow_book' and 'return_book' to change the availability of a book. Provide a solution for creating a new book object and demonstrate the use of the 'borrow_book' and 'return_book' methods."
   ]
  },
  {
   "cell_type": "code",
   "execution_count": null,
   "metadata": {},
   "outputs": [],
   "source": [
    "class Book:\n",
    "    def __init__(self, title, author, publication_year):\n",
    "        self.title = title\n",
    "        self.author = author\n",
    "        self.publication_year = publication_year\n",
    "        self.is_available = True\n",
    "\n",
    "    def borrow_book(self):\n",
    "        if self.is_available:\n",
    "            self.is_available = False\n",
    "        else:\n",
    "            print(\"The book is already borrowed.\")\n",
    "\n",
    "    def return_book(self):\n",
    "        self.is_available = True\n",
    "\n",
    "# Create a new book object\n",
    "book1 = Book(\"The Catcher in the Rye\", \"J.D. Salinger\", 1951)\n",
    "\n",
    "# Borrow the book\n",
    "book1.borrow_book()\n",
    "print(book1.is_available)  # Output: False\n",
    "\n",
    "# Return the book\n",
    "book1.return_book()\n",
    "print(book1.is_available)  # Output: True"
   ]
  },
  {
   "cell_type": "code",
   "execution_count": null,
   "metadata": {},
   "outputs": [],
   "source": []
  },
  {
   "cell_type": "markdown",
   "metadata": {},
   "source": [
    "### Exercise 2:\n",
    "\n",
    "\n",
    "#### Background:\n",
    "#### John is a teacher and he wants to manage his students' grades. He needs a class to represent each student and their grades.\n",
    "\n",
    "#### Question:\n",
    "#### Create a Python class called 'Student' with the following attributes: 'name', 'age', and 'grades' (a dictionary containing subject names as keys and grades as values). The class should also have methods 'add_grade' and 'average_grade' to add a new grade and to calculate the student's average grade respectively. Provide a solution for creating a new student object and demonstrate the use of the 'add_grade' and 'average_grade' methods."
   ]
  },
  {
   "cell_type": "code",
   "execution_count": 1,
   "metadata": {},
   "outputs": [
    {
     "name": "stdout",
     "output_type": "stream",
     "text": [
      "84.33333333333333\n"
     ]
    }
   ],
   "source": [
    "class Student:\n",
    "    def __init__(self, name, age):\n",
    "        self.name = name\n",
    "        self.age = age\n",
    "        self.grades = {}\n",
    "\n",
    "    def add_grade(self, subject, grade):\n",
    "        self.grades[subject] = grade\n",
    "\n",
    "    def average_grade(self):\n",
    "        total_grades = sum(self.grades.values())\n",
    "        num_subjects = len(self.grades)\n",
    "        return total_grades / num_subjects if num_subjects > 0 else 0\n",
    "\n",
    "# Create a new student object\n",
    "student1 = Student(\"Jane Doe\", 16)\n",
    "\n",
    "# Add grades for the student\n",
    "student1.add_grade(\"Math\", 85)\n",
    "student1.add_grade(\"English\", 90)\n",
    "student1.add_grade(\"Science\", 78)\n",
    "\n",
    "# Calculate the student's average grade\n",
    "print(student1.average_grade())  # Output: 84.33333333333333"
   ]
  }
 ],
 "metadata": {
  "kernelspec": {
   "display_name": "Python 3",
   "language": "python",
   "name": "python3"
  },
  "language_info": {
   "codemirror_mode": {
    "name": "ipython",
    "version": 3
   },
   "file_extension": ".py",
   "mimetype": "text/x-python",
   "name": "python",
   "nbconvert_exporter": "python",
   "pygments_lexer": "ipython3",
   "version": "3.8.5"
  }
 },
 "nbformat": 4,
 "nbformat_minor": 4
}
