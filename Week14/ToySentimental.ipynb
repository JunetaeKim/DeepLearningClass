{
 "cells": [
  {
   "cell_type": "code",
   "execution_count": 1,
   "id": "2f652e3d-de7f-41ac-932e-330a3c53a103",
   "metadata": {},
   "outputs": [],
   "source": [
    "import os \n",
    "os.environ[\"CUDA_DEVICE_ORDER\"]=\"PCI_BUS_ID\"\n",
    "os.environ[\"CUDA_VISIBLE_DEVICES\"]=\"1\""
   ]
  },
  {
   "cell_type": "markdown",
   "id": "55d1e398-bc23-43f1-a7ee-fe1e6a4b97f6",
   "metadata": {},
   "source": [
    "### Import modules"
   ]
  },
  {
   "cell_type": "code",
   "execution_count": 2,
   "id": "8c5de7a3-72c0-4b60-b949-e681c1dcd57f",
   "metadata": {},
   "outputs": [],
   "source": [
    "import numpy as np\n",
    "import tensorflow as tf\n",
    "from tensorflow.keras.preprocessing.text import Tokenizer\n",
    "from tensorflow.keras.preprocessing.sequence import pad_sequences\n",
    "from tensorflow.keras.models import Sequential\n",
    "from tensorflow.keras.layers import Embedding, Dense, GlobalAveragePooling1D, Input\n",
    "from tensorflow.keras import Model"
   ]
  },
  {
   "cell_type": "markdown",
   "id": "06f8012b-7c9e-4f85-bbc1-67cf8e2c2217",
   "metadata": {},
   "source": [
    "### Tpy data generation"
   ]
  },
  {
   "cell_type": "code",
   "execution_count": 3,
   "id": "f8e5d8d3-ac41-497a-ae4c-b48f147511d8",
   "metadata": {},
   "outputs": [],
   "source": [
    "sentences = [\"The movie was incredibly enjoyable.\", # Positive\n",
    "            \"The dinner tasted fantastic.\",\n",
    "            \"I love spending time with my friends.\",\n",
    "            \"The team did a great job on the project.\",\n",
    "            \"This is the best vacation ever.\",\n",
    "            \"The concert was absolutely amazing.\",\n",
    "            \"Her performance was outstanding.\",\n",
    "            \"I can't wait for the next episode.\",\n",
    "            \"The book was a captivating read.\",\n",
    "            \"This app is very user-friendly.\",\n",
    "             \n",
    "            \"I had a terrible experience at the restaurant.\", # Negative\n",
    "            \"The movie was a complete waste of time.\",\n",
    "            \"This hotel is dirty and uncomfortable.\",\n",
    "            \"The customer service was extremely disappointing.\",\n",
    "            \"The product didn't work as advertised.\",\n",
    "            \"I'm not a fan of this band.\",\n",
    "            \"The flight was delayed and disorganized.\",\n",
    "            \"The plot of the book was confusing and dull.\",\n",
    "            \"I don't like this new app update.\",\n",
    "            \"The project was poorly managed.\"]\n",
    "\n",
    "labels = np.array([1, 1, 1, 1, 1, 1, 1, 1, 1, 1, 0, 0, 0, 0, 0, 0, 0, 0, 0, 0])\n"
   ]
  },
  {
   "cell_type": "markdown",
   "id": "7372ae56-0438-4a5d-9f13-3f428d7836b9",
   "metadata": {},
   "source": [
    "#### Hyperparameters"
   ]
  },
  {
   "cell_type": "code",
   "execution_count": 4,
   "id": "827a0049-ebd3-40ba-bca1-f43c5d8e35f9",
   "metadata": {},
   "outputs": [],
   "source": [
    "vocab_size = 1000\n",
    "embedding_dim = 10\n",
    "max_length = 8\n",
    "trunc_type = 'post' # pre vs post\n",
    "padding_type = 'post' # pre vs post\n"
   ]
  },
  {
   "cell_type": "code",
   "execution_count": null,
   "id": "798413ed-acd9-4664-99ae-108a79b6145c",
   "metadata": {},
   "outputs": [],
   "source": []
  },
  {
   "cell_type": "markdown",
   "id": "b46a633c-6942-4b02-8756-ca488e4efe76",
   "metadata": {
    "tags": []
   },
   "source": [
    "#### Tokenization and Padding"
   ]
  },
  {
   "cell_type": "code",
   "execution_count": 5,
   "id": "b324d7aa-226b-484e-bf38-672aa33f0a91",
   "metadata": {},
   "outputs": [],
   "source": [
    "tokenizer = Tokenizer(num_words=vocab_size)\n",
    "tokenizer.fit_on_texts(sentences)\n",
    "word_index = tokenizer.word_index\n",
    "sequences = tokenizer.texts_to_sequences(sentences)\n",
    "padded_sequences = pad_sequences(sequences, maxlen=max_length, padding=padding_type, truncating=trunc_type)"
   ]
  },
  {
   "cell_type": "markdown",
   "id": "e494a732-39bf-4c6c-9c5a-04e6ff607eda",
   "metadata": {},
   "source": [
    "#### Check padding results"
   ]
  },
  {
   "cell_type": "code",
   "execution_count": 6,
   "id": "55de9818-fe97-4d02-981b-a4c973871cb6",
   "metadata": {},
   "outputs": [
    {
     "data": {
      "text/plain": [
       "array([[ 1,  9,  2, 14, 15,  0,  0,  0],\n",
       "       [ 1, 16, 17, 18,  0,  0,  0,  0],\n",
       "       [ 5, 19, 20, 10, 21, 22, 23,  0],\n",
       "       [ 1, 24, 25,  3, 26, 27, 28,  1],\n",
       "       [ 4,  6,  1, 29, 30, 31,  0,  0],\n",
       "       [ 1, 32,  2, 33, 34,  0,  0,  0],\n",
       "       [35, 36,  2, 37,  0,  0,  0,  0],\n",
       "       [ 5, 38, 39, 40,  1, 41, 42,  0],\n",
       "       [ 1, 12,  2,  3, 43, 44,  0,  0],\n",
       "       [ 4, 13,  6, 45, 46, 47,  0,  0],\n",
       "       [ 5, 48,  3, 49, 50, 51,  1, 52],\n",
       "       [ 1,  9,  2,  3, 53, 54,  7, 10],\n",
       "       [ 4, 55,  6, 56,  8, 57,  0,  0],\n",
       "       [ 1, 58, 59,  2, 60, 61,  0,  0],\n",
       "       [ 1, 62, 63, 64, 65, 66,  0,  0],\n",
       "       [67, 68,  3, 69,  7,  4, 70,  0],\n",
       "       [ 1, 71,  2, 72,  8, 73,  0,  0],\n",
       "       [ 1, 74,  7,  1, 12,  2, 75,  8],\n",
       "       [ 5, 77, 78,  4, 79, 13, 80,  0],\n",
       "       [ 1, 11,  2, 81, 82,  0,  0,  0]])"
      ]
     },
     "execution_count": 6,
     "metadata": {},
     "output_type": "execute_result"
    }
   ],
   "source": [
    "padded_sequences"
   ]
  },
  {
   "cell_type": "code",
   "execution_count": null,
   "id": "2c5c361e-41fd-4cb8-a1a0-284c0dcc55b2",
   "metadata": {},
   "outputs": [],
   "source": []
  },
  {
   "cell_type": "markdown",
   "id": "b8efc55a-83f1-40d0-8911-1dcd1f14e2cb",
   "metadata": {},
   "source": [
    "### Model architecture"
   ]
  },
  {
   "cell_type": "code",
   "execution_count": 7,
   "id": "03648d74-26a7-4686-99be-b058505346d8",
   "metadata": {},
   "outputs": [],
   "source": [
    "InpL = Input(shape=(max_length,))\n",
    "EmbeddL = Embedding(vocab_size, embedding_dim, input_length=max_length)(InpL)\n",
    "GAPL = GlobalAveragePooling1D()(EmbeddL)\n",
    "DenL = Dense(16, activation='relu')(GAPL)\n",
    "Output = Dense(1, activation='sigmoid')(DenL)\n",
    "\n",
    "SentiModel = Model(InpL, Output)\n",
    "SentiModel.compile(loss='binary_crossentropy', optimizer='adam', metrics=['AUC'])"
   ]
  },
  {
   "cell_type": "code",
   "execution_count": 8,
   "id": "3a86fb04-b2d5-4c84-b21c-83fef90f625d",
   "metadata": {
    "scrolled": true,
    "tags": []
   },
   "outputs": [
    {
     "name": "stdout",
     "output_type": "stream",
     "text": [
      "Epoch 1/100\n",
      "1/1 [==============================] - 0s 407ms/step - loss: 0.6924 - auc: 0.6000\n",
      "Epoch 2/100\n",
      "1/1 [==============================] - 0s 998us/step - loss: 0.6915 - auc: 0.6500\n",
      "Epoch 3/100\n",
      "1/1 [==============================] - 0s 996us/step - loss: 0.6905 - auc: 0.8000\n",
      "Epoch 4/100\n",
      "1/1 [==============================] - 0s 2ms/step - loss: 0.6895 - auc: 0.8500\n",
      "Epoch 5/100\n",
      "1/1 [==============================] - 0s 2ms/step - loss: 0.6885 - auc: 0.8650\n",
      "Epoch 6/100\n",
      "1/1 [==============================] - 0s 0s/step - loss: 0.6875 - auc: 0.9100\n",
      "Epoch 7/100\n",
      "1/1 [==============================] - 0s 0s/step - loss: 0.6865 - auc: 0.9200\n",
      "Epoch 8/100\n",
      "1/1 [==============================] - 0s 1ms/step - loss: 0.6855 - auc: 0.9200\n",
      "Epoch 9/100\n",
      "1/1 [==============================] - 0s 998us/step - loss: 0.6844 - auc: 0.9400\n",
      "Epoch 10/100\n",
      "1/1 [==============================] - 0s 998us/step - loss: 0.6834 - auc: 0.9700\n",
      "Epoch 11/100\n",
      "1/1 [==============================] - 0s 998us/step - loss: 0.6824 - auc: 0.9250\n",
      "Epoch 12/100\n",
      "1/1 [==============================] - 0s 997us/step - loss: 0.6813 - auc: 0.9300\n",
      "Epoch 13/100\n",
      "1/1 [==============================] - 0s 998us/step - loss: 0.6802 - auc: 0.9400\n",
      "Epoch 14/100\n",
      "1/1 [==============================] - 0s 998us/step - loss: 0.6791 - auc: 0.9400\n",
      "Epoch 15/100\n",
      "1/1 [==============================] - 0s 998us/step - loss: 0.6780 - auc: 0.9850\n",
      "Epoch 16/100\n",
      "1/1 [==============================] - 0s 997us/step - loss: 0.6769 - auc: 0.9900\n",
      "Epoch 17/100\n",
      "1/1 [==============================] - 0s 998us/step - loss: 0.6757 - auc: 0.9900\n",
      "Epoch 18/100\n",
      "1/1 [==============================] - 0s 997us/step - loss: 0.6745 - auc: 0.9900\n",
      "Epoch 19/100\n",
      "1/1 [==============================] - 0s 997us/step - loss: 0.6733 - auc: 0.9900\n",
      "Epoch 20/100\n",
      "1/1 [==============================] - 0s 997us/step - loss: 0.6720 - auc: 0.9900\n",
      "Epoch 21/100\n",
      "1/1 [==============================] - 0s 997us/step - loss: 0.6707 - auc: 0.9900\n",
      "Epoch 22/100\n",
      "1/1 [==============================] - 0s 998us/step - loss: 0.6693 - auc: 0.9950\n",
      "Epoch 23/100\n",
      "1/1 [==============================] - 0s 998us/step - loss: 0.6679 - auc: 0.9950\n",
      "Epoch 24/100\n",
      "1/1 [==============================] - 0s 998us/step - loss: 0.6665 - auc: 1.0000\n",
      "Epoch 25/100\n",
      "1/1 [==============================] - 0s 998us/step - loss: 0.6650 - auc: 1.0000\n",
      "Epoch 26/100\n",
      "1/1 [==============================] - 0s 997us/step - loss: 0.6635 - auc: 1.0000\n",
      "Epoch 27/100\n",
      "1/1 [==============================] - 0s 997us/step - loss: 0.6620 - auc: 1.0000\n",
      "Epoch 28/100\n",
      "1/1 [==============================] - 0s 998us/step - loss: 0.6604 - auc: 1.0000\n",
      "Epoch 29/100\n",
      "1/1 [==============================] - 0s 997us/step - loss: 0.6588 - auc: 1.0000\n",
      "Epoch 30/100\n",
      "1/1 [==============================] - 0s 998us/step - loss: 0.6571 - auc: 1.0000\n",
      "Epoch 31/100\n",
      "1/1 [==============================] - 0s 998us/step - loss: 0.6554 - auc: 1.0000\n",
      "Epoch 32/100\n",
      "1/1 [==============================] - 0s 998us/step - loss: 0.6536 - auc: 1.0000\n",
      "Epoch 33/100\n",
      "1/1 [==============================] - 0s 998us/step - loss: 0.6518 - auc: 1.0000\n",
      "Epoch 34/100\n",
      "1/1 [==============================] - 0s 998us/step - loss: 0.6499 - auc: 1.0000\n",
      "Epoch 35/100\n",
      "1/1 [==============================] - 0s 0s/step - loss: 0.6480 - auc: 1.0000\n",
      "Epoch 36/100\n",
      "1/1 [==============================] - 0s 0s/step - loss: 0.6460 - auc: 1.0000\n",
      "Epoch 37/100\n",
      "1/1 [==============================] - 0s 998us/step - loss: 0.6440 - auc: 1.0000\n",
      "Epoch 38/100\n",
      "1/1 [==============================] - 0s 0s/step - loss: 0.6419 - auc: 1.0000\n",
      "Epoch 39/100\n",
      "1/1 [==============================] - 0s 999us/step - loss: 0.6398 - auc: 1.0000\n",
      "Epoch 40/100\n",
      "1/1 [==============================] - 0s 998us/step - loss: 0.6377 - auc: 1.0000\n",
      "Epoch 41/100\n",
      "1/1 [==============================] - 0s 997us/step - loss: 0.6355 - auc: 1.0000\n",
      "Epoch 42/100\n",
      "1/1 [==============================] - 0s 997us/step - loss: 0.6333 - auc: 1.0000\n",
      "Epoch 43/100\n",
      "1/1 [==============================] - 0s 997us/step - loss: 0.6310 - auc: 1.0000\n",
      "Epoch 44/100\n",
      "1/1 [==============================] - 0s 0s/step - loss: 0.6287 - auc: 1.0000\n",
      "Epoch 45/100\n",
      "1/1 [==============================] - 0s 999us/step - loss: 0.6264 - auc: 1.0000\n",
      "Epoch 46/100\n",
      "1/1 [==============================] - 0s 998us/step - loss: 0.6240 - auc: 1.0000\n",
      "Epoch 47/100\n",
      "1/1 [==============================] - 0s 998us/step - loss: 0.6216 - auc: 1.0000\n",
      "Epoch 48/100\n",
      "1/1 [==============================] - 0s 998us/step - loss: 0.6191 - auc: 1.0000\n",
      "Epoch 49/100\n",
      "1/1 [==============================] - 0s 997us/step - loss: 0.6166 - auc: 1.0000\n",
      "Epoch 50/100\n",
      "1/1 [==============================] - 0s 998us/step - loss: 0.6141 - auc: 1.0000\n",
      "Epoch 51/100\n",
      "1/1 [==============================] - 0s 997us/step - loss: 0.6115 - auc: 1.0000\n",
      "Epoch 52/100\n",
      "1/1 [==============================] - 0s 997us/step - loss: 0.6089 - auc: 1.0000\n",
      "Epoch 53/100\n",
      "1/1 [==============================] - 0s 997us/step - loss: 0.6062 - auc: 1.0000\n",
      "Epoch 54/100\n",
      "1/1 [==============================] - 0s 998us/step - loss: 0.6034 - auc: 1.0000\n",
      "Epoch 55/100\n",
      "1/1 [==============================] - 0s 0s/step - loss: 0.6006 - auc: 1.0000\n",
      "Epoch 56/100\n",
      "1/1 [==============================] - 0s 997us/step - loss: 0.5978 - auc: 1.0000\n",
      "Epoch 57/100\n",
      "1/1 [==============================] - 0s 997us/step - loss: 0.5949 - auc: 1.0000\n",
      "Epoch 58/100\n",
      "1/1 [==============================] - 0s 997us/step - loss: 0.5920 - auc: 1.0000\n",
      "Epoch 59/100\n",
      "1/1 [==============================] - 0s 998us/step - loss: 0.5890 - auc: 1.0000\n",
      "Epoch 60/100\n",
      "1/1 [==============================] - 0s 998us/step - loss: 0.5860 - auc: 1.0000\n",
      "Epoch 61/100\n",
      "1/1 [==============================] - 0s 997us/step - loss: 0.5829 - auc: 1.0000\n",
      "Epoch 62/100\n",
      "1/1 [==============================] - 0s 2ms/step - loss: 0.5799 - auc: 1.0000\n",
      "Epoch 63/100\n",
      "1/1 [==============================] - 0s 997us/step - loss: 0.5767 - auc: 1.0000\n",
      "Epoch 64/100\n",
      "1/1 [==============================] - 0s 998us/step - loss: 0.5736 - auc: 1.0000\n",
      "Epoch 65/100\n",
      "1/1 [==============================] - 0s 0s/step - loss: 0.5704 - auc: 1.0000\n",
      "Epoch 66/100\n",
      "1/1 [==============================] - 0s 997us/step - loss: 0.5671 - auc: 1.0000\n",
      "Epoch 67/100\n",
      "1/1 [==============================] - 0s 0s/step - loss: 0.5638 - auc: 1.0000\n",
      "Epoch 68/100\n",
      "1/1 [==============================] - 0s 998us/step - loss: 0.5605 - auc: 1.0000\n",
      "Epoch 69/100\n",
      "1/1 [==============================] - 0s 999us/step - loss: 0.5571 - auc: 1.0000\n",
      "Epoch 70/100\n",
      "1/1 [==============================] - 0s 2ms/step - loss: 0.5536 - auc: 1.0000\n",
      "Epoch 71/100\n",
      "1/1 [==============================] - 0s 997us/step - loss: 0.5501 - auc: 1.0000\n",
      "Epoch 72/100\n",
      "1/1 [==============================] - 0s 998us/step - loss: 0.5466 - auc: 1.0000\n",
      "Epoch 73/100\n",
      "1/1 [==============================] - 0s 997us/step - loss: 0.5430 - auc: 1.0000\n",
      "Epoch 74/100\n",
      "1/1 [==============================] - 0s 998us/step - loss: 0.5393 - auc: 1.0000\n",
      "Epoch 75/100\n",
      "1/1 [==============================] - 0s 998us/step - loss: 0.5356 - auc: 1.0000\n",
      "Epoch 76/100\n",
      "1/1 [==============================] - 0s 998us/step - loss: 0.5318 - auc: 1.0000\n",
      "Epoch 77/100\n",
      "1/1 [==============================] - 0s 997us/step - loss: 0.5280 - auc: 1.0000\n",
      "Epoch 78/100\n",
      "1/1 [==============================] - 0s 997us/step - loss: 0.5241 - auc: 1.0000\n",
      "Epoch 79/100\n",
      "1/1 [==============================] - 0s 997us/step - loss: 0.5201 - auc: 1.0000\n",
      "Epoch 80/100\n",
      "1/1 [==============================] - 0s 997us/step - loss: 0.5162 - auc: 1.0000\n",
      "Epoch 81/100\n",
      "1/1 [==============================] - 0s 0s/step - loss: 0.5122 - auc: 1.0000\n",
      "Epoch 82/100\n",
      "1/1 [==============================] - 0s 997us/step - loss: 0.5082 - auc: 1.0000\n",
      "Epoch 83/100\n",
      "1/1 [==============================] - 0s 997us/step - loss: 0.5041 - auc: 1.0000\n",
      "Epoch 84/100\n",
      "1/1 [==============================] - 0s 998us/step - loss: 0.5001 - auc: 1.0000\n",
      "Epoch 85/100\n",
      "1/1 [==============================] - 0s 997us/step - loss: 0.4959 - auc: 1.0000\n",
      "Epoch 86/100\n",
      "1/1 [==============================] - 0s 0s/step - loss: 0.4918 - auc: 1.0000\n",
      "Epoch 87/100\n",
      "1/1 [==============================] - 0s 997us/step - loss: 0.4877 - auc: 1.0000\n",
      "Epoch 88/100\n",
      "1/1 [==============================] - 0s 998us/step - loss: 0.4835 - auc: 1.0000\n",
      "Epoch 89/100\n",
      "1/1 [==============================] - 0s 997us/step - loss: 0.4793 - auc: 1.0000\n",
      "Epoch 90/100\n",
      "1/1 [==============================] - 0s 998us/step - loss: 0.4751 - auc: 1.0000\n",
      "Epoch 91/100\n",
      "1/1 [==============================] - 0s 998us/step - loss: 0.4709 - auc: 1.0000\n",
      "Epoch 92/100\n",
      "1/1 [==============================] - 0s 997us/step - loss: 0.4667 - auc: 1.0000\n",
      "Epoch 93/100\n",
      "1/1 [==============================] - 0s 999us/step - loss: 0.4624 - auc: 1.0000\n",
      "Epoch 94/100\n",
      "1/1 [==============================] - 0s 997us/step - loss: 0.4582 - auc: 1.0000\n",
      "Epoch 95/100\n",
      "1/1 [==============================] - 0s 998us/step - loss: 0.4539 - auc: 1.0000\n",
      "Epoch 96/100\n",
      "1/1 [==============================] - 0s 998us/step - loss: 0.4496 - auc: 1.0000\n",
      "Epoch 97/100\n",
      "1/1 [==============================] - 0s 2ms/step - loss: 0.4454 - auc: 1.0000\n",
      "Epoch 98/100\n",
      "1/1 [==============================] - 0s 2ms/step - loss: 0.4411 - auc: 1.0000\n",
      "Epoch 99/100\n",
      "1/1 [==============================] - 0s 998us/step - loss: 0.4368 - auc: 1.0000\n",
      "Epoch 100/100\n",
      "1/1 [==============================] - 0s 998us/step - loss: 0.4325 - auc: 1.0000\n"
     ]
    },
    {
     "data": {
      "text/plain": [
       "<tensorflow.python.keras.callbacks.History at 0x2298d2ad220>"
      ]
     },
     "execution_count": 8,
     "metadata": {},
     "output_type": "execute_result"
    }
   ],
   "source": [
    "SentiModel.fit(x=padded_sequences, y=labels, epochs=100, verbose=1, shuffle=True)"
   ]
  },
  {
   "cell_type": "markdown",
   "id": "5fb66b3d-ba1a-4018-83a3-4c3f90ba3d2d",
   "metadata": {},
   "source": [
    "### Input new sentence to predict the outcome"
   ]
  },
  {
   "cell_type": "code",
   "execution_count": 11,
   "id": "829911f5-b2a6-4627-a49f-f8e4e46d2fec",
   "metadata": {},
   "outputs": [
    {
     "data": {
      "text/plain": [
       "array([[ 1,  9,  2, 76, 61,  8, 49,  0]])"
      ]
     },
     "execution_count": 11,
     "metadata": {},
     "output_type": "execute_result"
    }
   ],
   "source": [
    "New_sentences = [\"The movie was dull, disappointing, and terrible.\"]\n",
    "New_sequences = tokenizer.texts_to_sequences(New_sentences)\n",
    "New_padded_sequences = pad_sequences(New_sequences, maxlen=max_length, padding=padding_type, truncating=trunc_type)\n",
    "New_padded_sequences"
   ]
  },
  {
   "cell_type": "markdown",
   "id": "d9491a69-e1b1-4df1-93ae-01ab7a10974e",
   "metadata": {},
   "source": [
    "#### Make a prediction"
   ]
  },
  {
   "cell_type": "code",
   "execution_count": 13,
   "id": "c21164e1-ea6c-40b4-a6fe-ef2fb81f4f99",
   "metadata": {},
   "outputs": [
    {
     "data": {
      "text/plain": [
       "<tf.Tensor: shape=(1, 1), dtype=float32, numpy=array([[0.43085372]], dtype=float32)>"
      ]
     },
     "execution_count": 13,
     "metadata": {},
     "output_type": "execute_result"
    }
   ],
   "source": [
    "SentiModel(New_padded_sequences)"
   ]
  }
 ],
 "metadata": {
  "kernelspec": {
   "display_name": "Python 3 (ipykernel)",
   "language": "python",
   "name": "python3"
  },
  "language_info": {
   "codemirror_mode": {
    "name": "ipython",
    "version": 3
   },
   "file_extension": ".py",
   "mimetype": "text/x-python",
   "name": "python",
   "nbconvert_exporter": "python",
   "pygments_lexer": "ipython3",
   "version": "3.8.13"
  }
 },
 "nbformat": 4,
 "nbformat_minor": 5
}
