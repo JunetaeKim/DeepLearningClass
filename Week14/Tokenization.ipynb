{
 "cells": [
  {
   "cell_type": "markdown",
   "metadata": {},
   "source": [
    "### Impor modules"
   ]
  },
  {
   "cell_type": "code",
   "execution_count": 10,
   "metadata": {},
   "outputs": [],
   "source": [
    "from tensorflow.keras.preprocessing.text import text_to_word_sequence, Tokenizer"
   ]
  },
  {
   "cell_type": "markdown",
   "metadata": {},
   "source": [
    "### Splitting a sentence into individual words"
   ]
  },
  {
   "cell_type": "code",
   "execution_count": 8,
   "metadata": {},
   "outputs": [
    {
     "data": {
      "text/plain": [
       "['yesterday', 'i', 'played', 'a', 'soccer', 'with', 'my', 'old', 'friends']"
      ]
     },
     "execution_count": 8,
     "metadata": {},
     "output_type": "execute_result"
    }
   ],
   "source": [
    "Text = 'Yesterday, I played a soccer with my old friends'\n",
    "Results = text_to_word_sequence(Text)\n",
    "Results"
   ]
  },
  {
   "cell_type": "code",
   "execution_count": null,
   "metadata": {},
   "outputs": [],
   "source": []
  },
  {
   "cell_type": "markdown",
   "metadata": {},
   "source": [
    "### \"The process of preprocessing using the Tokenizer() function\""
   ]
  },
  {
   "cell_type": "markdown",
   "metadata": {},
   "source": [
    "### Sentence tokenizing  "
   ]
  },
  {
   "cell_type": "code",
   "execution_count": 11,
   "metadata": {},
   "outputs": [],
   "source": [
    "Docs = [\"The sun was setting, casting a golden glow over the peaceful village.\",\n",
    "        \"Sarah enjoyed reading mystery novels while sipping hot chocolate on rainy afternoons.\",\n",
    "        \"Despite the challenges they faced, the team remained committed to completing the project on time.\",\n",
    "        \"Excited about his new job, James decided to celebrate by going out for dinner with his friends.\"]"
   ]
  },
  {
   "cell_type": "code",
   "execution_count": 17,
   "metadata": {},
   "outputs": [],
   "source": [
    "# Instantiation\n",
    "Token = Tokenizer()\n",
    "Token.fit_on_texts(Docs)"
   ]
  },
  {
   "cell_type": "code",
   "execution_count": null,
   "metadata": {},
   "outputs": [],
   "source": []
  },
  {
   "cell_type": "markdown",
   "metadata": {},
   "source": [
    "### Result check: count how many sentences each word appears in"
   ]
  },
  {
   "cell_type": "code",
   "execution_count": 18,
   "metadata": {
    "scrolled": true
   },
   "outputs": [
    {
     "data": {
      "text/plain": [
       "OrderedDict([('the', 5),\n",
       "             ('sun', 1),\n",
       "             ('was', 1),\n",
       "             ('setting', 1),\n",
       "             ('casting', 1),\n",
       "             ('a', 1),\n",
       "             ('golden', 1),\n",
       "             ('glow', 1),\n",
       "             ('over', 1),\n",
       "             ('peaceful', 1),\n",
       "             ('village', 1),\n",
       "             ('sarah', 1),\n",
       "             ('enjoyed', 1),\n",
       "             ('reading', 1),\n",
       "             ('mystery', 1),\n",
       "             ('novels', 1),\n",
       "             ('while', 1),\n",
       "             ('sipping', 1),\n",
       "             ('hot', 1),\n",
       "             ('chocolate', 1),\n",
       "             ('on', 2),\n",
       "             ('rainy', 1),\n",
       "             ('afternoons', 1),\n",
       "             ('despite', 1),\n",
       "             ('challenges', 1),\n",
       "             ('they', 1),\n",
       "             ('faced', 1),\n",
       "             ('team', 1),\n",
       "             ('remained', 1),\n",
       "             ('committed', 1),\n",
       "             ('to', 2),\n",
       "             ('completing', 1),\n",
       "             ('project', 1),\n",
       "             ('time', 1),\n",
       "             ('excited', 1),\n",
       "             ('about', 1),\n",
       "             ('his', 2),\n",
       "             ('new', 1),\n",
       "             ('job', 1),\n",
       "             ('james', 1),\n",
       "             ('decided', 1),\n",
       "             ('celebrate', 1),\n",
       "             ('by', 1),\n",
       "             ('going', 1),\n",
       "             ('out', 1),\n",
       "             ('for', 1),\n",
       "             ('dinner', 1),\n",
       "             ('with', 1),\n",
       "             ('friends', 1)])"
      ]
     },
     "execution_count": 18,
     "metadata": {},
     "output_type": "execute_result"
    }
   ],
   "source": [
    "Token.word_counts"
   ]
  },
  {
   "cell_type": "markdown",
   "metadata": {},
   "source": [
    "### Result check: count the total number of sentences."
   ]
  },
  {
   "cell_type": "code",
   "execution_count": 19,
   "metadata": {},
   "outputs": [
    {
     "data": {
      "text/plain": [
       "4"
      ]
     },
     "execution_count": 19,
     "metadata": {},
     "output_type": "execute_result"
    }
   ],
   "source": [
    "Token.document_count"
   ]
  },
  {
   "cell_type": "markdown",
   "metadata": {},
   "source": [
    "### Result check: count how many sentences each word appears in"
   ]
  },
  {
   "cell_type": "code",
   "execution_count": 21,
   "metadata": {
    "scrolled": true
   },
   "outputs": [
    {
     "data": {
      "text/plain": [
       "defaultdict(int,\n",
       "            {'was': 1,\n",
       "             'over': 1,\n",
       "             'a': 1,\n",
       "             'glow': 1,\n",
       "             'casting': 1,\n",
       "             'setting': 1,\n",
       "             'peaceful': 1,\n",
       "             'village': 1,\n",
       "             'golden': 1,\n",
       "             'sun': 1,\n",
       "             'the': 2,\n",
       "             'novels': 1,\n",
       "             'reading': 1,\n",
       "             'mystery': 1,\n",
       "             'on': 2,\n",
       "             'rainy': 1,\n",
       "             'sarah': 1,\n",
       "             'while': 1,\n",
       "             'afternoons': 1,\n",
       "             'hot': 1,\n",
       "             'chocolate': 1,\n",
       "             'enjoyed': 1,\n",
       "             'sipping': 1,\n",
       "             'challenges': 1,\n",
       "             'time': 1,\n",
       "             'despite': 1,\n",
       "             'to': 2,\n",
       "             'team': 1,\n",
       "             'project': 1,\n",
       "             'committed': 1,\n",
       "             'they': 1,\n",
       "             'remained': 1,\n",
       "             'faced': 1,\n",
       "             'completing': 1,\n",
       "             'james': 1,\n",
       "             'job': 1,\n",
       "             'his': 1,\n",
       "             'about': 1,\n",
       "             'excited': 1,\n",
       "             'celebrate': 1,\n",
       "             'by': 1,\n",
       "             'going': 1,\n",
       "             'out': 1,\n",
       "             'dinner': 1,\n",
       "             'with': 1,\n",
       "             'friends': 1,\n",
       "             'decided': 1,\n",
       "             'for': 1,\n",
       "             'new': 1})"
      ]
     },
     "execution_count": 21,
     "metadata": {},
     "output_type": "execute_result"
    }
   ],
   "source": [
    "Token.word_docs"
   ]
  },
  {
   "cell_type": "code",
   "execution_count": null,
   "metadata": {},
   "outputs": [],
   "source": []
  },
  {
   "cell_type": "markdown",
   "metadata": {},
   "source": [
    "### Result check:  print the index values assigned to each word by using the word_index() function"
   ]
  },
  {
   "cell_type": "code",
   "execution_count": 22,
   "metadata": {
    "scrolled": true
   },
   "outputs": [
    {
     "data": {
      "text/plain": [
       "{'the': 1,\n",
       " 'on': 2,\n",
       " 'to': 3,\n",
       " 'his': 4,\n",
       " 'sun': 5,\n",
       " 'was': 6,\n",
       " 'setting': 7,\n",
       " 'casting': 8,\n",
       " 'a': 9,\n",
       " 'golden': 10,\n",
       " 'glow': 11,\n",
       " 'over': 12,\n",
       " 'peaceful': 13,\n",
       " 'village': 14,\n",
       " 'sarah': 15,\n",
       " 'enjoyed': 16,\n",
       " 'reading': 17,\n",
       " 'mystery': 18,\n",
       " 'novels': 19,\n",
       " 'while': 20,\n",
       " 'sipping': 21,\n",
       " 'hot': 22,\n",
       " 'chocolate': 23,\n",
       " 'rainy': 24,\n",
       " 'afternoons': 25,\n",
       " 'despite': 26,\n",
       " 'challenges': 27,\n",
       " 'they': 28,\n",
       " 'faced': 29,\n",
       " 'team': 30,\n",
       " 'remained': 31,\n",
       " 'committed': 32,\n",
       " 'completing': 33,\n",
       " 'project': 34,\n",
       " 'time': 35,\n",
       " 'excited': 36,\n",
       " 'about': 37,\n",
       " 'new': 38,\n",
       " 'job': 39,\n",
       " 'james': 40,\n",
       " 'decided': 41,\n",
       " 'celebrate': 42,\n",
       " 'by': 43,\n",
       " 'going': 44,\n",
       " 'out': 45,\n",
       " 'for': 46,\n",
       " 'dinner': 47,\n",
       " 'with': 48,\n",
       " 'friends': 49}"
      ]
     },
     "execution_count": 22,
     "metadata": {},
     "output_type": "execute_result"
    }
   ],
   "source": [
    "Token.word_index"
   ]
  }
 ],
 "metadata": {
  "kernelspec": {
   "display_name": "Python 3",
   "language": "python",
   "name": "python3"
  },
  "language_info": {
   "codemirror_mode": {
    "name": "ipython",
    "version": 3
   },
   "file_extension": ".py",
   "mimetype": "text/x-python",
   "name": "python",
   "nbconvert_exporter": "python",
   "pygments_lexer": "ipython3",
   "version": "3.8.5"
  }
 },
 "nbformat": 4,
 "nbformat_minor": 5
}
