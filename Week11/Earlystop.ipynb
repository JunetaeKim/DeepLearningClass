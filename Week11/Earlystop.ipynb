{
 "cells": [
  {
   "cell_type": "code",
   "execution_count": 8,
   "id": "114e262e-df28-4791-90b9-0f01516e5cd0",
   "metadata": {},
   "outputs": [],
   "source": [
    "import os\n",
    "import pandas as pd\n",
    "import tensorflow as tf\n",
    "from tensorflow.keras.layers import Dense, Input\n",
    "from tensorflow.keras import Model \n",
    "from tensorflow.keras.callbacks import ModelCheckpoint, EarlyStopping\n",
    "from sklearn.model_selection import train_test_split\n",
    "import numpy as np\n",
    "\n",
    "import matplotlib.pyplot as plt"
   ]
  },
  {
   "cell_type": "markdown",
   "id": "2488f633-7b08-4792-ae97-8f3eb3a2103d",
   "metadata": {},
   "source": [
    "### Data load\n",
    "#### Data description: https://archive.ics.uci.edu/ml/datasets/wine+quality"
   ]
  },
  {
   "cell_type": "code",
   "execution_count": 9,
   "id": "6c4031ae-e623-42a9-b83e-b1306f77b9cd",
   "metadata": {},
   "outputs": [],
   "source": [
    "url = 'https://raw.githubusercontent.com/JunetaeKim/DeepLearningClass/main/Dataset/wine.csv'\n",
    "df = pd.read_csv(url, header=None)"
   ]
  },
  {
   "cell_type": "code",
   "execution_count": null,
   "id": "e0129bc2-3cf0-4f60-8d37-9475b0557e94",
   "metadata": {},
   "outputs": [],
   "source": []
  },
  {
   "cell_type": "markdown",
   "id": "3dc278e8-6353-4d4e-a4d2-c4c78310b681",
   "metadata": {},
   "source": [
    "### Data shuffling and sampling"
   ]
  },
  {
   "cell_type": "code",
   "execution_count": 10,
   "id": "c64434c5-b77d-404b-bf0e-df27ddfe0153",
   "metadata": {},
   "outputs": [],
   "source": [
    "df = df.sample(frac=1.0)\n",
    "dataset = df.values\n",
    "X = dataset[:, :12]\n",
    "Y = dataset[:, 12]\n",
    "X.shape, Y.shape\n",
    "X_train, X_test, Y_train, Y_test = train_test_split(X,Y, test_size=0.2, random_state=0)"
   ]
  },
  {
   "cell_type": "markdown",
   "id": "23c9160c-1e1c-473b-aacb-0710d39de5bf",
   "metadata": {},
   "source": [
    "### Model structure "
   ]
  },
  {
   "cell_type": "code",
   "execution_count": 12,
   "id": "1550f15f-3afb-4349-9759-cde566bfb596",
   "metadata": {},
   "outputs": [],
   "source": [
    "def WineModel ():\n",
    "    \n",
    "    Inp = Input(shape=(X.shape[-1]))\n",
    "    Hidden1 = Dense(30, activation='relu')(Inp)\n",
    "    Hidden2 = Dense(12, activation='relu')(Hidden1)\n",
    "    Hidden3 = Dense(8, activation='relu')(Hidden2)\n",
    "    Output = Dense(1, activation='sigmoid')(Hidden3)\n",
    "\n",
    "    return Model(Inp, Output)\n",
    "\n",
    "Wine = WineModel()\n",
    "Wine.compile(loss=tf.losses.binary_crossentropy, optimizer='adam', metrics=['accuracy'])"
   ]
  },
  {
   "cell_type": "code",
   "execution_count": null,
   "id": "49414fa5-4169-46c5-8d2e-3fd493439f6a",
   "metadata": {},
   "outputs": [],
   "source": []
  },
  {
   "cell_type": "markdown",
   "id": "6d79e155-2413-4349-adbb-aa6587ca7582",
   "metadata": {},
   "source": [
    "### Model save directory setting"
   ]
  },
  {
   "cell_type": "code",
   "execution_count": 13,
   "id": "2064a91d-73e3-477a-a0c2-5437160397d8",
   "metadata": {},
   "outputs": [],
   "source": [
    "save_path = './Results/'\n",
    "if not os.path.exists(save_path):\n",
    "    os.mkdir(save_path)\n"
   ]
  },
  {
   "cell_type": "markdown",
   "id": "d93f02e5-19f2-4c74-915c-c02f51c6de97",
   "metadata": {},
   "source": [
    "### Model save environment setting: Saving the model training result with the same name over epochs if the training performance improves. "
   ]
  },
  {
   "cell_type": "code",
   "execution_count": 6,
   "id": "a75c52b9-0544-4fdd-a149-99cc0f15aa87",
   "metadata": {},
   "outputs": [],
   "source": [
    "ModelSaveSameName = save_path+'WineM.hdf5'\n",
    "ModelSave = ModelCheckpoint(filepath=ModelSaveSameName, monitor='val_loss', verbose=1, save_best_only=True)"
   ]
  },
  {
   "cell_type": "markdown",
   "id": "ef80c14a-d1e7-4304-b4e4-93feeabca0e5",
   "metadata": {},
   "source": [
    "### Early Stopping setting"
   ]
  },
  {
   "cell_type": "code",
   "execution_count": 19,
   "id": "e628e097-a711-4f81-b8ea-5eaa01e42568",
   "metadata": {},
   "outputs": [],
   "source": [
    "EarlyStop = EarlyStopping(monitor='val_loss', patience=5)"
   ]
  },
  {
   "cell_type": "code",
   "execution_count": null,
   "id": "7b943aab-0ac3-4981-a99a-b444067afccc",
   "metadata": {},
   "outputs": [],
   "source": []
  },
  {
   "cell_type": "code",
   "execution_count": 20,
   "id": "66cf480f-b82c-499e-94c7-b6c2cd9bfa78",
   "metadata": {
    "scrolled": true,
    "tags": []
   },
   "outputs": [
    {
     "name": "stdout",
     "output_type": "stream",
     "text": [
      "Epoch 1/200\n",
      "18/18 [==============================] - 2s 83ms/step - loss: 1.1232 - accuracy: 0.7957 - val_loss: 0.3124 - val_accuracy: 0.9069\n",
      "\n",
      "Epoch 00001: val_loss improved from inf to 0.31240, saving model to ./Results\\WineM.hdf5\n",
      "Epoch 2/200\n",
      "18/18 [==============================] - 0s 5ms/step - loss: 0.3302 - accuracy: 0.9101 - val_loss: 0.2625 - val_accuracy: 0.9038\n",
      "\n",
      "Epoch 00002: val_loss improved from 0.31240 to 0.26251, saving model to ./Results\\WineM.hdf5\n",
      "Epoch 3/200\n",
      "18/18 [==============================] - 0s 5ms/step - loss: 0.2395 - accuracy: 0.9197 - val_loss: 0.2232 - val_accuracy: 0.9315\n",
      "\n",
      "Epoch 00003: val_loss improved from 0.26251 to 0.22315, saving model to ./Results\\WineM.hdf5\n",
      "Epoch 4/200\n",
      "18/18 [==============================] - 0s 5ms/step - loss: 0.2063 - accuracy: 0.9308 - val_loss: 0.2165 - val_accuracy: 0.9300\n",
      "\n",
      "Epoch 00004: val_loss improved from 0.22315 to 0.21654, saving model to ./Results\\WineM.hdf5\n",
      "Epoch 5/200\n",
      "18/18 [==============================] - 0s 5ms/step - loss: 0.2035 - accuracy: 0.9310 - val_loss: 0.2098 - val_accuracy: 0.9331\n",
      "\n",
      "Epoch 00005: val_loss improved from 0.21654 to 0.20978, saving model to ./Results\\WineM.hdf5\n",
      "Epoch 6/200\n",
      "18/18 [==============================] - 0s 5ms/step - loss: 0.1985 - accuracy: 0.9299 - val_loss: 0.2007 - val_accuracy: 0.9354\n",
      "\n",
      "Epoch 00006: val_loss improved from 0.20978 to 0.20068, saving model to ./Results\\WineM.hdf5\n",
      "Epoch 7/200\n",
      "18/18 [==============================] - 0s 5ms/step - loss: 0.2019 - accuracy: 0.9272 - val_loss: 0.1998 - val_accuracy: 0.9331\n",
      "\n",
      "Epoch 00007: val_loss improved from 0.20068 to 0.19976, saving model to ./Results\\WineM.hdf5\n",
      "Epoch 8/200\n",
      "18/18 [==============================] - 0s 5ms/step - loss: 0.1828 - accuracy: 0.9306 - val_loss: 0.1907 - val_accuracy: 0.9362\n",
      "\n",
      "Epoch 00008: val_loss improved from 0.19976 to 0.19070, saving model to ./Results\\WineM.hdf5\n",
      "Epoch 9/200\n",
      "18/18 [==============================] - 0s 5ms/step - loss: 0.1856 - accuracy: 0.9344 - val_loss: 0.1875 - val_accuracy: 0.9377\n",
      "\n",
      "Epoch 00009: val_loss improved from 0.19070 to 0.18751, saving model to ./Results\\WineM.hdf5\n",
      "Epoch 10/200\n",
      "18/18 [==============================] - 0s 5ms/step - loss: 0.1769 - accuracy: 0.9318 - val_loss: 0.1833 - val_accuracy: 0.9392\n",
      "\n",
      "Epoch 00010: val_loss improved from 0.18751 to 0.18329, saving model to ./Results\\WineM.hdf5\n",
      "Epoch 11/200\n",
      "18/18 [==============================] - 0s 6ms/step - loss: 0.1730 - accuracy: 0.9383 - val_loss: 0.1857 - val_accuracy: 0.9315\n",
      "\n",
      "Epoch 00011: val_loss did not improve from 0.18329\n",
      "Epoch 12/200\n",
      "18/18 [==============================] - 0s 6ms/step - loss: 0.1656 - accuracy: 0.9410 - val_loss: 0.1806 - val_accuracy: 0.9338\n",
      "\n",
      "Epoch 00012: val_loss improved from 0.18329 to 0.18055, saving model to ./Results\\WineM.hdf5\n",
      "Epoch 13/200\n",
      "18/18 [==============================] - 0s 5ms/step - loss: 0.1684 - accuracy: 0.9372 - val_loss: 0.1768 - val_accuracy: 0.9354\n",
      "\n",
      "Epoch 00013: val_loss improved from 0.18055 to 0.17684, saving model to ./Results\\WineM.hdf5\n",
      "Epoch 14/200\n",
      "18/18 [==============================] - 0s 6ms/step - loss: 0.1659 - accuracy: 0.9380 - val_loss: 0.1724 - val_accuracy: 0.9385\n",
      "\n",
      "Epoch 00014: val_loss improved from 0.17684 to 0.17244, saving model to ./Results\\WineM.hdf5\n",
      "Epoch 15/200\n",
      "18/18 [==============================] - 0s 5ms/step - loss: 0.1602 - accuracy: 0.9408 - val_loss: 0.1691 - val_accuracy: 0.9400\n",
      "\n",
      "Epoch 00015: val_loss improved from 0.17244 to 0.16912, saving model to ./Results\\WineM.hdf5\n",
      "Epoch 16/200\n",
      "18/18 [==============================] - 0s 5ms/step - loss: 0.1581 - accuracy: 0.9400 - val_loss: 0.1668 - val_accuracy: 0.9423\n",
      "\n",
      "Epoch 00016: val_loss improved from 0.16912 to 0.16676, saving model to ./Results\\WineM.hdf5\n",
      "Epoch 17/200\n",
      "18/18 [==============================] - 0s 6ms/step - loss: 0.1599 - accuracy: 0.9424 - val_loss: 0.1727 - val_accuracy: 0.9338\n",
      "\n",
      "Epoch 00017: val_loss did not improve from 0.16676\n",
      "Epoch 18/200\n",
      "18/18 [==============================] - 0s 5ms/step - loss: 0.1576 - accuracy: 0.9416 - val_loss: 0.1641 - val_accuracy: 0.9454\n",
      "\n",
      "Epoch 00018: val_loss improved from 0.16676 to 0.16411, saving model to ./Results\\WineM.hdf5\n",
      "Epoch 19/200\n",
      "18/18 [==============================] - 0s 5ms/step - loss: 0.1446 - accuracy: 0.9481 - val_loss: 0.1638 - val_accuracy: 0.9408\n",
      "\n",
      "Epoch 00019: val_loss improved from 0.16411 to 0.16377, saving model to ./Results\\WineM.hdf5\n",
      "Epoch 20/200\n",
      "18/18 [==============================] - 0s 6ms/step - loss: 0.1519 - accuracy: 0.9377 - val_loss: 0.1609 - val_accuracy: 0.9415\n",
      "\n",
      "Epoch 00020: val_loss improved from 0.16377 to 0.16089, saving model to ./Results\\WineM.hdf5\n",
      "Epoch 21/200\n",
      "18/18 [==============================] - 0s 5ms/step - loss: 0.1534 - accuracy: 0.9429 - val_loss: 0.1550 - val_accuracy: 0.9462\n",
      "\n",
      "Epoch 00021: val_loss improved from 0.16089 to 0.15496, saving model to ./Results\\WineM.hdf5\n",
      "Epoch 22/200\n",
      "18/18 [==============================] - 0s 5ms/step - loss: 0.1506 - accuracy: 0.9424 - val_loss: 0.1558 - val_accuracy: 0.9423\n",
      "\n",
      "Epoch 00022: val_loss did not improve from 0.15496\n",
      "Epoch 23/200\n",
      "18/18 [==============================] - 0s 5ms/step - loss: 0.1377 - accuracy: 0.9477 - val_loss: 0.1516 - val_accuracy: 0.9454\n",
      "\n",
      "Epoch 00023: val_loss improved from 0.15496 to 0.15159, saving model to ./Results\\WineM.hdf5\n",
      "Epoch 24/200\n",
      "18/18 [==============================] - 0s 6ms/step - loss: 0.1384 - accuracy: 0.9485 - val_loss: 0.1515 - val_accuracy: 0.9438\n",
      "\n",
      "Epoch 00024: val_loss improved from 0.15159 to 0.15149, saving model to ./Results\\WineM.hdf5\n",
      "Epoch 25/200\n",
      "18/18 [==============================] - 0s 5ms/step - loss: 0.1418 - accuracy: 0.9470 - val_loss: 0.1458 - val_accuracy: 0.9462\n",
      "\n",
      "Epoch 00025: val_loss improved from 0.15149 to 0.14582, saving model to ./Results\\WineM.hdf5\n",
      "Epoch 26/200\n",
      "18/18 [==============================] - 0s 5ms/step - loss: 0.1342 - accuracy: 0.9463 - val_loss: 0.1509 - val_accuracy: 0.9438\n",
      "\n",
      "Epoch 00026: val_loss did not improve from 0.14582\n",
      "Epoch 27/200\n",
      "18/18 [==============================] - 0s 5ms/step - loss: 0.1277 - accuracy: 0.9523 - val_loss: 0.1401 - val_accuracy: 0.9508\n",
      "\n",
      "Epoch 00027: val_loss improved from 0.14582 to 0.14007, saving model to ./Results\\WineM.hdf5\n",
      "Epoch 28/200\n",
      "18/18 [==============================] - 0s 6ms/step - loss: 0.1302 - accuracy: 0.9477 - val_loss: 0.1452 - val_accuracy: 0.9431\n",
      "\n",
      "Epoch 00028: val_loss did not improve from 0.14007\n",
      "Epoch 29/200\n",
      "18/18 [==============================] - 0s 5ms/step - loss: 0.1242 - accuracy: 0.9534 - val_loss: 0.1398 - val_accuracy: 0.9462\n",
      "\n",
      "Epoch 00029: val_loss improved from 0.14007 to 0.13981, saving model to ./Results\\WineM.hdf5\n",
      "Epoch 30/200\n",
      "18/18 [==============================] - 0s 5ms/step - loss: 0.1143 - accuracy: 0.9570 - val_loss: 0.1340 - val_accuracy: 0.9500\n",
      "\n",
      "Epoch 00030: val_loss improved from 0.13981 to 0.13395, saving model to ./Results\\WineM.hdf5\n",
      "Epoch 31/200\n",
      "18/18 [==============================] - 0s 5ms/step - loss: 0.1213 - accuracy: 0.9542 - val_loss: 0.1361 - val_accuracy: 0.9485\n",
      "\n",
      "Epoch 00031: val_loss did not improve from 0.13395\n",
      "Epoch 32/200\n",
      "18/18 [==============================] - 0s 6ms/step - loss: 0.1106 - accuracy: 0.9569 - val_loss: 0.1310 - val_accuracy: 0.9492\n",
      "\n",
      "Epoch 00032: val_loss improved from 0.13395 to 0.13097, saving model to ./Results\\WineM.hdf5\n",
      "Epoch 33/200\n",
      "18/18 [==============================] - 0s 5ms/step - loss: 0.1175 - accuracy: 0.9573 - val_loss: 0.1296 - val_accuracy: 0.9515\n",
      "\n",
      "Epoch 00033: val_loss improved from 0.13097 to 0.12961, saving model to ./Results\\WineM.hdf5\n",
      "Epoch 34/200\n",
      "18/18 [==============================] - 0s 5ms/step - loss: 0.1115 - accuracy: 0.9552 - val_loss: 0.1237 - val_accuracy: 0.9569\n",
      "\n",
      "Epoch 00034: val_loss improved from 0.12961 to 0.12371, saving model to ./Results\\WineM.hdf5\n",
      "Epoch 35/200\n",
      "18/18 [==============================] - 0s 6ms/step - loss: 0.1171 - accuracy: 0.9547 - val_loss: 0.1247 - val_accuracy: 0.9500\n",
      "\n",
      "Epoch 00035: val_loss did not improve from 0.12371\n",
      "Epoch 36/200\n",
      "18/18 [==============================] - 0s 6ms/step - loss: 0.1194 - accuracy: 0.9571 - val_loss: 0.1318 - val_accuracy: 0.9515\n",
      "\n",
      "Epoch 00036: val_loss did not improve from 0.12371\n",
      "Epoch 37/200\n",
      "18/18 [==============================] - 0s 5ms/step - loss: 0.1125 - accuracy: 0.9564 - val_loss: 0.1200 - val_accuracy: 0.9631\n",
      "\n",
      "Epoch 00037: val_loss improved from 0.12371 to 0.11999, saving model to ./Results\\WineM.hdf5\n",
      "Epoch 38/200\n",
      "18/18 [==============================] - 0s 5ms/step - loss: 0.1246 - accuracy: 0.9543 - val_loss: 0.1224 - val_accuracy: 0.9515\n",
      "\n",
      "Epoch 00038: val_loss did not improve from 0.11999\n",
      "Epoch 39/200\n",
      "18/18 [==============================] - 0s 6ms/step - loss: 0.1124 - accuracy: 0.9578 - val_loss: 0.1343 - val_accuracy: 0.9492\n",
      "\n",
      "Epoch 00039: val_loss did not improve from 0.11999\n",
      "Epoch 40/200\n",
      "18/18 [==============================] - 0s 6ms/step - loss: 0.1101 - accuracy: 0.9555 - val_loss: 0.1181 - val_accuracy: 0.9554\n",
      "\n",
      "Epoch 00040: val_loss improved from 0.11999 to 0.11810, saving model to ./Results\\WineM.hdf5\n",
      "Epoch 41/200\n",
      "18/18 [==============================] - 0s 5ms/step - loss: 0.1010 - accuracy: 0.9599 - val_loss: 0.1177 - val_accuracy: 0.9546\n",
      "\n",
      "Epoch 00041: val_loss improved from 0.11810 to 0.11772, saving model to ./Results\\WineM.hdf5\n",
      "Epoch 42/200\n",
      "18/18 [==============================] - 0s 5ms/step - loss: 0.1042 - accuracy: 0.9587 - val_loss: 0.1129 - val_accuracy: 0.9615\n",
      "\n",
      "Epoch 00042: val_loss improved from 0.11772 to 0.11289, saving model to ./Results\\WineM.hdf5\n",
      "Epoch 43/200\n",
      "18/18 [==============================] - 0s 5ms/step - loss: 0.1035 - accuracy: 0.9602 - val_loss: 0.1132 - val_accuracy: 0.9600\n",
      "\n",
      "Epoch 00043: val_loss did not improve from 0.11289\n",
      "Epoch 44/200\n",
      "18/18 [==============================] - 0s 6ms/step - loss: 0.1043 - accuracy: 0.9592 - val_loss: 0.1145 - val_accuracy: 0.9569\n",
      "\n",
      "Epoch 00044: val_loss did not improve from 0.11289\n",
      "Epoch 45/200\n",
      "18/18 [==============================] - 0s 5ms/step - loss: 0.0948 - accuracy: 0.9624 - val_loss: 0.1106 - val_accuracy: 0.9638\n",
      "\n",
      "Epoch 00045: val_loss improved from 0.11289 to 0.11057, saving model to ./Results\\WineM.hdf5\n",
      "Epoch 46/200\n",
      "18/18 [==============================] - 0s 5ms/step - loss: 0.0946 - accuracy: 0.9670 - val_loss: 0.1075 - val_accuracy: 0.9646\n",
      "\n",
      "Epoch 00046: val_loss improved from 0.11057 to 0.10751, saving model to ./Results\\WineM.hdf5\n",
      "Epoch 47/200\n",
      "18/18 [==============================] - 0s 5ms/step - loss: 0.0990 - accuracy: 0.9590 - val_loss: 0.1206 - val_accuracy: 0.9538\n",
      "\n",
      "Epoch 00047: val_loss did not improve from 0.10751\n",
      "Epoch 48/200\n",
      "18/18 [==============================] - 0s 6ms/step - loss: 0.1086 - accuracy: 0.9609 - val_loss: 0.1259 - val_accuracy: 0.9523\n",
      "\n",
      "Epoch 00048: val_loss did not improve from 0.10751\n",
      "Epoch 49/200\n",
      "18/18 [==============================] - 0s 6ms/step - loss: 0.0968 - accuracy: 0.9627 - val_loss: 0.1058 - val_accuracy: 0.9646\n",
      "\n",
      "Epoch 00049: val_loss improved from 0.10751 to 0.10584, saving model to ./Results\\WineM.hdf5\n",
      "Epoch 50/200\n",
      "18/18 [==============================] - 0s 5ms/step - loss: 0.0884 - accuracy: 0.9693 - val_loss: 0.1059 - val_accuracy: 0.9646\n",
      "\n",
      "Epoch 00050: val_loss did not improve from 0.10584\n",
      "Epoch 51/200\n",
      "18/18 [==============================] - 0s 5ms/step - loss: 0.0907 - accuracy: 0.9661 - val_loss: 0.0991 - val_accuracy: 0.9700\n",
      "\n",
      "Epoch 00051: val_loss improved from 0.10584 to 0.09914, saving model to ./Results\\WineM.hdf5\n",
      "Epoch 52/200\n",
      "18/18 [==============================] - 0s 5ms/step - loss: 0.0908 - accuracy: 0.9681 - val_loss: 0.0974 - val_accuracy: 0.9700\n",
      "\n",
      "Epoch 00052: val_loss improved from 0.09914 to 0.09744, saving model to ./Results\\WineM.hdf5\n",
      "Epoch 53/200\n",
      "18/18 [==============================] - 0s 6ms/step - loss: 0.0945 - accuracy: 0.9684 - val_loss: 0.0960 - val_accuracy: 0.9715\n",
      "\n",
      "Epoch 00053: val_loss improved from 0.09744 to 0.09597, saving model to ./Results\\WineM.hdf5\n",
      "Epoch 54/200\n",
      "18/18 [==============================] - 0s 5ms/step - loss: 0.0858 - accuracy: 0.9712 - val_loss: 0.0975 - val_accuracy: 0.9715\n",
      "\n",
      "Epoch 00054: val_loss did not improve from 0.09597\n",
      "Epoch 55/200\n",
      "18/18 [==============================] - 0s 5ms/step - loss: 0.0775 - accuracy: 0.9738 - val_loss: 0.0951 - val_accuracy: 0.9731\n",
      "\n",
      "Epoch 00055: val_loss improved from 0.09597 to 0.09506, saving model to ./Results\\WineM.hdf5\n",
      "Epoch 56/200\n",
      "18/18 [==============================] - 0s 5ms/step - loss: 0.0823 - accuracy: 0.9728 - val_loss: 0.0955 - val_accuracy: 0.9715\n",
      "\n",
      "Epoch 00056: val_loss did not improve from 0.09506\n",
      "Epoch 57/200\n",
      "18/18 [==============================] - 0s 6ms/step - loss: 0.0871 - accuracy: 0.9700 - val_loss: 0.1017 - val_accuracy: 0.9662\n",
      "\n",
      "Epoch 00057: val_loss did not improve from 0.09506\n",
      "Epoch 58/200\n",
      "18/18 [==============================] - 0s 5ms/step - loss: 0.0780 - accuracy: 0.9724 - val_loss: 0.1183 - val_accuracy: 0.9631\n",
      "\n",
      "Epoch 00058: val_loss did not improve from 0.09506\n",
      "Epoch 59/200\n",
      "18/18 [==============================] - 0s 5ms/step - loss: 0.0852 - accuracy: 0.9705 - val_loss: 0.1027 - val_accuracy: 0.9677\n",
      "\n",
      "Epoch 00059: val_loss did not improve from 0.09506\n",
      "Epoch 60/200\n",
      "18/18 [==============================] - 0s 5ms/step - loss: 0.0874 - accuracy: 0.9702 - val_loss: 0.0952 - val_accuracy: 0.9715\n",
      "\n",
      "Epoch 00060: val_loss did not improve from 0.09506\n"
     ]
    },
    {
     "data": {
      "text/plain": [
       "<tensorflow.python.keras.callbacks.History at 0x262b812b820>"
      ]
     },
     "execution_count": 20,
     "metadata": {},
     "output_type": "execute_result"
    }
   ],
   "source": [
    "Wine.fit(X_train, Y_train, validation_data=(X_test,Y_test), epochs=200, batch_size=300,  verbose=1, callbacks=[ModelSave, EarlyStop])"
   ]
  },
  {
   "cell_type": "code",
   "execution_count": null,
   "id": "3cdc46df-b63d-403d-b1de-19cdd4ca55fe",
   "metadata": {},
   "outputs": [],
   "source": [
    "\n"
   ]
  },
  {
   "cell_type": "markdown",
   "id": "7a11cb4d-f866-48d8-947b-184d8b7b4075",
   "metadata": {},
   "source": [
    "### Model weight load and evaluate it "
   ]
  },
  {
   "cell_type": "code",
   "execution_count": 21,
   "id": "03cf63be-162c-4955-a6c6-82249d32d982",
   "metadata": {},
   "outputs": [
    {
     "name": "stdout",
     "output_type": "stream",
     "text": [
      "Before loading weights\n",
      "41/41 [==============================] - 0s 1ms/step - loss: 25.0138 - accuracy: 0.2653\n",
      "[25.065717697143555, 0.26230770349502563]\n",
      "\n",
      "After loading weights\n",
      "41/41 [==============================] - 0s 1ms/step - loss: 0.0951 - accuracy: 0.9731\n",
      "[0.09505605697631836, 0.9730769395828247]\n"
     ]
    }
   ],
   "source": [
    "WineRe = WineModel()\n",
    "WineRe.compile(loss=tf.losses.binary_crossentropy, optimizer='adam', metrics=['accuracy'])\n",
    "print('Before loading weights')\n",
    "print(WineRe.evaluate(X_test,Y_test))\n",
    "print()\n",
    "\n",
    "WineRe.load_weights(ModelSaveSameName)\n",
    "print('After loading weights')\n",
    "print(WineRe.evaluate(X_test,Y_test))"
   ]
  },
  {
   "cell_type": "code",
   "execution_count": null,
   "id": "9509a232-4885-4958-9d71-4421980780f7",
   "metadata": {},
   "outputs": [],
   "source": []
  },
  {
   "cell_type": "markdown",
   "id": "a7e5729a-f82f-4479-9fc2-e29a6bf0b986",
   "metadata": {},
   "source": [
    "### Plot loss graphs"
   ]
  },
  {
   "cell_type": "code",
   "execution_count": 22,
   "id": "01703261-c3a8-4851-a2ca-3bfe6241e29b",
   "metadata": {},
   "outputs": [
    {
     "data": {
      "text/plain": [
       "Text(0, 0.5, 'loss')"
      ]
     },
     "execution_count": 22,
     "metadata": {},
     "output_type": "execute_result"
    },
    {
     "data": {
      "image/png": "[encoded data removed]",
      "text/plain": [
       "<Figure size 640x480 with 1 Axes>"
      ]
     },
     "metadata": {},
     "output_type": "display_data"
    }
   ],
   "source": [
    "plt.plot(Wine.history.history['loss'][5:], label='Tr')\n",
    "plt.plot(Wine.history.history['val_loss'][5:], label='Val')\n",
    "plt.legend() \n",
    "plt.xlabel('epoch')\n",
    "plt.ylabel('loss')"
   ]
  },
  {
   "cell_type": "markdown",
   "id": "cd1f0e0e-8ca9-4bed-96ed-f9e8b3b55229",
   "metadata": {},
   "source": [
    "### Check the number of epochs"
   ]
  },
  {
   "cell_type": "code",
   "execution_count": 23,
   "id": "23d2e06c-0696-4894-bb89-009326ee8839",
   "metadata": {},
   "outputs": [
    {
     "data": {
      "text/plain": [
       "60"
      ]
     },
     "execution_count": 23,
     "metadata": {},
     "output_type": "execute_result"
    }
   ],
   "source": [
    "len(Wine.history.history['loss'])"
   ]
  },
  {
   "cell_type": "code",
   "execution_count": null,
   "id": "4345d5e3-aaba-45bc-9f2d-a5126fac5496",
   "metadata": {},
   "outputs": [],
   "source": []
  }
 ],
 "metadata": {
  "kernelspec": {
   "display_name": "Python 3 (ipykernel)",
   "language": "python",
   "name": "python3"
  },
  "language_info": {
   "codemirror_mode": {
    "name": "ipython",
    "version": 3
   },
   "file_extension": ".py",
   "mimetype": "text/x-python",
   "name": "python",
   "nbconvert_exporter": "python",
   "pygments_lexer": "ipython3",
   "version": "3.8.13"
  }
 },
 "nbformat": 4,
 "nbformat_minor": 5
}
