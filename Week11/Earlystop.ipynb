{
 "cells": [
  {
   "cell_type": "code",
   "execution_count": 1,
   "id": "114e262e-df28-4791-90b9-0f01516e5cd0",
   "metadata": {},
   "outputs": [],
   "source": [
    "import os\n",
    "import pandas as pd\n",
    "import tensorflow as tf\n",
    "from tensorflow.keras.layers import Dense, Input\n",
    "from tensorflow.keras import Model \n",
    "from tensorflow.keras.callbacks import ModelCheckpoint, EarlyStopping\n",
    "from sklearn.model_selection import train_test_split\n",
    "import numpy as np\n",
    "\n",
    "import matplotlib.pyplot as plt"
   ]
  },
  {
   "cell_type": "markdown",
   "id": "2488f633-7b08-4792-ae97-8f3eb3a2103d",
   "metadata": {},
   "source": [
    "### Data load\n",
    "#### Data description: https://archive.ics.uci.edu/ml/datasets/wine+quality"
   ]
  },
  {
   "cell_type": "code",
   "execution_count": 2,
   "id": "6c4031ae-e623-42a9-b83e-b1306f77b9cd",
   "metadata": {},
   "outputs": [],
   "source": [
    "url = 'https://raw.githubusercontent.com/JunetaeKim/DeepLearningClass/main/Dataset/wine.csv'\n",
    "df = pd.read_csv(url, header=None)"
   ]
  },
  {
   "cell_type": "code",
   "execution_count": null,
   "id": "e0129bc2-3cf0-4f60-8d37-9475b0557e94",
   "metadata": {},
   "outputs": [],
   "source": []
  },
  {
   "cell_type": "markdown",
   "id": "3dc278e8-6353-4d4e-a4d2-c4c78310b681",
   "metadata": {},
   "source": [
    "### Data shuffling and sampling"
   ]
  },
  {
   "cell_type": "code",
   "execution_count": 3,
   "id": "c64434c5-b77d-404b-bf0e-df27ddfe0153",
   "metadata": {},
   "outputs": [],
   "source": [
    "df = df.sample(frac=1.0)\n",
    "dataset = df.values\n",
    "X = dataset[:, :12]\n",
    "Y = dataset[:, 12]\n",
    "X.shape, Y.shape\n",
    "X_train, X_test, Y_train, Y_test = train_test_split(X,Y, test_size=0.2, random_state=0)"
   ]
  },
  {
   "cell_type": "markdown",
   "id": "23c9160c-1e1c-473b-aacb-0710d39de5bf",
   "metadata": {},
   "source": [
    "### Model structure "
   ]
  },
  {
   "cell_type": "code",
   "execution_count": 4,
   "id": "1550f15f-3afb-4349-9759-cde566bfb596",
   "metadata": {},
   "outputs": [],
   "source": [
    "def WineModel ():\n",
    "    \n",
    "    Inp = Input(shape=(X.shape[-1]))\n",
    "    Hidden1 = Dense(30, activation='relu')(Inp)\n",
    "    Hidden2 = Dense(12, activation='relu')(Hidden1)\n",
    "    Hidden3 = Dense(8, activation='relu')(Hidden2)\n",
    "    Output = Dense(1, activation='sigmoid')(Hidden3)\n",
    "\n",
    "    return Model(Inp, Output)\n",
    "\n",
    "Wine = WineModel()\n",
    "Wine.compile(loss=tf.losses.binary_crossentropy, optimizer='adam', metrics=['accuracy'])"
   ]
  },
  {
   "cell_type": "code",
   "execution_count": null,
   "id": "49414fa5-4169-46c5-8d2e-3fd493439f6a",
   "metadata": {},
   "outputs": [],
   "source": []
  },
  {
   "cell_type": "markdown",
   "id": "6d79e155-2413-4349-adbb-aa6587ca7582",
   "metadata": {},
   "source": [
    "### Model save directory setting"
   ]
  },
  {
   "cell_type": "code",
   "execution_count": 5,
   "id": "2064a91d-73e3-477a-a0c2-5437160397d8",
   "metadata": {},
   "outputs": [],
   "source": [
    "save_path = './Results/'\n",
    "if not os.path.exists(save_path):\n",
    "    os.mkdir(save_path)\n"
   ]
  },
  {
   "cell_type": "markdown",
   "id": "d93f02e5-19f2-4c74-915c-c02f51c6de97",
   "metadata": {},
   "source": [
    "### Model save environment setting: Saving the model training result with the same name over epochs if the training performance improves. "
   ]
  },
  {
   "cell_type": "code",
   "execution_count": 6,
   "id": "a75c52b9-0544-4fdd-a149-99cc0f15aa87",
   "metadata": {},
   "outputs": [],
   "source": [
    "ModelSaveSameName = save_path+'WineM.hdf5'\n",
    "ModelSave = ModelCheckpoint(filepath=ModelSaveSameName, monitor='val_loss', verbose=1, save_best_only=True)"
   ]
  },
  {
   "cell_type": "markdown",
   "id": "ef80c14a-d1e7-4304-b4e4-93feeabca0e5",
   "metadata": {},
   "source": [
    "### Early Stopping setting"
   ]
  },
  {
   "cell_type": "code",
   "execution_count": 7,
   "id": "e628e097-a711-4f81-b8ea-5eaa01e42568",
   "metadata": {},
   "outputs": [],
   "source": [
    "EarlyStop = EarlyStopping(monitor='val_loss', patience=5)"
   ]
  },
  {
   "cell_type": "code",
   "execution_count": null,
   "id": "7b943aab-0ac3-4981-a99a-b444067afccc",
   "metadata": {},
   "outputs": [],
   "source": []
  },
  {
   "cell_type": "code",
   "execution_count": 8,
   "id": "66cf480f-b82c-499e-94c7-b6c2cd9bfa78",
   "metadata": {
    "scrolled": true,
    "tags": []
   },
   "outputs": [
    {
     "name": "stdout",
     "output_type": "stream",
     "text": [
      "Epoch 1/200\n",
      "18/18 [==============================] - 2s 81ms/step - loss: 1.5485 - accuracy: 0.5140 - val_loss: 0.5172 - val_accuracy: 0.8123\n",
      "\n",
      "Epoch 00001: val_loss improved from inf to 0.51720, saving model to ./Results\\WineM.hdf5\n",
      "Epoch 2/200\n",
      "18/18 [==============================] - 0s 5ms/step - loss: 0.4621 - accuracy: 0.8292 - val_loss: 0.3610 - val_accuracy: 0.8454\n",
      "\n",
      "Epoch 00002: val_loss improved from 0.51720 to 0.36097, saving model to ./Results\\WineM.hdf5\n",
      "Epoch 3/200\n",
      "18/18 [==============================] - 0s 5ms/step - loss: 0.3162 - accuracy: 0.8733 - val_loss: 0.2723 - val_accuracy: 0.8892\n",
      "\n",
      "Epoch 00003: val_loss improved from 0.36097 to 0.27232, saving model to ./Results\\WineM.hdf5\n",
      "Epoch 4/200\n",
      "18/18 [==============================] - 0s 5ms/step - loss: 0.2479 - accuracy: 0.9000 - val_loss: 0.2360 - val_accuracy: 0.9062\n",
      "\n",
      "Epoch 00004: val_loss improved from 0.27232 to 0.23599, saving model to ./Results\\WineM.hdf5\n",
      "Epoch 5/200\n",
      "18/18 [==============================] - 0s 5ms/step - loss: 0.2273 - accuracy: 0.9119 - val_loss: 0.2254 - val_accuracy: 0.9131\n",
      "\n",
      "Epoch 00005: val_loss improved from 0.23599 to 0.22541, saving model to ./Results\\WineM.hdf5\n",
      "Epoch 6/200\n",
      "18/18 [==============================] - 0s 5ms/step - loss: 0.2210 - accuracy: 0.9163 - val_loss: 0.2192 - val_accuracy: 0.9131\n",
      "\n",
      "Epoch 00006: val_loss improved from 0.22541 to 0.21915, saving model to ./Results\\WineM.hdf5\n",
      "Epoch 7/200\n",
      "18/18 [==============================] - 0s 4ms/step - loss: 0.2108 - accuracy: 0.9208 - val_loss: 0.2081 - val_accuracy: 0.9177\n",
      "\n",
      "Epoch 00007: val_loss improved from 0.21915 to 0.20811, saving model to ./Results\\WineM.hdf5\n",
      "Epoch 8/200\n",
      "18/18 [==============================] - 0s 5ms/step - loss: 0.2117 - accuracy: 0.9231 - val_loss: 0.2043 - val_accuracy: 0.9185\n",
      "\n",
      "Epoch 00008: val_loss improved from 0.20811 to 0.20426, saving model to ./Results\\WineM.hdf5\n",
      "Epoch 9/200\n",
      "18/18 [==============================] - 0s 5ms/step - loss: 0.1947 - accuracy: 0.9239 - val_loss: 0.2017 - val_accuracy: 0.9169\n",
      "\n",
      "Epoch 00009: val_loss improved from 0.20426 to 0.20172, saving model to ./Results\\WineM.hdf5\n",
      "Epoch 10/200\n",
      "18/18 [==============================] - 0s 4ms/step - loss: 0.1972 - accuracy: 0.9260 - val_loss: 0.1941 - val_accuracy: 0.9238\n",
      "\n",
      "Epoch 00010: val_loss improved from 0.20172 to 0.19407, saving model to ./Results\\WineM.hdf5\n",
      "Epoch 11/200\n",
      "18/18 [==============================] - 0s 4ms/step - loss: 0.2012 - accuracy: 0.9237 - val_loss: 0.1895 - val_accuracy: 0.9269\n",
      "\n",
      "Epoch 00011: val_loss improved from 0.19407 to 0.18946, saving model to ./Results\\WineM.hdf5\n",
      "Epoch 12/200\n",
      "18/18 [==============================] - 0s 4ms/step - loss: 0.1914 - accuracy: 0.9293 - val_loss: 0.1891 - val_accuracy: 0.9315\n",
      "\n",
      "Epoch 00012: val_loss improved from 0.18946 to 0.18911, saving model to ./Results\\WineM.hdf5\n",
      "Epoch 13/200\n",
      "18/18 [==============================] - 0s 4ms/step - loss: 0.1940 - accuracy: 0.9261 - val_loss: 0.1833 - val_accuracy: 0.9292\n",
      "\n",
      "Epoch 00013: val_loss improved from 0.18911 to 0.18335, saving model to ./Results\\WineM.hdf5\n",
      "Epoch 14/200\n",
      "18/18 [==============================] - 0s 4ms/step - loss: 0.1875 - accuracy: 0.9287 - val_loss: 0.1825 - val_accuracy: 0.9308\n",
      "\n",
      "Epoch 00014: val_loss improved from 0.18335 to 0.18249, saving model to ./Results\\WineM.hdf5\n",
      "Epoch 15/200\n",
      "18/18 [==============================] - 0s 4ms/step - loss: 0.1702 - accuracy: 0.9395 - val_loss: 0.1770 - val_accuracy: 0.9338\n",
      "\n",
      "Epoch 00015: val_loss improved from 0.18249 to 0.17702, saving model to ./Results\\WineM.hdf5\n",
      "Epoch 16/200\n",
      "18/18 [==============================] - 0s 5ms/step - loss: 0.1697 - accuracy: 0.9393 - val_loss: 0.1749 - val_accuracy: 0.9385\n",
      "\n",
      "Epoch 00016: val_loss improved from 0.17702 to 0.17491, saving model to ./Results\\WineM.hdf5\n",
      "Epoch 17/200\n",
      "18/18 [==============================] - 0s 4ms/step - loss: 0.1631 - accuracy: 0.9415 - val_loss: 0.1771 - val_accuracy: 0.9354\n",
      "\n",
      "Epoch 00017: val_loss did not improve from 0.17491\n",
      "Epoch 18/200\n",
      "18/18 [==============================] - 0s 5ms/step - loss: 0.1655 - accuracy: 0.9409 - val_loss: 0.1694 - val_accuracy: 0.9369\n",
      "\n",
      "Epoch 00018: val_loss improved from 0.17491 to 0.16945, saving model to ./Results\\WineM.hdf5\n",
      "Epoch 19/200\n",
      "18/18 [==============================] - 0s 4ms/step - loss: 0.1639 - accuracy: 0.9413 - val_loss: 0.1654 - val_accuracy: 0.9400\n",
      "\n",
      "Epoch 00019: val_loss improved from 0.16945 to 0.16543, saving model to ./Results\\WineM.hdf5\n",
      "Epoch 20/200\n",
      "18/18 [==============================] - 0s 5ms/step - loss: 0.1631 - accuracy: 0.9436 - val_loss: 0.1634 - val_accuracy: 0.9400\n",
      "\n",
      "Epoch 00020: val_loss improved from 0.16543 to 0.16342, saving model to ./Results\\WineM.hdf5\n",
      "Epoch 21/200\n",
      "18/18 [==============================] - 0s 4ms/step - loss: 0.1607 - accuracy: 0.9410 - val_loss: 0.1645 - val_accuracy: 0.9415\n",
      "\n",
      "Epoch 00021: val_loss did not improve from 0.16342\n",
      "Epoch 22/200\n",
      "18/18 [==============================] - 0s 4ms/step - loss: 0.1552 - accuracy: 0.9431 - val_loss: 0.1640 - val_accuracy: 0.9423\n",
      "\n",
      "Epoch 00022: val_loss did not improve from 0.16342\n",
      "Epoch 23/200\n",
      "18/18 [==============================] - 0s 4ms/step - loss: 0.1498 - accuracy: 0.9456 - val_loss: 0.1578 - val_accuracy: 0.9438\n",
      "\n",
      "Epoch 00023: val_loss improved from 0.16342 to 0.15776, saving model to ./Results\\WineM.hdf5\n",
      "Epoch 24/200\n",
      "18/18 [==============================] - 0s 5ms/step - loss: 0.1506 - accuracy: 0.9477 - val_loss: 0.1521 - val_accuracy: 0.9446\n",
      "\n",
      "Epoch 00024: val_loss improved from 0.15776 to 0.15207, saving model to ./Results\\WineM.hdf5\n",
      "Epoch 25/200\n",
      "18/18 [==============================] - 0s 5ms/step - loss: 0.1530 - accuracy: 0.9449 - val_loss: 0.1492 - val_accuracy: 0.9477\n",
      "\n",
      "Epoch 00025: val_loss improved from 0.15207 to 0.14924, saving model to ./Results\\WineM.hdf5\n",
      "Epoch 26/200\n",
      "18/18 [==============================] - 0s 4ms/step - loss: 0.1481 - accuracy: 0.9487 - val_loss: 0.1465 - val_accuracy: 0.9477\n",
      "\n",
      "Epoch 00026: val_loss improved from 0.14924 to 0.14649, saving model to ./Results\\WineM.hdf5\n",
      "Epoch 27/200\n",
      "18/18 [==============================] - 0s 5ms/step - loss: 0.1438 - accuracy: 0.9497 - val_loss: 0.1437 - val_accuracy: 0.9477\n",
      "\n",
      "Epoch 00027: val_loss improved from 0.14649 to 0.14367, saving model to ./Results\\WineM.hdf5\n",
      "Epoch 28/200\n",
      "18/18 [==============================] - 0s 5ms/step - loss: 0.1445 - accuracy: 0.9476 - val_loss: 0.1414 - val_accuracy: 0.9508\n",
      "\n",
      "Epoch 00028: val_loss improved from 0.14367 to 0.14139, saving model to ./Results\\WineM.hdf5\n",
      "Epoch 29/200\n",
      "18/18 [==============================] - 0s 5ms/step - loss: 0.1349 - accuracy: 0.9521 - val_loss: 0.1397 - val_accuracy: 0.9492\n",
      "\n",
      "Epoch 00029: val_loss improved from 0.14139 to 0.13975, saving model to ./Results\\WineM.hdf5\n",
      "Epoch 30/200\n",
      "18/18 [==============================] - 0s 5ms/step - loss: 0.1330 - accuracy: 0.9491 - val_loss: 0.1461 - val_accuracy: 0.9485\n",
      "\n",
      "Epoch 00030: val_loss did not improve from 0.13975\n",
      "Epoch 31/200\n",
      "18/18 [==============================] - 0s 4ms/step - loss: 0.1364 - accuracy: 0.9525 - val_loss: 0.1439 - val_accuracy: 0.9500\n",
      "\n",
      "Epoch 00031: val_loss did not improve from 0.13975\n",
      "Epoch 32/200\n",
      "18/18 [==============================] - 0s 4ms/step - loss: 0.1415 - accuracy: 0.9492 - val_loss: 0.1307 - val_accuracy: 0.9492\n",
      "\n",
      "Epoch 00032: val_loss improved from 0.13975 to 0.13072, saving model to ./Results\\WineM.hdf5\n",
      "Epoch 33/200\n",
      "18/18 [==============================] - 0s 5ms/step - loss: 0.1353 - accuracy: 0.9490 - val_loss: 0.1298 - val_accuracy: 0.9523\n",
      "\n",
      "Epoch 00033: val_loss improved from 0.13072 to 0.12980, saving model to ./Results\\WineM.hdf5\n",
      "Epoch 34/200\n",
      "18/18 [==============================] - 0s 5ms/step - loss: 0.1265 - accuracy: 0.9517 - val_loss: 0.1473 - val_accuracy: 0.9508\n",
      "\n",
      "Epoch 00034: val_loss did not improve from 0.12980\n",
      "Epoch 35/200\n",
      "18/18 [==============================] - 0s 5ms/step - loss: 0.1267 - accuracy: 0.9551 - val_loss: 0.1252 - val_accuracy: 0.9523\n",
      "\n",
      "Epoch 00035: val_loss improved from 0.12980 to 0.12525, saving model to ./Results\\WineM.hdf5\n",
      "Epoch 36/200\n",
      "18/18 [==============================] - 0s 5ms/step - loss: 0.1263 - accuracy: 0.9528 - val_loss: 0.1286 - val_accuracy: 0.9523\n",
      "\n",
      "Epoch 00036: val_loss did not improve from 0.12525\n",
      "Epoch 37/200\n",
      "18/18 [==============================] - 0s 4ms/step - loss: 0.1188 - accuracy: 0.9560 - val_loss: 0.1203 - val_accuracy: 0.9523\n",
      "\n",
      "Epoch 00037: val_loss improved from 0.12525 to 0.12034, saving model to ./Results\\WineM.hdf5\n",
      "Epoch 38/200\n",
      "18/18 [==============================] - 0s 4ms/step - loss: 0.1182 - accuracy: 0.9543 - val_loss: 0.1186 - val_accuracy: 0.9515\n",
      "\n",
      "Epoch 00038: val_loss improved from 0.12034 to 0.11861, saving model to ./Results\\WineM.hdf5\n",
      "Epoch 39/200\n",
      "18/18 [==============================] - 0s 4ms/step - loss: 0.1123 - accuracy: 0.9553 - val_loss: 0.1202 - val_accuracy: 0.9538\n",
      "\n",
      "Epoch 00039: val_loss did not improve from 0.11861\n",
      "Epoch 40/200\n",
      "18/18 [==============================] - 0s 4ms/step - loss: 0.1184 - accuracy: 0.9581 - val_loss: 0.1140 - val_accuracy: 0.9554\n",
      "\n",
      "Epoch 00040: val_loss improved from 0.11861 to 0.11396, saving model to ./Results\\WineM.hdf5\n",
      "Epoch 41/200\n",
      "18/18 [==============================] - 0s 5ms/step - loss: 0.1115 - accuracy: 0.9614 - val_loss: 0.1189 - val_accuracy: 0.9569\n",
      "\n",
      "Epoch 00041: val_loss did not improve from 0.11396\n",
      "Epoch 42/200\n",
      "18/18 [==============================] - 0s 5ms/step - loss: 0.1194 - accuracy: 0.9597 - val_loss: 0.1105 - val_accuracy: 0.9562\n",
      "\n",
      "Epoch 00042: val_loss improved from 0.11396 to 0.11050, saving model to ./Results\\WineM.hdf5\n",
      "Epoch 43/200\n",
      "18/18 [==============================] - 0s 4ms/step - loss: 0.1068 - accuracy: 0.9589 - val_loss: 0.1084 - val_accuracy: 0.9554\n",
      "\n",
      "Epoch 00043: val_loss improved from 0.11050 to 0.10841, saving model to ./Results\\WineM.hdf5\n",
      "Epoch 44/200\n",
      "18/18 [==============================] - 0s 5ms/step - loss: 0.1071 - accuracy: 0.9597 - val_loss: 0.1070 - val_accuracy: 0.9562\n",
      "\n",
      "Epoch 00044: val_loss improved from 0.10841 to 0.10701, saving model to ./Results\\WineM.hdf5\n",
      "Epoch 45/200\n",
      "18/18 [==============================] - 0s 5ms/step - loss: 0.1103 - accuracy: 0.9606 - val_loss: 0.1147 - val_accuracy: 0.9569\n",
      "\n",
      "Epoch 00045: val_loss did not improve from 0.10701\n",
      "Epoch 46/200\n",
      "18/18 [==============================] - 0s 4ms/step - loss: 0.1092 - accuracy: 0.9607 - val_loss: 0.1050 - val_accuracy: 0.9585\n",
      "\n",
      "Epoch 00046: val_loss improved from 0.10701 to 0.10499, saving model to ./Results\\WineM.hdf5\n",
      "Epoch 47/200\n",
      "18/18 [==============================] - 0s 4ms/step - loss: 0.0912 - accuracy: 0.9656 - val_loss: 0.1067 - val_accuracy: 0.9615\n",
      "\n",
      "Epoch 00047: val_loss did not improve from 0.10499\n",
      "Epoch 48/200\n",
      "18/18 [==============================] - 0s 4ms/step - loss: 0.1030 - accuracy: 0.9624 - val_loss: 0.1022 - val_accuracy: 0.9631\n",
      "\n",
      "Epoch 00048: val_loss improved from 0.10499 to 0.10216, saving model to ./Results\\WineM.hdf5\n",
      "Epoch 49/200\n",
      "18/18 [==============================] - 0s 4ms/step - loss: 0.1055 - accuracy: 0.9647 - val_loss: 0.1170 - val_accuracy: 0.9569\n",
      "\n",
      "Epoch 00049: val_loss did not improve from 0.10216\n",
      "Epoch 50/200\n",
      "18/18 [==============================] - 0s 5ms/step - loss: 0.0993 - accuracy: 0.9634 - val_loss: 0.0995 - val_accuracy: 0.9592\n",
      "\n",
      "Epoch 00050: val_loss improved from 0.10216 to 0.09947, saving model to ./Results\\WineM.hdf5\n",
      "Epoch 51/200\n",
      "18/18 [==============================] - 0s 5ms/step - loss: 0.1015 - accuracy: 0.9658 - val_loss: 0.0988 - val_accuracy: 0.9646\n",
      "\n",
      "Epoch 00051: val_loss improved from 0.09947 to 0.09880, saving model to ./Results\\WineM.hdf5\n",
      "Epoch 52/200\n",
      "18/18 [==============================] - 0s 5ms/step - loss: 0.0935 - accuracy: 0.9718 - val_loss: 0.0995 - val_accuracy: 0.9669\n",
      "\n",
      "Epoch 00052: val_loss did not improve from 0.09880\n",
      "Epoch 53/200\n",
      "18/18 [==============================] - 0s 5ms/step - loss: 0.0921 - accuracy: 0.9682 - val_loss: 0.1298 - val_accuracy: 0.9608\n",
      "\n",
      "Epoch 00053: val_loss did not improve from 0.09880\n",
      "Epoch 54/200\n",
      "18/18 [==============================] - 0s 5ms/step - loss: 0.0981 - accuracy: 0.9732 - val_loss: 0.0981 - val_accuracy: 0.9677\n",
      "\n",
      "Epoch 00054: val_loss improved from 0.09880 to 0.09814, saving model to ./Results\\WineM.hdf5\n",
      "Epoch 55/200\n",
      "18/18 [==============================] - 0s 5ms/step - loss: 0.1006 - accuracy: 0.9656 - val_loss: 0.0930 - val_accuracy: 0.9669\n",
      "\n",
      "Epoch 00055: val_loss improved from 0.09814 to 0.09296, saving model to ./Results\\WineM.hdf5\n",
      "Epoch 56/200\n",
      "18/18 [==============================] - 0s 4ms/step - loss: 0.0873 - accuracy: 0.9724 - val_loss: 0.0925 - val_accuracy: 0.9669\n",
      "\n",
      "Epoch 00056: val_loss improved from 0.09296 to 0.09255, saving model to ./Results\\WineM.hdf5\n",
      "Epoch 57/200\n",
      "18/18 [==============================] - 0s 4ms/step - loss: 0.0929 - accuracy: 0.9739 - val_loss: 0.0915 - val_accuracy: 0.9669\n",
      "\n",
      "Epoch 00057: val_loss improved from 0.09255 to 0.09153, saving model to ./Results\\WineM.hdf5\n",
      "Epoch 58/200\n",
      "18/18 [==============================] - 0s 5ms/step - loss: 0.0859 - accuracy: 0.9730 - val_loss: 0.0925 - val_accuracy: 0.9654\n",
      "\n",
      "Epoch 00058: val_loss did not improve from 0.09153\n",
      "Epoch 59/200\n",
      "18/18 [==============================] - 0s 4ms/step - loss: 0.0930 - accuracy: 0.9691 - val_loss: 0.0956 - val_accuracy: 0.9708\n",
      "\n",
      "Epoch 00059: val_loss did not improve from 0.09153\n",
      "Epoch 60/200\n",
      "18/18 [==============================] - 0s 4ms/step - loss: 0.0830 - accuracy: 0.9744 - val_loss: 0.0882 - val_accuracy: 0.9700\n",
      "\n",
      "Epoch 00060: val_loss improved from 0.09153 to 0.08816, saving model to ./Results\\WineM.hdf5\n",
      "Epoch 61/200\n",
      "18/18 [==============================] - 0s 5ms/step - loss: 0.0918 - accuracy: 0.9707 - val_loss: 0.0908 - val_accuracy: 0.9708\n",
      "\n",
      "Epoch 00061: val_loss did not improve from 0.08816\n",
      "Epoch 62/200\n",
      "18/18 [==============================] - 0s 4ms/step - loss: 0.0851 - accuracy: 0.9734 - val_loss: 0.0891 - val_accuracy: 0.9662\n",
      "\n",
      "Epoch 00062: val_loss did not improve from 0.08816\n",
      "Epoch 63/200\n",
      "18/18 [==============================] - 0s 5ms/step - loss: 0.0822 - accuracy: 0.9705 - val_loss: 0.0857 - val_accuracy: 0.9692\n",
      "\n",
      "Epoch 00063: val_loss improved from 0.08816 to 0.08566, saving model to ./Results\\WineM.hdf5\n",
      "Epoch 64/200\n",
      "18/18 [==============================] - 0s 4ms/step - loss: 0.0770 - accuracy: 0.9762 - val_loss: 0.0839 - val_accuracy: 0.9708\n",
      "\n",
      "Epoch 00064: val_loss improved from 0.08566 to 0.08393, saving model to ./Results\\WineM.hdf5\n",
      "Epoch 65/200\n",
      "18/18 [==============================] - 0s 4ms/step - loss: 0.0840 - accuracy: 0.9743 - val_loss: 0.0831 - val_accuracy: 0.9708\n",
      "\n",
      "Epoch 00065: val_loss improved from 0.08393 to 0.08310, saving model to ./Results\\WineM.hdf5\n",
      "Epoch 66/200\n",
      "18/18 [==============================] - 0s 4ms/step - loss: 0.0789 - accuracy: 0.9760 - val_loss: 0.0826 - val_accuracy: 0.9723\n",
      "\n",
      "Epoch 00066: val_loss improved from 0.08310 to 0.08258, saving model to ./Results\\WineM.hdf5\n",
      "Epoch 67/200\n",
      "18/18 [==============================] - 0s 4ms/step - loss: 0.0778 - accuracy: 0.9757 - val_loss: 0.0819 - val_accuracy: 0.9731\n",
      "\n",
      "Epoch 00067: val_loss improved from 0.08258 to 0.08186, saving model to ./Results\\WineM.hdf5\n",
      "Epoch 68/200\n",
      "18/18 [==============================] - 0s 4ms/step - loss: 0.0745 - accuracy: 0.9770 - val_loss: 0.0814 - val_accuracy: 0.9723\n",
      "\n",
      "Epoch 00068: val_loss improved from 0.08186 to 0.08139, saving model to ./Results\\WineM.hdf5\n",
      "Epoch 69/200\n",
      "18/18 [==============================] - 0s 4ms/step - loss: 0.0815 - accuracy: 0.9744 - val_loss: 0.0815 - val_accuracy: 0.9685\n",
      "\n",
      "Epoch 00069: val_loss did not improve from 0.08139\n",
      "Epoch 70/200\n",
      "18/18 [==============================] - 0s 5ms/step - loss: 0.0755 - accuracy: 0.9764 - val_loss: 0.0811 - val_accuracy: 0.9754\n",
      "\n",
      "Epoch 00070: val_loss improved from 0.08139 to 0.08114, saving model to ./Results\\WineM.hdf5\n",
      "Epoch 71/200\n",
      "18/18 [==============================] - 0s 4ms/step - loss: 0.0691 - accuracy: 0.9805 - val_loss: 0.0865 - val_accuracy: 0.9715\n",
      "\n",
      "Epoch 00071: val_loss did not improve from 0.08114\n",
      "Epoch 72/200\n",
      "18/18 [==============================] - 0s 4ms/step - loss: 0.0808 - accuracy: 0.9776 - val_loss: 0.0783 - val_accuracy: 0.9708\n",
      "\n",
      "Epoch 00072: val_loss improved from 0.08114 to 0.07834, saving model to ./Results\\WineM.hdf5\n",
      "Epoch 73/200\n",
      "18/18 [==============================] - 0s 4ms/step - loss: 0.0741 - accuracy: 0.9770 - val_loss: 0.0782 - val_accuracy: 0.9708\n",
      "\n",
      "Epoch 00073: val_loss improved from 0.07834 to 0.07825, saving model to ./Results\\WineM.hdf5\n",
      "Epoch 74/200\n",
      "18/18 [==============================] - 0s 5ms/step - loss: 0.0726 - accuracy: 0.9767 - val_loss: 0.0774 - val_accuracy: 0.9754\n",
      "\n",
      "Epoch 00074: val_loss improved from 0.07825 to 0.07743, saving model to ./Results\\WineM.hdf5\n",
      "Epoch 75/200\n",
      "18/18 [==============================] - 0s 4ms/step - loss: 0.0761 - accuracy: 0.9784 - val_loss: 0.0775 - val_accuracy: 0.9762\n",
      "\n",
      "Epoch 00075: val_loss did not improve from 0.07743\n",
      "Epoch 76/200\n",
      "18/18 [==============================] - 0s 5ms/step - loss: 0.0748 - accuracy: 0.9787 - val_loss: 0.0768 - val_accuracy: 0.9785\n",
      "\n",
      "Epoch 00076: val_loss improved from 0.07743 to 0.07685, saving model to ./Results\\WineM.hdf5\n",
      "Epoch 77/200\n",
      "18/18 [==============================] - 0s 4ms/step - loss: 0.0775 - accuracy: 0.9763 - val_loss: 0.0766 - val_accuracy: 0.9746\n",
      "\n",
      "Epoch 00077: val_loss improved from 0.07685 to 0.07664, saving model to ./Results\\WineM.hdf5\n",
      "Epoch 78/200\n",
      "18/18 [==============================] - 0s 4ms/step - loss: 0.0812 - accuracy: 0.9740 - val_loss: 0.0754 - val_accuracy: 0.9762\n",
      "\n",
      "Epoch 00078: val_loss improved from 0.07664 to 0.07545, saving model to ./Results\\WineM.hdf5\n",
      "Epoch 79/200\n",
      "18/18 [==============================] - 0s 4ms/step - loss: 0.0705 - accuracy: 0.9803 - val_loss: 0.0744 - val_accuracy: 0.9738\n",
      "\n",
      "Epoch 00079: val_loss improved from 0.07545 to 0.07439, saving model to ./Results\\WineM.hdf5\n",
      "Epoch 80/200\n",
      "18/18 [==============================] - 0s 5ms/step - loss: 0.0681 - accuracy: 0.9808 - val_loss: 0.0812 - val_accuracy: 0.9785\n",
      "\n",
      "Epoch 00080: val_loss did not improve from 0.07439\n",
      "Epoch 81/200\n",
      "18/18 [==============================] - 0s 4ms/step - loss: 0.0687 - accuracy: 0.9803 - val_loss: 0.0760 - val_accuracy: 0.9731\n",
      "\n",
      "Epoch 00081: val_loss did not improve from 0.07439\n",
      "Epoch 82/200\n",
      "18/18 [==============================] - 0s 4ms/step - loss: 0.0740 - accuracy: 0.9756 - val_loss: 0.0733 - val_accuracy: 0.9754\n",
      "\n",
      "Epoch 00082: val_loss improved from 0.07439 to 0.07331, saving model to ./Results\\WineM.hdf5\n",
      "Epoch 83/200\n",
      "18/18 [==============================] - 0s 4ms/step - loss: 0.0654 - accuracy: 0.9806 - val_loss: 0.0718 - val_accuracy: 0.9762\n",
      "\n",
      "Epoch 00083: val_loss improved from 0.07331 to 0.07181, saving model to ./Results\\WineM.hdf5\n",
      "Epoch 84/200\n",
      "18/18 [==============================] - 0s 4ms/step - loss: 0.0639 - accuracy: 0.9799 - val_loss: 0.0752 - val_accuracy: 0.9769\n",
      "\n",
      "Epoch 00084: val_loss did not improve from 0.07181\n",
      "Epoch 85/200\n",
      "18/18 [==============================] - 0s 5ms/step - loss: 0.0670 - accuracy: 0.9799 - val_loss: 0.0739 - val_accuracy: 0.9754\n",
      "\n",
      "Epoch 00085: val_loss did not improve from 0.07181\n",
      "Epoch 86/200\n",
      "18/18 [==============================] - 0s 4ms/step - loss: 0.0738 - accuracy: 0.9780 - val_loss: 0.0776 - val_accuracy: 0.9754\n",
      "\n",
      "Epoch 00086: val_loss did not improve from 0.07181\n",
      "Epoch 87/200\n",
      "18/18 [==============================] - 0s 4ms/step - loss: 0.0630 - accuracy: 0.9764 - val_loss: 0.0739 - val_accuracy: 0.9746\n",
      "\n",
      "Epoch 00087: val_loss did not improve from 0.07181\n",
      "Epoch 88/200\n",
      "18/18 [==============================] - 0s 4ms/step - loss: 0.0704 - accuracy: 0.9797 - val_loss: 0.0848 - val_accuracy: 0.9723\n",
      "\n",
      "Epoch 00088: val_loss did not improve from 0.07181\n"
     ]
    },
    {
     "data": {
      "text/plain": [
       "<tensorflow.python.keras.callbacks.History at 0x1bc0e0f4160>"
      ]
     },
     "execution_count": 8,
     "metadata": {},
     "output_type": "execute_result"
    }
   ],
   "source": [
    "Wine.fit(X_train, Y_train, validation_data=(X_test,Y_test), epochs=200, batch_size=300,  verbose=1, callbacks=[ModelSave, EarlyStop])"
   ]
  },
  {
   "cell_type": "code",
   "execution_count": null,
   "id": "3cdc46df-b63d-403d-b1de-19cdd4ca55fe",
   "metadata": {},
   "outputs": [],
   "source": [
    "\n"
   ]
  },
  {
   "cell_type": "markdown",
   "id": "7a11cb4d-f866-48d8-947b-184d8b7b4075",
   "metadata": {},
   "source": [
    "### Model weight load and evaluate it "
   ]
  },
  {
   "cell_type": "code",
   "execution_count": 9,
   "id": "03cf63be-162c-4955-a6c6-82249d32d982",
   "metadata": {},
   "outputs": [
    {
     "name": "stdout",
     "output_type": "stream",
     "text": [
      "Before loading weights\n",
      "41/41 [==============================] - 0s 1ms/step - loss: 12.6794 - accuracy: 0.2547\n",
      "[12.757585525512695, 0.24384614825248718]\n",
      "\n",
      "After loading weights\n",
      "41/41 [==============================] - 0s 1ms/step - loss: 0.0718 - accuracy: 0.9762\n",
      "[0.07180698961019516, 0.9761538505554199]\n"
     ]
    }
   ],
   "source": [
    "WineRe = WineModel()\n",
    "WineRe.compile(loss=tf.losses.binary_crossentropy, optimizer='adam', metrics=['accuracy'])\n",
    "print('Before loading weights')\n",
    "print(WineRe.evaluate(X_test,Y_test))\n",
    "print()\n",
    "\n",
    "WineRe.load_weights(ModelSaveSameName)\n",
    "print('After loading weights')\n",
    "print(WineRe.evaluate(X_test,Y_test))"
   ]
  },
  {
   "cell_type": "code",
   "execution_count": null,
   "id": "9509a232-4885-4958-9d71-4421980780f7",
   "metadata": {},
   "outputs": [],
   "source": []
  },
  {
   "cell_type": "markdown",
   "id": "a7e5729a-f82f-4479-9fc2-e29a6bf0b986",
   "metadata": {},
   "source": [
    "### Plot loss graphs"
   ]
  },
  {
   "cell_type": "code",
   "execution_count": 10,
   "id": "01703261-c3a8-4851-a2ca-3bfe6241e29b",
   "metadata": {},
   "outputs": [
    {
     "data": {
      "text/plain": [
       "Text(0, 0.5, 'loss')"
      ]
     },
     "execution_count": 10,
     "metadata": {},
     "output_type": "execute_result"
    },
    {
     "data": {
      "image/png": "[encoded data removed]",
      "text/plain": [
       "<Figure size 640x480 with 1 Axes>"
      ]
     },
     "metadata": {},
     "output_type": "display_data"
    }
   ],
   "source": [
    "StartIDX = 5\n",
    "plt.plot(Wine.history.history['loss'][StartIDX:], label='Tr')\n",
    "plt.plot(Wine.history.history['val_loss'][StartIDX:], label='Val')\n",
    "plt.legend() \n",
    "plt.xlabel('epoch')\n",
    "plt.ylabel('loss')"
   ]
  },
  {
   "cell_type": "markdown",
   "id": "cd1f0e0e-8ca9-4bed-96ed-f9e8b3b55229",
   "metadata": {},
   "source": [
    "### Check the number of epochs"
   ]
  },
  {
   "cell_type": "code",
   "execution_count": 11,
   "id": "23d2e06c-0696-4894-bb89-009326ee8839",
   "metadata": {},
   "outputs": [
    {
     "data": {
      "text/plain": [
       "88"
      ]
     },
     "execution_count": 11,
     "metadata": {},
     "output_type": "execute_result"
    }
   ],
   "source": [
    "len(Wine.history.history['loss'])"
   ]
  },
  {
   "cell_type": "code",
   "execution_count": null,
   "id": "4345d5e3-aaba-45bc-9f2d-a5126fac5496",
   "metadata": {},
   "outputs": [],
   "source": []
  }
 ],
 "metadata": {
  "kernelspec": {
   "display_name": "Python 3 (ipykernel)",
   "language": "python",
   "name": "python3"
  },
  "language_info": {
   "codemirror_mode": {
    "name": "ipython",
    "version": 3
   },
   "file_extension": ".py",
   "mimetype": "text/x-python",
   "name": "python",
   "nbconvert_exporter": "python",
   "pygments_lexer": "ipython3",
   "version": "3.8.13"
  }
 },
 "nbformat": 4,
 "nbformat_minor": 5
}
