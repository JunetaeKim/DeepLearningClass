{
 "cells": [
  {
   "cell_type": "markdown",
   "metadata": {},
   "source": [
    "#### Import tf "
   ]
  },
  {
   "cell_type": "code",
   "execution_count": 1,
   "metadata": {},
   "outputs": [],
   "source": [
    "import tensorflow as tf"
   ]
  },
  {
   "cell_type": "code",
   "execution_count": null,
   "metadata": {},
   "outputs": [],
   "source": []
  },
  {
   "cell_type": "markdown",
   "metadata": {},
   "source": [
    "#### version check"
   ]
  },
  {
   "cell_type": "code",
   "execution_count": 2,
   "metadata": {},
   "outputs": [
    {
     "data": {
      "text/plain": [
       "'2.10.0'"
      ]
     },
     "execution_count": 2,
     "metadata": {},
     "output_type": "execute_result"
    }
   ],
   "source": [
    "tf.__version__"
   ]
  },
  {
   "cell_type": "code",
   "execution_count": null,
   "metadata": {},
   "outputs": [],
   "source": []
  },
  {
   "cell_type": "markdown",
   "metadata": {},
   "source": [
    "#### Import layers from keras api"
   ]
  },
  {
   "cell_type": "code",
   "execution_count": 3,
   "metadata": {},
   "outputs": [],
   "source": [
    "from tensorflow.keras.layers import Dense, LSTM, Conv1D"
   ]
  },
  {
   "cell_type": "code",
   "execution_count": 4,
   "metadata": {},
   "outputs": [
    {
     "data": {
      "text/plain": [
       "keras.layers.rnn.lstm.LSTM"
      ]
     },
     "execution_count": 4,
     "metadata": {},
     "output_type": "execute_result"
    }
   ],
   "source": [
    "LSTM"
   ]
  },
  {
   "cell_type": "code",
   "execution_count": null,
   "metadata": {},
   "outputs": [],
   "source": []
  },
  {
   "cell_type": "markdown",
   "metadata": {},
   "source": [
    "### Working test"
   ]
  },
  {
   "cell_type": "code",
   "execution_count": 8,
   "metadata": {
    "scrolled": true
   },
   "outputs": [
    {
     "name": "stdout",
     "output_type": "stream",
     "text": [
      "Num GPUs Available:  1\n",
      "Epoch 1/6\n",
      "750/750 [==============================] - 2s 2ms/step - loss: 0.3422 - accuracy: 0.9055 - val_loss: 0.1783 - val_accuracy: 0.9515\n",
      "Epoch 2/6\n",
      "750/750 [==============================] - 2s 2ms/step - loss: 0.1507 - accuracy: 0.9569 - val_loss: 0.1331 - val_accuracy: 0.9629\n",
      "Epoch 3/6\n",
      "750/750 [==============================] - 2s 2ms/step - loss: 0.1053 - accuracy: 0.9705 - val_loss: 0.1036 - val_accuracy: 0.9688\n",
      "Epoch 4/6\n",
      "750/750 [==============================] - 2s 2ms/step - loss: 0.0787 - accuracy: 0.9778 - val_loss: 0.0992 - val_accuracy: 0.9703\n",
      "Epoch 5/6\n",
      "750/750 [==============================] - 2s 2ms/step - loss: 0.0627 - accuracy: 0.9819 - val_loss: 0.0931 - val_accuracy: 0.9734\n",
      "Epoch 6/6\n",
      "750/750 [==============================] - 2s 2ms/step - loss: 0.0507 - accuracy: 0.9853 - val_loss: 0.0830 - val_accuracy: 0.9754\n",
      "313/313 [==============================] - 1s 2ms/step - loss: 0.0786 - accuracy: 0.9769\n",
      "Test accuracy: 97.69%\n"
     ]
    }
   ],
   "source": [
    "import tensorflow as tf\n",
    "from tensorflow import keras\n",
    "from tensorflow.keras import layers\n",
    "from tensorflow.keras.datasets import mnist\n",
    "\n",
    "# Check if TensorFlow is using GPU\n",
    "print(\"Num GPUs Available: \", len(tf.config.list_physical_devices('GPU')))\n",
    "\n",
    "# Load MNIST dataset\n",
    "(train_images, train_labels), (test_images, test_labels) = mnist.load_data()\n",
    "\n",
    "# Preprocess the data by scaling the pixel values of the images to the range [0, 1]\n",
    "train_images = train_images.astype(\"float32\") / 255.0\n",
    "test_images = test_images.astype(\"float32\") / 255.0\n",
    "\n",
    "# Build a simple model\n",
    "model = keras.Sequential(\n",
    "    [\n",
    "        keras.Input(shape=(28, 28)),  # Input layer, specifying the shape of the input data\n",
    "        layers.Flatten(),  # Flatten the 28x28 images to vectors of size 784\n",
    "        layers.Dense(128, activation='relu'),  # Dense layer with 128 units and ReLU activation\n",
    "        layers.Dense(10),  # Output layer with 10 units (for the 10 classes)\n",
    "    ]\n",
    ")\n",
    "\n",
    "# Compile the model\n",
    "model.compile(\n",
    "    optimizer='adam',  # Optimizer\n",
    "    loss=keras.losses.SparseCategoricalCrossentropy(from_logits=True),  # Loss function\n",
    "    metrics=[\"accuracy\"],  # Metric to monitor\n",
    ")\n",
    "\n",
    "# Train the model\n",
    "model.fit(train_images, train_labels, batch_size=64, epochs=6, validation_split=0.2)\n",
    "\n",
    "# Evaluate the model on the test dataset\n",
    "test_loss, test_accuracy = model.evaluate(test_images, test_labels)\n",
    "\n",
    "print(f\"Test accuracy: {test_accuracy*100:.2f}%\")\n"
   ]
  }
 ],
 "metadata": {
  "kernelspec": {
   "display_name": "Python 3 (ipykernel)",
   "language": "python",
   "name": "python3"
  },
  "language_info": {
   "codemirror_mode": {
    "name": "ipython",
    "version": 3
   },
   "file_extension": ".py",
   "mimetype": "text/x-python",
   "name": "python",
   "nbconvert_exporter": "python",
   "pygments_lexer": "ipython3",
   "version": "3.8.5"
  }
 },
 "nbformat": 4,
 "nbformat_minor": 4
}
