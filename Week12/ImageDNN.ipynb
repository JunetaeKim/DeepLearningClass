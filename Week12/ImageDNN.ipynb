{
 "cells": [
  {
   "cell_type": "code",
   "execution_count": 133,
   "metadata": {},
   "outputs": [],
   "source": [
    "import os\n",
    "import numpy as np\n",
    "\n",
    "import tensorflow as tf\n",
    "from tensorflow.keras.datasets import mnist\n",
    "from tensorflow.keras.utils import to_categorical\n",
    "import matplotlib.pyplot as plt\n",
    "\n",
    "from tensorflow.keras.layers import Dense, Input\n",
    "from tensorflow.keras import Model\n",
    "from tensorflow.keras.callbacks import ModelCheckpoint, EarlyStopping"
   ]
  },
  {
   "cell_type": "code",
   "execution_count": null,
   "metadata": {},
   "outputs": [],
   "source": []
  },
  {
   "cell_type": "markdown",
   "metadata": {},
   "source": [
    "### Data load"
   ]
  },
  {
   "cell_type": "code",
   "execution_count": 134,
   "metadata": {},
   "outputs": [
    {
     "data": {
      "text/plain": [
       "((60000, 28, 28), (10000, 28, 28))"
      ]
     },
     "execution_count": 134,
     "metadata": {},
     "output_type": "execute_result"
    }
   ],
   "source": [
    "(X_train, Y_train),(X_test, Y_test) = mnist.load_data()\n",
    "X_train.shape, X_test.shape"
   ]
  },
  {
   "cell_type": "markdown",
   "metadata": {},
   "source": [
    "### Showing images"
   ]
  },
  {
   "cell_type": "code",
   "execution_count": 119,
   "metadata": {},
   "outputs": [
    {
     "data": {
      "image/png": "[encoded data removed]",
      "text/plain": [
       "<Figure size 200x500 with 10 Axes>"
      ]
     },
     "metadata": {},
     "output_type": "display_data"
    }
   ],
   "source": [
    "plt.figure(figsize=(2,5))\n",
    "for i in range(10):\n",
    "    plt.subplot(10,1,i+1)\n",
    "    plt.imshow(X_train[Y_train==i][0], cmap='Greys')\n",
    "    plt.axis('off')\n",
    "    "
   ]
  },
  {
   "cell_type": "markdown",
   "metadata": {},
   "source": [
    "### Print those numbers as pixel values"
   ]
  },
  {
   "cell_type": "code",
   "execution_count": 109,
   "metadata": {
    "scrolled": true,
    "tags": []
   },
   "outputs": [
    {
     "name": "stdout",
     "output_type": "stream",
     "text": [
      "0\t0\t0\t0\t0\t0\t0\t0\t0\t0\t0\t0\t0\t0\t0\t0\t0\t0\t0\t0\t0\t0\t0\t0\t0\t0\t0\t0\t\n",
      "0\t0\t0\t0\t0\t0\t0\t0\t0\t0\t0\t0\t0\t0\t0\t0\t0\t0\t0\t0\t0\t0\t0\t0\t0\t0\t0\t0\t\n",
      "0\t0\t0\t0\t0\t0\t0\t0\t0\t0\t0\t0\t0\t0\t0\t0\t0\t0\t0\t0\t0\t0\t0\t0\t0\t0\t0\t0\t\n",
      "0\t0\t0\t0\t0\t0\t0\t0\t0\t0\t0\t0\t0\t0\t0\t0\t0\t0\t0\t0\t0\t0\t0\t0\t0\t0\t0\t0\t\n",
      "0\t0\t0\t0\t0\t0\t0\t0\t0\t0\t0\t0\t0\t0\t0\t51\t159\t253\t159\t50\t0\t0\t0\t0\t0\t0\t0\t0\t\n",
      "0\t0\t0\t0\t0\t0\t0\t0\t0\t0\t0\t0\t0\t0\t48\t238\t252\t252\t252\t237\t0\t0\t0\t0\t0\t0\t0\t0\t\n",
      "0\t0\t0\t0\t0\t0\t0\t0\t0\t0\t0\t0\t0\t54\t227\t253\t252\t239\t233\t252\t57\t6\t0\t0\t0\t0\t0\t0\t\n",
      "0\t0\t0\t0\t0\t0\t0\t0\t0\t0\t0\t10\t60\t224\t252\t253\t252\t202\t84\t252\t253\t122\t0\t0\t0\t0\t0\t0\t\n",
      "0\t0\t0\t0\t0\t0\t0\t0\t0\t0\t0\t163\t252\t252\t252\t253\t252\t252\t96\t189\t253\t167\t0\t0\t0\t0\t0\t0\t\n",
      "0\t0\t0\t0\t0\t0\t0\t0\t0\t0\t51\t238\t253\t253\t190\t114\t253\t228\t47\t79\t255\t168\t0\t0\t0\t0\t0\t0\t\n",
      "0\t0\t0\t0\t0\t0\t0\t0\t0\t48\t238\t252\t252\t179\t12\t75\t121\t21\t0\t0\t253\t243\t50\t0\t0\t0\t0\t0\t\n",
      "0\t0\t0\t0\t0\t0\t0\t0\t38\t165\t253\t233\t208\t84\t0\t0\t0\t0\t0\t0\t253\t252\t165\t0\t0\t0\t0\t0\t\n",
      "0\t0\t0\t0\t0\t0\t0\t7\t178\t252\t240\t71\t19\t28\t0\t0\t0\t0\t0\t0\t253\t252\t195\t0\t0\t0\t0\t0\t\n",
      "0\t0\t0\t0\t0\t0\t0\t57\t252\t252\t63\t0\t0\t0\t0\t0\t0\t0\t0\t0\t253\t252\t195\t0\t0\t0\t0\t0\t\n",
      "0\t0\t0\t0\t0\t0\t0\t198\t253\t190\t0\t0\t0\t0\t0\t0\t0\t0\t0\t0\t255\t253\t196\t0\t0\t0\t0\t0\t\n",
      "0\t0\t0\t0\t0\t0\t76\t246\t252\t112\t0\t0\t0\t0\t0\t0\t0\t0\t0\t0\t253\t252\t148\t0\t0\t0\t0\t0\t\n",
      "0\t0\t0\t0\t0\t0\t85\t252\t230\t25\t0\t0\t0\t0\t0\t0\t0\t0\t7\t135\t253\t186\t12\t0\t0\t0\t0\t0\t\n",
      "0\t0\t0\t0\t0\t0\t85\t252\t223\t0\t0\t0\t0\t0\t0\t0\t0\t7\t131\t252\t225\t71\t0\t0\t0\t0\t0\t0\t\n",
      "0\t0\t0\t0\t0\t0\t85\t252\t145\t0\t0\t0\t0\t0\t0\t0\t48\t165\t252\t173\t0\t0\t0\t0\t0\t0\t0\t0\t\n",
      "0\t0\t0\t0\t0\t0\t86\t253\t225\t0\t0\t0\t0\t0\t0\t114\t238\t253\t162\t0\t0\t0\t0\t0\t0\t0\t0\t0\t\n",
      "0\t0\t0\t0\t0\t0\t85\t252\t249\t146\t48\t29\t85\t178\t225\t253\t223\t167\t56\t0\t0\t0\t0\t0\t0\t0\t0\t0\t\n",
      "0\t0\t0\t0\t0\t0\t85\t252\t252\t252\t229\t215\t252\t252\t252\t196\t130\t0\t0\t0\t0\t0\t0\t0\t0\t0\t0\t0\t\n",
      "0\t0\t0\t0\t0\t0\t28\t199\t252\t252\t253\t252\t252\t233\t145\t0\t0\t0\t0\t0\t0\t0\t0\t0\t0\t0\t0\t0\t\n",
      "0\t0\t0\t0\t0\t0\t0\t25\t128\t252\t253\t252\t141\t37\t0\t0\t0\t0\t0\t0\t0\t0\t0\t0\t0\t0\t0\t0\t\n",
      "0\t0\t0\t0\t0\t0\t0\t0\t0\t0\t0\t0\t0\t0\t0\t0\t0\t0\t0\t0\t0\t0\t0\t0\t0\t0\t0\t0\t\n",
      "0\t0\t0\t0\t0\t0\t0\t0\t0\t0\t0\t0\t0\t0\t0\t0\t0\t0\t0\t0\t0\t0\t0\t0\t0\t0\t0\t0\t\n",
      "0\t0\t0\t0\t0\t0\t0\t0\t0\t0\t0\t0\t0\t0\t0\t0\t0\t0\t0\t0\t0\t0\t0\t0\t0\t0\t0\t0\t\n",
      "0\t0\t0\t0\t0\t0\t0\t0\t0\t0\t0\t0\t0\t0\t0\t0\t0\t0\t0\t0\t0\t0\t0\t0\t0\t0\t0\t0\t\n",
      "\n",
      "\n",
      "0\t0\t0\t0\t0\t0\t0\t0\t0\t0\t0\t0\t0\t0\t0\t0\t0\t0\t0\t0\t0\t0\t0\t0\t0\t0\t0\t0\t\n",
      "0\t0\t0\t0\t0\t0\t0\t0\t0\t0\t0\t0\t0\t0\t0\t0\t0\t0\t0\t0\t0\t0\t0\t0\t0\t0\t0\t0\t\n",
      "0\t0\t0\t0\t0\t0\t0\t0\t0\t0\t0\t0\t0\t0\t0\t0\t0\t0\t0\t0\t0\t0\t0\t0\t0\t0\t0\t0\t\n",
      "0\t0\t0\t0\t0\t0\t0\t0\t0\t0\t0\t0\t0\t0\t0\t0\t0\t0\t0\t0\t0\t0\t0\t0\t0\t0\t0\t0\t\n",
      "0\t0\t0\t0\t0\t0\t0\t0\t0\t0\t0\t0\t0\t0\t0\t0\t0\t0\t0\t0\t0\t0\t0\t0\t0\t0\t0\t0\t\n",
      "0\t0\t0\t0\t0\t0\t0\t0\t0\t0\t0\t0\t0\t0\t0\t0\t0\t0\t124\t253\t255\t63\t0\t0\t0\t0\t0\t0\t\n",
      "0\t0\t0\t0\t0\t0\t0\t0\t0\t0\t0\t0\t0\t0\t0\t0\t0\t96\t244\t251\t253\t62\t0\t0\t0\t0\t0\t0\t\n",
      "0\t0\t0\t0\t0\t0\t0\t0\t0\t0\t0\t0\t0\t0\t0\t0\t0\t127\t251\t251\t253\t62\t0\t0\t0\t0\t0\t0\t\n",
      "0\t0\t0\t0\t0\t0\t0\t0\t0\t0\t0\t0\t0\t0\t0\t0\t68\t236\t251\t211\t31\t8\t0\t0\t0\t0\t0\t0\t\n",
      "0\t0\t0\t0\t0\t0\t0\t0\t0\t0\t0\t0\t0\t0\t0\t60\t228\t251\t251\t94\t0\t0\t0\t0\t0\t0\t0\t0\t\n",
      "0\t0\t0\t0\t0\t0\t0\t0\t0\t0\t0\t0\t0\t0\t0\t155\t253\t253\t189\t0\t0\t0\t0\t0\t0\t0\t0\t0\t\n",
      "0\t0\t0\t0\t0\t0\t0\t0\t0\t0\t0\t0\t0\t0\t20\t253\t251\t235\t66\t0\t0\t0\t0\t0\t0\t0\t0\t0\t\n",
      "0\t0\t0\t0\t0\t0\t0\t0\t0\t0\t0\t0\t0\t32\t205\t253\t251\t126\t0\t0\t0\t0\t0\t0\t0\t0\t0\t0\t\n",
      "0\t0\t0\t0\t0\t0\t0\t0\t0\t0\t0\t0\t0\t104\t251\t253\t184\t15\t0\t0\t0\t0\t0\t0\t0\t0\t0\t0\t\n",
      "0\t0\t0\t0\t0\t0\t0\t0\t0\t0\t0\t0\t80\t240\t251\t193\t23\t0\t0\t0\t0\t0\t0\t0\t0\t0\t0\t0\t\n",
      "0\t0\t0\t0\t0\t0\t0\t0\t0\t0\t0\t32\t253\t253\t253\t159\t0\t0\t0\t0\t0\t0\t0\t0\t0\t0\t0\t0\t\n",
      "0\t0\t0\t0\t0\t0\t0\t0\t0\t0\t0\t151\t251\t251\t251\t39\t0\t0\t0\t0\t0\t0\t0\t0\t0\t0\t0\t0\t\n",
      "0\t0\t0\t0\t0\t0\t0\t0\t0\t0\t48\t221\t251\t251\t172\t0\t0\t0\t0\t0\t0\t0\t0\t0\t0\t0\t0\t0\t\n",
      "0\t0\t0\t0\t0\t0\t0\t0\t0\t0\t234\t251\t251\t196\t12\t0\t0\t0\t0\t0\t0\t0\t0\t0\t0\t0\t0\t0\t\n",
      "0\t0\t0\t0\t0\t0\t0\t0\t0\t0\t253\t251\t251\t89\t0\t0\t0\t0\t0\t0\t0\t0\t0\t0\t0\t0\t0\t0\t\n",
      "0\t0\t0\t0\t0\t0\t0\t0\t0\t159\t255\t253\t253\t31\t0\t0\t0\t0\t0\t0\t0\t0\t0\t0\t0\t0\t0\t0\t\n",
      "0\t0\t0\t0\t0\t0\t0\t0\t48\t228\t253\t247\t140\t8\t0\t0\t0\t0\t0\t0\t0\t0\t0\t0\t0\t0\t0\t0\t\n",
      "0\t0\t0\t0\t0\t0\t0\t0\t64\t251\t253\t220\t0\t0\t0\t0\t0\t0\t0\t0\t0\t0\t0\t0\t0\t0\t0\t0\t\n",
      "0\t0\t0\t0\t0\t0\t0\t0\t64\t251\t253\t220\t0\t0\t0\t0\t0\t0\t0\t0\t0\t0\t0\t0\t0\t0\t0\t0\t\n",
      "0\t0\t0\t0\t0\t0\t0\t0\t24\t193\t253\t220\t0\t0\t0\t0\t0\t0\t0\t0\t0\t0\t0\t0\t0\t0\t0\t0\t\n",
      "0\t0\t0\t0\t0\t0\t0\t0\t0\t0\t0\t0\t0\t0\t0\t0\t0\t0\t0\t0\t0\t0\t0\t0\t0\t0\t0\t0\t\n",
      "0\t0\t0\t0\t0\t0\t0\t0\t0\t0\t0\t0\t0\t0\t0\t0\t0\t0\t0\t0\t0\t0\t0\t0\t0\t0\t0\t0\t\n",
      "0\t0\t0\t0\t0\t0\t0\t0\t0\t0\t0\t0\t0\t0\t0\t0\t0\t0\t0\t0\t0\t0\t0\t0\t0\t0\t0\t0\t\n",
      "\n",
      "\n",
      "0\t0\t0\t0\t0\t0\t0\t0\t0\t0\t0\t0\t0\t0\t0\t0\t0\t0\t0\t0\t0\t0\t0\t0\t0\t0\t0\t0\t\n",
      "0\t0\t0\t0\t0\t0\t0\t0\t0\t0\t0\t0\t0\t0\t0\t0\t0\t0\t0\t0\t0\t0\t0\t0\t0\t0\t0\t0\t\n",
      "0\t0\t0\t0\t0\t0\t0\t0\t0\t0\t0\t0\t0\t0\t0\t0\t0\t0\t0\t0\t0\t0\t0\t0\t0\t0\t0\t0\t\n",
      "0\t0\t0\t0\t0\t0\t0\t0\t0\t0\t0\t0\t0\t0\t0\t0\t0\t0\t0\t0\t0\t0\t0\t0\t0\t0\t0\t0\t\n",
      "0\t0\t0\t0\t0\t0\t0\t0\t0\t0\t0\t0\t0\t0\t0\t0\t0\t0\t0\t0\t0\t0\t0\t0\t0\t0\t0\t0\t\n",
      "0\t0\t0\t0\t0\t0\t0\t0\t0\t0\t0\t0\t0\t0\t0\t13\t25\t100\t122\t7\t0\t0\t0\t0\t0\t0\t0\t0\t\n",
      "0\t0\t0\t0\t0\t0\t0\t0\t0\t0\t0\t0\t0\t33\t151\t208\t252\t252\t252\t146\t0\t0\t0\t0\t0\t0\t0\t0\t\n",
      "0\t0\t0\t0\t0\t0\t0\t0\t0\t0\t0\t40\t152\t244\t252\t253\t224\t211\t252\t232\t40\t0\t0\t0\t0\t0\t0\t0\t\n",
      "0\t0\t0\t0\t0\t0\t0\t0\t0\t15\t152\t239\t252\t252\t252\t216\t31\t37\t252\t252\t60\t0\t0\t0\t0\t0\t0\t0\t\n",
      "0\t0\t0\t0\t0\t0\t0\t0\t0\t96\t252\t252\t252\t252\t217\t29\t0\t37\t252\t252\t60\t0\t0\t0\t0\t0\t0\t0\t\n",
      "0\t0\t0\t0\t0\t0\t0\t0\t0\t181\t252\t252\t220\t167\t30\t0\t0\t77\t252\t252\t60\t0\t0\t0\t0\t0\t0\t0\t\n",
      "0\t0\t0\t0\t0\t0\t0\t0\t0\t26\t128\t58\t22\t0\t0\t0\t0\t100\t252\t252\t60\t0\t0\t0\t0\t0\t0\t0\t\n",
      "0\t0\t0\t0\t0\t0\t0\t0\t0\t0\t0\t0\t0\t0\t0\t0\t0\t157\t252\t252\t60\t0\t0\t0\t0\t0\t0\t0\t\n",
      "0\t0\t0\t0\t0\t0\t0\t0\t0\t0\t0\t0\t0\t110\t121\t122\t121\t202\t252\t194\t3\t0\t0\t0\t0\t0\t0\t0\t\n",
      "0\t0\t0\t0\t0\t0\t0\t0\t0\t0\t10\t53\t179\t253\t253\t255\t253\t253\t228\t35\t0\t0\t0\t0\t0\t0\t0\t0\t\n",
      "0\t0\t0\t0\t0\t0\t0\t0\t5\t54\t227\t252\t243\t228\t170\t242\t252\t252\t231\t117\t6\t0\t0\t0\t0\t0\t0\t0\t\n",
      "0\t0\t0\t0\t0\t0\t0\t6\t78\t252\t252\t125\t59\t0\t18\t208\t252\t252\t252\t252\t87\t7\t0\t0\t0\t0\t0\t0\t\n",
      "0\t0\t0\t0\t0\t0\t5\t135\t252\t252\t180\t16\t0\t21\t203\t253\t247\t129\t173\t252\t252\t184\t66\t49\t49\t0\t0\t0\t\n",
      "0\t0\t0\t0\t0\t3\t136\t252\t241\t106\t17\t0\t53\t200\t252\t216\t65\t0\t14\t72\t163\t241\t252\t252\t223\t0\t0\t0\t\n",
      "0\t0\t0\t0\t0\t105\t252\t242\t88\t18\t73\t170\t244\t252\t126\t29\t0\t0\t0\t0\t0\t89\t180\t180\t37\t0\t0\t0\t\n",
      "0\t0\t0\t0\t0\t231\t252\t245\t205\t216\t252\t252\t252\t124\t3\t0\t0\t0\t0\t0\t0\t0\t0\t0\t0\t0\t0\t0\t\n",
      "0\t0\t0\t0\t0\t207\t252\t252\t252\t252\t178\t116\t36\t4\t0\t0\t0\t0\t0\t0\t0\t0\t0\t0\t0\t0\t0\t0\t\n",
      "0\t0\t0\t0\t0\t13\t93\t143\t121\t23\t6\t0\t0\t0\t0\t0\t0\t0\t0\t0\t0\t0\t0\t0\t0\t0\t0\t0\t\n",
      "0\t0\t0\t0\t0\t0\t0\t0\t0\t0\t0\t0\t0\t0\t0\t0\t0\t0\t0\t0\t0\t0\t0\t0\t0\t0\t0\t0\t\n",
      "0\t0\t0\t0\t0\t0\t0\t0\t0\t0\t0\t0\t0\t0\t0\t0\t0\t0\t0\t0\t0\t0\t0\t0\t0\t0\t0\t0\t\n",
      "0\t0\t0\t0\t0\t0\t0\t0\t0\t0\t0\t0\t0\t0\t0\t0\t0\t0\t0\t0\t0\t0\t0\t0\t0\t0\t0\t0\t\n",
      "0\t0\t0\t0\t0\t0\t0\t0\t0\t0\t0\t0\t0\t0\t0\t0\t0\t0\t0\t0\t0\t0\t0\t0\t0\t0\t0\t0\t\n",
      "0\t0\t0\t0\t0\t0\t0\t0\t0\t0\t0\t0\t0\t0\t0\t0\t0\t0\t0\t0\t0\t0\t0\t0\t0\t0\t0\t0\t\n",
      "\n",
      "\n",
      "0\t0\t0\t0\t0\t0\t0\t0\t0\t0\t0\t0\t0\t0\t0\t0\t0\t0\t0\t0\t0\t0\t0\t0\t0\t0\t0\t0\t\n",
      "0\t0\t0\t0\t0\t0\t0\t0\t0\t0\t0\t0\t0\t0\t0\t0\t0\t0\t0\t0\t0\t0\t0\t0\t0\t0\t0\t0\t\n",
      "0\t0\t0\t0\t0\t0\t0\t0\t0\t0\t0\t0\t0\t0\t0\t0\t0\t0\t0\t0\t0\t0\t0\t0\t0\t0\t0\t0\t\n",
      "0\t0\t0\t0\t0\t0\t0\t0\t0\t0\t0\t0\t0\t0\t0\t0\t0\t0\t0\t0\t0\t0\t0\t0\t0\t0\t0\t0\t\n",
      "0\t0\t0\t0\t0\t0\t0\t0\t0\t0\t0\t0\t0\t0\t0\t0\t0\t0\t0\t0\t0\t0\t0\t0\t0\t0\t0\t0\t\n",
      "0\t0\t0\t0\t0\t0\t0\t0\t0\t0\t0\t38\t43\t105\t255\t253\t253\t253\t253\t253\t174\t6\t0\t0\t0\t0\t0\t0\t\n",
      "0\t0\t0\t0\t0\t0\t0\t0\t0\t43\t139\t224\t226\t252\t253\t252\t252\t252\t252\t252\t252\t158\t14\t0\t0\t0\t0\t0\t\n",
      "0\t0\t0\t0\t0\t0\t0\t0\t0\t178\t252\t252\t252\t252\t253\t252\t252\t252\t252\t252\t252\t252\t59\t0\t0\t0\t0\t0\t\n",
      "0\t0\t0\t0\t0\t0\t0\t0\t0\t109\t252\t252\t230\t132\t133\t132\t132\t189\t252\t252\t252\t252\t59\t0\t0\t0\t0\t0\t\n",
      "0\t0\t0\t0\t0\t0\t0\t0\t0\t4\t29\t29\t24\t0\t0\t0\t0\t14\t226\t252\t252\t172\t7\t0\t0\t0\t0\t0\t\n",
      "0\t0\t0\t0\t0\t0\t0\t0\t0\t0\t0\t0\t0\t0\t0\t0\t0\t85\t243\t252\t252\t144\t0\t0\t0\t0\t0\t0\t\n",
      "0\t0\t0\t0\t0\t0\t0\t0\t0\t0\t0\t0\t0\t0\t0\t0\t88\t189\t252\t252\t252\t14\t0\t0\t0\t0\t0\t0\t\n",
      "0\t0\t0\t0\t0\t0\t0\t0\t0\t0\t0\t0\t0\t0\t91\t212\t247\t252\t252\t252\t204\t9\t0\t0\t0\t0\t0\t0\t\n",
      "0\t0\t0\t0\t0\t0\t0\t0\t0\t32\t125\t193\t193\t193\t253\t252\t252\t252\t238\t102\t28\t0\t0\t0\t0\t0\t0\t0\t\n",
      "0\t0\t0\t0\t0\t0\t0\t0\t45\t222\t252\t252\t252\t252\t253\t252\t252\t252\t177\t0\t0\t0\t0\t0\t0\t0\t0\t0\t\n",
      "0\t0\t0\t0\t0\t0\t0\t0\t45\t223\t253\t253\t253\t253\t255\t253\t253\t253\t253\t74\t0\t0\t0\t0\t0\t0\t0\t0\t\n",
      "0\t0\t0\t0\t0\t0\t0\t0\t0\t31\t123\t52\t44\t44\t44\t44\t143\t252\t252\t74\t0\t0\t0\t0\t0\t0\t0\t0\t\n",
      "0\t0\t0\t0\t0\t0\t0\t0\t0\t0\t0\t0\t0\t0\t0\t0\t15\t252\t252\t74\t0\t0\t0\t0\t0\t0\t0\t0\t\n",
      "0\t0\t0\t0\t0\t0\t0\t0\t0\t0\t0\t0\t0\t0\t0\t0\t86\t252\t252\t74\t0\t0\t0\t0\t0\t0\t0\t0\t\n",
      "0\t0\t0\t0\t0\t0\t5\t75\t9\t0\t0\t0\t0\t0\t0\t98\t242\t252\t252\t74\t0\t0\t0\t0\t0\t0\t0\t0\t\n",
      "0\t0\t0\t0\t0\t61\t183\t252\t29\t0\t0\t0\t0\t18\t92\t239\t252\t252\t243\t65\t0\t0\t0\t0\t0\t0\t0\t0\t\n",
      "0\t0\t0\t0\t0\t208\t252\t252\t147\t134\t134\t134\t134\t203\t253\t252\t252\t188\t83\t0\t0\t0\t0\t0\t0\t0\t0\t0\t\n",
      "0\t0\t0\t0\t0\t208\t252\t252\t252\t252\t252\t252\t252\t252\t253\t230\t153\t8\t0\t0\t0\t0\t0\t0\t0\t0\t0\t0\t\n",
      "0\t0\t0\t0\t0\t49\t157\t252\t252\t252\t252\t252\t217\t207\t146\t45\t0\t0\t0\t0\t0\t0\t0\t0\t0\t0\t0\t0\t\n",
      "0\t0\t0\t0\t0\t0\t7\t103\t235\t252\t172\t103\t24\t0\t0\t0\t0\t0\t0\t0\t0\t0\t0\t0\t0\t0\t0\t0\t\n",
      "0\t0\t0\t0\t0\t0\t0\t0\t0\t0\t0\t0\t0\t0\t0\t0\t0\t0\t0\t0\t0\t0\t0\t0\t0\t0\t0\t0\t\n",
      "0\t0\t0\t0\t0\t0\t0\t0\t0\t0\t0\t0\t0\t0\t0\t0\t0\t0\t0\t0\t0\t0\t0\t0\t0\t0\t0\t0\t\n",
      "0\t0\t0\t0\t0\t0\t0\t0\t0\t0\t0\t0\t0\t0\t0\t0\t0\t0\t0\t0\t0\t0\t0\t0\t0\t0\t0\t0\t\n",
      "\n",
      "\n",
      "0\t0\t0\t0\t0\t0\t0\t0\t0\t0\t0\t0\t0\t0\t0\t0\t0\t0\t0\t0\t0\t0\t0\t0\t0\t0\t0\t0\t\n",
      "0\t0\t0\t0\t0\t0\t0\t0\t0\t0\t0\t0\t0\t0\t0\t0\t0\t0\t0\t0\t0\t0\t0\t0\t0\t0\t0\t0\t\n",
      "0\t0\t0\t0\t0\t0\t0\t0\t0\t0\t0\t0\t0\t0\t0\t0\t0\t0\t0\t0\t0\t0\t0\t0\t0\t0\t0\t0\t\n",
      "0\t0\t0\t0\t0\t0\t0\t0\t0\t0\t0\t0\t0\t0\t0\t0\t0\t0\t0\t0\t0\t0\t0\t0\t0\t0\t0\t0\t\n",
      "0\t0\t0\t0\t0\t0\t0\t0\t0\t0\t0\t0\t0\t0\t0\t0\t0\t0\t0\t0\t0\t0\t0\t0\t0\t0\t0\t0\t\n",
      "0\t0\t0\t0\t0\t0\t0\t0\t0\t0\t0\t0\t0\t0\t0\t0\t0\t0\t0\t0\t67\t232\t39\t0\t0\t0\t0\t0\t\n",
      "0\t0\t0\t0\t62\t81\t0\t0\t0\t0\t0\t0\t0\t0\t0\t0\t0\t0\t0\t0\t120\t180\t39\t0\t0\t0\t0\t0\t\n",
      "0\t0\t0\t0\t126\t163\t0\t0\t0\t0\t0\t0\t0\t0\t0\t0\t0\t0\t0\t2\t153\t210\t40\t0\t0\t0\t0\t0\t\n",
      "0\t0\t0\t0\t220\t163\t0\t0\t0\t0\t0\t0\t0\t0\t0\t0\t0\t0\t0\t27\t254\t162\t0\t0\t0\t0\t0\t0\t\n",
      "0\t0\t0\t0\t222\t163\t0\t0\t0\t0\t0\t0\t0\t0\t0\t0\t0\t0\t0\t183\t254\t125\t0\t0\t0\t0\t0\t0\t\n",
      "0\t0\t0\t46\t245\t163\t0\t0\t0\t0\t0\t0\t0\t0\t0\t0\t0\t0\t0\t198\t254\t56\t0\t0\t0\t0\t0\t0\t\n",
      "0\t0\t0\t120\t254\t163\t0\t0\t0\t0\t0\t0\t0\t0\t0\t0\t0\t0\t23\t231\t254\t29\t0\t0\t0\t0\t0\t0\t\n",
      "0\t0\t0\t159\t254\t120\t0\t0\t0\t0\t0\t0\t0\t0\t0\t0\t0\t0\t163\t254\t216\t16\t0\t0\t0\t0\t0\t0\t\n",
      "0\t0\t0\t159\t254\t67\t0\t0\t0\t0\t0\t0\t0\t0\t0\t14\t86\t178\t248\t254\t91\t0\t0\t0\t0\t0\t0\t0\t\n",
      "0\t0\t0\t159\t254\t85\t0\t0\t0\t47\t49\t116\t144\t150\t241\t243\t234\t179\t241\t252\t40\t0\t0\t0\t0\t0\t0\t0\t\n",
      "0\t0\t0\t150\t253\t237\t207\t207\t207\t253\t254\t250\t240\t198\t143\t91\t28\t5\t233\t250\t0\t0\t0\t0\t0\t0\t0\t0\t\n",
      "0\t0\t0\t0\t119\t177\t177\t177\t177\t177\t98\t56\t0\t0\t0\t0\t0\t102\t254\t220\t0\t0\t0\t0\t0\t0\t0\t0\t\n",
      "0\t0\t0\t0\t0\t0\t0\t0\t0\t0\t0\t0\t0\t0\t0\t0\t0\t169\t254\t137\t0\t0\t0\t0\t0\t0\t0\t0\t\n",
      "0\t0\t0\t0\t0\t0\t0\t0\t0\t0\t0\t0\t0\t0\t0\t0\t0\t169\t254\t57\t0\t0\t0\t0\t0\t0\t0\t0\t\n",
      "0\t0\t0\t0\t0\t0\t0\t0\t0\t0\t0\t0\t0\t0\t0\t0\t0\t169\t254\t57\t0\t0\t0\t0\t0\t0\t0\t0\t\n",
      "0\t0\t0\t0\t0\t0\t0\t0\t0\t0\t0\t0\t0\t0\t0\t0\t0\t169\t255\t94\t0\t0\t0\t0\t0\t0\t0\t0\t\n",
      "0\t0\t0\t0\t0\t0\t0\t0\t0\t0\t0\t0\t0\t0\t0\t0\t0\t169\t254\t96\t0\t0\t0\t0\t0\t0\t0\t0\t\n",
      "0\t0\t0\t0\t0\t0\t0\t0\t0\t0\t0\t0\t0\t0\t0\t0\t0\t169\t254\t153\t0\t0\t0\t0\t0\t0\t0\t0\t\n",
      "0\t0\t0\t0\t0\t0\t0\t0\t0\t0\t0\t0\t0\t0\t0\t0\t0\t169\t255\t153\t0\t0\t0\t0\t0\t0\t0\t0\t\n",
      "0\t0\t0\t0\t0\t0\t0\t0\t0\t0\t0\t0\t0\t0\t0\t0\t0\t96\t254\t153\t0\t0\t0\t0\t0\t0\t0\t0\t\n",
      "0\t0\t0\t0\t0\t0\t0\t0\t0\t0\t0\t0\t0\t0\t0\t0\t0\t0\t0\t0\t0\t0\t0\t0\t0\t0\t0\t0\t\n",
      "0\t0\t0\t0\t0\t0\t0\t0\t0\t0\t0\t0\t0\t0\t0\t0\t0\t0\t0\t0\t0\t0\t0\t0\t0\t0\t0\t0\t\n",
      "0\t0\t0\t0\t0\t0\t0\t0\t0\t0\t0\t0\t0\t0\t0\t0\t0\t0\t0\t0\t0\t0\t0\t0\t0\t0\t0\t0\t\n",
      "\n",
      "\n",
      "0\t0\t0\t0\t0\t0\t0\t0\t0\t0\t0\t0\t0\t0\t0\t0\t0\t0\t0\t0\t0\t0\t0\t0\t0\t0\t0\t0\t\n",
      "0\t0\t0\t0\t0\t0\t0\t0\t0\t0\t0\t0\t0\t0\t0\t0\t0\t0\t0\t0\t0\t0\t0\t0\t0\t0\t0\t0\t\n",
      "0\t0\t0\t0\t0\t0\t0\t0\t0\t0\t0\t0\t0\t0\t0\t0\t0\t0\t0\t0\t0\t0\t0\t0\t0\t0\t0\t0\t\n",
      "0\t0\t0\t0\t0\t0\t0\t0\t0\t0\t0\t0\t0\t0\t0\t0\t0\t0\t0\t0\t0\t0\t0\t0\t0\t0\t0\t0\t\n",
      "0\t0\t0\t0\t0\t0\t0\t0\t0\t0\t0\t0\t0\t0\t0\t0\t0\t0\t0\t0\t0\t0\t0\t0\t0\t0\t0\t0\t\n",
      "0\t0\t0\t0\t0\t0\t0\t0\t0\t0\t0\t0\t3\t18\t18\t18\t126\t136\t175\t26\t166\t255\t247\t127\t0\t0\t0\t0\t\n",
      "0\t0\t0\t0\t0\t0\t0\t0\t30\t36\t94\t154\t170\t253\t253\t253\t253\t253\t225\t172\t253\t242\t195\t64\t0\t0\t0\t0\t\n",
      "0\t0\t0\t0\t0\t0\t0\t49\t238\t253\t253\t253\t253\t253\t253\t253\t253\t251\t93\t82\t82\t56\t39\t0\t0\t0\t0\t0\t\n",
      "0\t0\t0\t0\t0\t0\t0\t18\t219\t253\t253\t253\t253\t253\t198\t182\t247\t241\t0\t0\t0\t0\t0\t0\t0\t0\t0\t0\t\n",
      "0\t0\t0\t0\t0\t0\t0\t0\t80\t156\t107\t253\t253\t205\t11\t0\t43\t154\t0\t0\t0\t0\t0\t0\t0\t0\t0\t0\t\n",
      "0\t0\t0\t0\t0\t0\t0\t0\t0\t14\t1\t154\t253\t90\t0\t0\t0\t0\t0\t0\t0\t0\t0\t0\t0\t0\t0\t0\t\n",
      "0\t0\t0\t0\t0\t0\t0\t0\t0\t0\t0\t139\t253\t190\t2\t0\t0\t0\t0\t0\t0\t0\t0\t0\t0\t0\t0\t0\t\n",
      "0\t0\t0\t0\t0\t0\t0\t0\t0\t0\t0\t11\t190\t253\t70\t0\t0\t0\t0\t0\t0\t0\t0\t0\t0\t0\t0\t0\t\n",
      "0\t0\t0\t0\t0\t0\t0\t0\t0\t0\t0\t0\t35\t241\t225\t160\t108\t1\t0\t0\t0\t0\t0\t0\t0\t0\t0\t0\t\n",
      "0\t0\t0\t0\t0\t0\t0\t0\t0\t0\t0\t0\t0\t81\t240\t253\t253\t119\t25\t0\t0\t0\t0\t0\t0\t0\t0\t0\t\n",
      "0\t0\t0\t0\t0\t0\t0\t0\t0\t0\t0\t0\t0\t0\t45\t186\t253\t253\t150\t27\t0\t0\t0\t0\t0\t0\t0\t0\t\n",
      "0\t0\t0\t0\t0\t0\t0\t0\t0\t0\t0\t0\t0\t0\t0\t16\t93\t252\t253\t187\t0\t0\t0\t0\t0\t0\t0\t0\t\n",
      "0\t0\t0\t0\t0\t0\t0\t0\t0\t0\t0\t0\t0\t0\t0\t0\t0\t249\t253\t249\t64\t0\t0\t0\t0\t0\t0\t0\t\n",
      "0\t0\t0\t0\t0\t0\t0\t0\t0\t0\t0\t0\t0\t0\t46\t130\t183\t253\t253\t207\t2\t0\t0\t0\t0\t0\t0\t0\t\n",
      "0\t0\t0\t0\t0\t0\t0\t0\t0\t0\t0\t0\t39\t148\t229\t253\t253\t253\t250\t182\t0\t0\t0\t0\t0\t0\t0\t0\t\n",
      "0\t0\t0\t0\t0\t0\t0\t0\t0\t0\t24\t114\t221\t253\t253\t253\t253\t201\t78\t0\t0\t0\t0\t0\t0\t0\t0\t0\t\n",
      "0\t0\t0\t0\t0\t0\t0\t0\t23\t66\t213\t253\t253\t253\t253\t198\t81\t2\t0\t0\t0\t0\t0\t0\t0\t0\t0\t0\t\n",
      "0\t0\t0\t0\t0\t0\t18\t171\t219\t253\t253\t253\t253\t195\t80\t9\t0\t0\t0\t0\t0\t0\t0\t0\t0\t0\t0\t0\t\n",
      "0\t0\t0\t0\t55\t172\t226\t253\t253\t253\t253\t244\t133\t11\t0\t0\t0\t0\t0\t0\t0\t0\t0\t0\t0\t0\t0\t0\t\n",
      "0\t0\t0\t0\t136\t253\t253\t253\t212\t135\t132\t16\t0\t0\t0\t0\t0\t0\t0\t0\t0\t0\t0\t0\t0\t0\t0\t0\t\n",
      "0\t0\t0\t0\t0\t0\t0\t0\t0\t0\t0\t0\t0\t0\t0\t0\t0\t0\t0\t0\t0\t0\t0\t0\t0\t0\t0\t0\t\n",
      "0\t0\t0\t0\t0\t0\t0\t0\t0\t0\t0\t0\t0\t0\t0\t0\t0\t0\t0\t0\t0\t0\t0\t0\t0\t0\t0\t0\t\n",
      "0\t0\t0\t0\t0\t0\t0\t0\t0\t0\t0\t0\t0\t0\t0\t0\t0\t0\t0\t0\t0\t0\t0\t0\t0\t0\t0\t0\t\n",
      "\n",
      "\n",
      "0\t0\t0\t0\t0\t0\t0\t0\t0\t0\t0\t0\t0\t0\t0\t0\t0\t0\t0\t0\t0\t0\t0\t0\t0\t0\t0\t0\t\n",
      "0\t0\t0\t0\t0\t0\t0\t0\t0\t0\t0\t0\t0\t0\t0\t0\t0\t0\t0\t0\t0\t0\t0\t0\t0\t0\t0\t0\t\n",
      "0\t0\t0\t0\t0\t0\t0\t0\t0\t0\t0\t0\t0\t0\t0\t0\t38\t222\t225\t0\t0\t0\t0\t0\t0\t0\t0\t0\t\n",
      "0\t0\t0\t0\t0\t0\t0\t0\t0\t0\t0\t0\t0\t0\t0\t147\t234\t252\t176\t0\t0\t0\t0\t0\t0\t0\t0\t0\t\n",
      "0\t0\t0\t0\t0\t0\t0\t0\t0\t0\t0\t0\t0\t23\t197\t253\t252\t208\t19\t0\t0\t0\t0\t0\t0\t0\t0\t0\t\n",
      "0\t0\t0\t0\t0\t0\t0\t0\t0\t0\t0\t0\t38\t178\t252\t253\t117\t65\t0\t0\t0\t0\t0\t0\t0\t0\t0\t0\t\n",
      "0\t0\t0\t0\t0\t0\t0\t0\t0\t0\t0\t0\t57\t252\t252\t253\t89\t0\t0\t0\t0\t0\t0\t0\t0\t0\t0\t0\t\n",
      "0\t0\t0\t0\t0\t0\t0\t0\t0\t0\t0\t38\t222\t253\t253\t79\t0\t0\t0\t0\t0\t0\t0\t0\t0\t0\t0\t0\t\n",
      "0\t0\t0\t0\t0\t0\t0\t0\t0\t0\t0\t131\t252\t179\t27\t0\t0\t0\t0\t0\t0\t0\t0\t0\t0\t0\t0\t0\t\n",
      "0\t0\t0\t0\t0\t0\t0\t0\t0\t0\t198\t246\t220\t37\t0\t0\t0\t0\t0\t0\t0\t0\t0\t0\t0\t0\t0\t0\t\n",
      "0\t0\t0\t0\t0\t0\t0\t0\t0\t79\t253\t252\t135\t28\t0\t0\t0\t0\t0\t0\t0\t0\t0\t0\t0\t0\t0\t0\t\n",
      "0\t0\t0\t0\t0\t0\t0\t0\t16\t140\t253\t252\t118\t0\t0\t0\t0\t111\t140\t140\t0\t0\t0\t0\t0\t0\t0\t0\t\n",
      "0\t0\t0\t0\t0\t0\t0\t0\t13\t191\t255\t253\t56\t0\t0\t114\t113\t222\t253\t253\t255\t27\t0\t0\t0\t0\t0\t0\t\n",
      "0\t0\t0\t0\t0\t0\t0\t0\t76\t252\t253\t223\t37\t0\t48\t174\t252\t252\t242\t214\t253\t199\t31\t0\t0\t0\t0\t0\t\n",
      "0\t0\t0\t0\t0\t0\t0\t13\t109\t252\t228\t130\t0\t38\t165\t253\t233\t164\t49\t63\t253\t214\t31\t0\t0\t0\t0\t0\t\n",
      "0\t0\t0\t0\t0\t0\t0\t73\t252\t252\t126\t0\t23\t178\t252\t240\t148\t7\t44\t215\t240\t148\t0\t0\t0\t0\t0\t0\t\n",
      "0\t0\t0\t0\t0\t0\t0\t119\t252\t252\t0\t0\t197\t252\t252\t63\t0\t57\t252\t252\t140\t0\t0\t0\t0\t0\t0\t0\t\n",
      "0\t0\t0\t0\t0\t0\t0\t135\t253\t174\t0\t48\t229\t253\t112\t0\t38\t222\t253\t112\t0\t0\t0\t0\t0\t0\t0\t0\t\n",
      "0\t0\t0\t0\t0\t0\t0\t135\t252\t173\t0\t48\t227\t252\t158\t226\t234\t201\t27\t12\t0\t0\t0\t0\t0\t0\t0\t0\t\n",
      "0\t0\t0\t0\t0\t0\t0\t57\t252\t252\t57\t104\t240\t252\t252\t253\t233\t74\t0\t0\t0\t0\t0\t0\t0\t0\t0\t0\t\n",
      "0\t0\t0\t0\t0\t0\t0\t51\t242\t252\t253\t252\t252\t252\t252\t240\t148\t0\t0\t0\t0\t0\t0\t0\t0\t0\t0\t0\t\n",
      "0\t0\t0\t0\t0\t0\t0\t0\t75\t189\t253\t252\t252\t157\t112\t63\t0\t0\t0\t0\t0\t0\t0\t0\t0\t0\t0\t0\t\n",
      "0\t0\t0\t0\t0\t0\t0\t0\t0\t0\t0\t0\t0\t0\t0\t0\t0\t0\t0\t0\t0\t0\t0\t0\t0\t0\t0\t0\t\n",
      "0\t0\t0\t0\t0\t0\t0\t0\t0\t0\t0\t0\t0\t0\t0\t0\t0\t0\t0\t0\t0\t0\t0\t0\t0\t0\t0\t0\t\n",
      "0\t0\t0\t0\t0\t0\t0\t0\t0\t0\t0\t0\t0\t0\t0\t0\t0\t0\t0\t0\t0\t0\t0\t0\t0\t0\t0\t0\t\n",
      "0\t0\t0\t0\t0\t0\t0\t0\t0\t0\t0\t0\t0\t0\t0\t0\t0\t0\t0\t0\t0\t0\t0\t0\t0\t0\t0\t0\t\n",
      "0\t0\t0\t0\t0\t0\t0\t0\t0\t0\t0\t0\t0\t0\t0\t0\t0\t0\t0\t0\t0\t0\t0\t0\t0\t0\t0\t0\t\n",
      "0\t0\t0\t0\t0\t0\t0\t0\t0\t0\t0\t0\t0\t0\t0\t0\t0\t0\t0\t0\t0\t0\t0\t0\t0\t0\t0\t0\t\n",
      "\n",
      "\n",
      "0\t0\t0\t0\t0\t0\t0\t0\t0\t0\t0\t0\t0\t0\t0\t0\t0\t0\t0\t0\t0\t0\t0\t0\t0\t0\t0\t0\t\n",
      "0\t0\t0\t0\t0\t0\t0\t0\t0\t0\t0\t0\t0\t0\t0\t0\t0\t0\t0\t0\t0\t0\t0\t0\t0\t0\t0\t0\t\n",
      "0\t0\t0\t0\t0\t0\t0\t0\t0\t0\t0\t0\t0\t0\t0\t0\t0\t0\t0\t0\t0\t0\t0\t0\t0\t0\t0\t0\t\n",
      "0\t0\t0\t0\t0\t0\t0\t0\t0\t0\t0\t0\t0\t0\t0\t0\t0\t0\t0\t0\t0\t0\t0\t0\t0\t0\t0\t0\t\n",
      "0\t0\t0\t0\t0\t0\t0\t0\t0\t0\t0\t0\t0\t0\t0\t0\t0\t0\t0\t0\t0\t0\t0\t0\t0\t0\t0\t0\t\n",
      "0\t0\t0\t0\t0\t0\t0\t0\t0\t0\t0\t0\t0\t0\t0\t0\t0\t0\t0\t0\t0\t0\t0\t0\t0\t0\t0\t0\t\n",
      "0\t0\t0\t0\t0\t0\t0\t0\t0\t0\t0\t0\t0\t0\t0\t0\t0\t0\t0\t0\t0\t0\t0\t0\t0\t0\t0\t0\t\n",
      "0\t0\t0\t0\t0\t0\t0\t0\t0\t0\t0\t0\t0\t0\t0\t115\t121\t162\t253\t253\t213\t0\t0\t0\t0\t0\t0\t0\t\n",
      "0\t0\t0\t0\t0\t0\t0\t0\t0\t0\t0\t0\t63\t107\t170\t251\t252\t252\t252\t252\t250\t214\t0\t0\t0\t0\t0\t0\t\n",
      "0\t0\t0\t0\t0\t0\t0\t0\t25\t192\t226\t226\t241\t252\t253\t202\t252\t252\t252\t252\t252\t225\t0\t0\t0\t0\t0\t0\t\n",
      "0\t0\t0\t0\t0\t0\t0\t68\t223\t252\t252\t252\t252\t252\t39\t19\t39\t65\t224\t252\t252\t183\t0\t0\t0\t0\t0\t0\t\n",
      "0\t0\t0\t0\t0\t0\t0\t186\t252\t252\t252\t245\t108\t53\t0\t0\t0\t150\t252\t252\t220\t20\t0\t0\t0\t0\t0\t0\t\n",
      "0\t0\t0\t0\t0\t0\t70\t242\t252\t252\t222\t59\t0\t0\t0\t0\t0\t178\t252\t252\t141\t0\t0\t0\t0\t0\t0\t0\t\n",
      "0\t0\t0\t0\t0\t0\t185\t252\t252\t194\t67\t0\t0\t0\t0\t17\t90\t240\t252\t194\t67\t0\t0\t0\t0\t0\t0\t0\t\n",
      "0\t0\t0\t0\t0\t0\t83\t205\t190\t24\t0\t0\t0\t0\t0\t121\t252\t252\t209\t24\t0\t0\t0\t0\t0\t0\t0\t0\t\n",
      "0\t0\t0\t0\t0\t0\t0\t0\t0\t0\t0\t0\t0\t0\t77\t247\t252\t248\t106\t0\t0\t0\t0\t0\t0\t0\t0\t0\t\n",
      "0\t0\t0\t0\t0\t0\t0\t0\t0\t0\t0\t0\t0\t0\t253\t252\t252\t102\t0\t0\t0\t0\t0\t0\t0\t0\t0\t0\t\n",
      "0\t0\t0\t0\t0\t0\t0\t0\t0\t0\t0\t0\t0\t134\t255\t253\t253\t39\t0\t0\t0\t0\t0\t0\t0\t0\t0\t0\t\n",
      "0\t0\t0\t0\t0\t0\t0\t0\t0\t0\t0\t0\t6\t183\t253\t252\t107\t2\t0\t0\t0\t0\t0\t0\t0\t0\t0\t0\t\n",
      "0\t0\t0\t0\t0\t0\t0\t0\t0\t0\t0\t10\t102\t252\t253\t163\t16\t0\t0\t0\t0\t0\t0\t0\t0\t0\t0\t0\t\n",
      "0\t0\t0\t0\t0\t0\t0\t0\t0\t0\t13\t168\t252\t252\t110\t2\t0\t0\t0\t0\t0\t0\t0\t0\t0\t0\t0\t0\t\n",
      "0\t0\t0\t0\t0\t0\t0\t0\t0\t0\t41\t252\t252\t217\t0\t0\t0\t0\t0\t0\t0\t0\t0\t0\t0\t0\t0\t0\t\n",
      "0\t0\t0\t0\t0\t0\t0\t0\t0\t40\t155\t252\t214\t31\t0\t0\t0\t0\t0\t0\t0\t0\t0\t0\t0\t0\t0\t0\t\n",
      "0\t0\t0\t0\t0\t0\t0\t0\t0\t165\t252\t252\t106\t0\t0\t0\t0\t0\t0\t0\t0\t0\t0\t0\t0\t0\t0\t0\t\n",
      "0\t0\t0\t0\t0\t0\t0\t0\t43\t179\t252\t150\t39\t0\t0\t0\t0\t0\t0\t0\t0\t0\t0\t0\t0\t0\t0\t0\t\n",
      "0\t0\t0\t0\t0\t0\t0\t0\t137\t252\t221\t39\t0\t0\t0\t0\t0\t0\t0\t0\t0\t0\t0\t0\t0\t0\t0\t0\t\n",
      "0\t0\t0\t0\t0\t0\t0\t0\t67\t252\t79\t0\t0\t0\t0\t0\t0\t0\t0\t0\t0\t0\t0\t0\t0\t0\t0\t0\t\n",
      "0\t0\t0\t0\t0\t0\t0\t0\t0\t0\t0\t0\t0\t0\t0\t0\t0\t0\t0\t0\t0\t0\t0\t0\t0\t0\t0\t0\t\n",
      "\n",
      "\n",
      "0\t0\t0\t0\t0\t0\t0\t0\t0\t0\t0\t0\t0\t0\t0\t0\t0\t0\t0\t0\t0\t0\t0\t0\t0\t0\t0\t0\t\n",
      "0\t0\t0\t0\t0\t0\t0\t0\t0\t0\t0\t0\t0\t0\t0\t0\t0\t0\t0\t0\t0\t0\t0\t0\t0\t0\t0\t0\t\n",
      "0\t0\t0\t0\t0\t0\t0\t0\t0\t0\t0\t0\t0\t0\t0\t0\t0\t0\t0\t0\t0\t0\t0\t0\t0\t0\t0\t0\t\n",
      "0\t0\t0\t0\t0\t0\t0\t0\t0\t0\t0\t0\t0\t0\t0\t0\t0\t0\t0\t0\t0\t0\t0\t0\t0\t0\t0\t0\t\n",
      "0\t0\t0\t0\t0\t0\t0\t0\t0\t0\t0\t0\t0\t0\t0\t0\t0\t0\t0\t0\t0\t0\t0\t0\t0\t0\t0\t0\t\n",
      "0\t0\t0\t0\t0\t0\t0\t0\t0\t0\t0\t0\t0\t0\t0\t0\t0\t0\t0\t11\t203\t229\t32\t0\t0\t0\t0\t0\t\n",
      "0\t0\t0\t0\t0\t0\t0\t0\t0\t0\t0\t0\t0\t0\t0\t26\t47\t47\t30\t95\t254\t215\t13\t0\t0\t0\t0\t0\t\n",
      "0\t0\t0\t0\t0\t0\t0\t0\t0\t0\t0\t45\t154\t185\t185\t223\t253\t253\t133\t175\t255\t188\t19\t0\t0\t0\t0\t0\t\n",
      "0\t0\t0\t0\t0\t0\t0\t0\t0\t0\t0\t110\t253\t253\t253\t246\t161\t228\t253\t253\t254\t92\t0\t0\t0\t0\t0\t0\t\n",
      "0\t0\t0\t0\t0\t0\t0\t0\t0\t0\t128\t245\t253\t158\t137\t21\t0\t48\t233\t253\t233\t8\t0\t0\t0\t0\t0\t0\t\n",
      "0\t0\t0\t0\t0\t0\t0\t0\t0\t0\t139\t254\t223\t25\t0\t0\t36\t170\t254\t244\t106\t0\t0\t0\t0\t0\t0\t0\t\n",
      "0\t0\t0\t0\t0\t0\t0\t0\t0\t0\t55\t212\t253\t161\t11\t26\t178\t253\t236\t113\t0\t0\t0\t0\t0\t0\t0\t0\t\n",
      "0\t0\t0\t0\t0\t0\t0\t0\t0\t0\t7\t155\t253\t228\t80\t223\t253\t253\t109\t0\t0\t0\t0\t0\t0\t0\t0\t0\t\n",
      "0\t0\t0\t0\t0\t0\t0\t0\t0\t0\t0\t141\t253\t253\t253\t254\t253\t154\t29\t0\t0\t0\t0\t0\t0\t0\t0\t0\t\n",
      "0\t0\t0\t0\t0\t0\t0\t0\t0\t0\t0\t110\t253\t253\t253\t254\t179\t38\t0\t0\t0\t0\t0\t0\t0\t0\t0\t0\t\n",
      "0\t0\t0\t0\t0\t0\t0\t0\t0\t0\t3\t171\t254\t254\t254\t179\t0\t0\t0\t0\t0\t0\t0\t0\t0\t0\t0\t0\t\n",
      "0\t0\t0\t0\t0\t0\t0\t0\t0\t0\t171\t253\t253\t253\t253\t178\t0\t0\t0\t0\t0\t0\t0\t0\t0\t0\t0\t0\t\n",
      "0\t0\t0\t0\t0\t0\t0\t0\t26\t123\t254\t253\t203\t156\t253\t200\t0\t0\t0\t0\t0\t0\t0\t0\t0\t0\t0\t0\t\n",
      "0\t0\t0\t0\t0\t0\t0\t0\t93\t253\t254\t121\t13\t93\t253\t158\t0\t0\t0\t0\t0\t0\t0\t0\t0\t0\t0\t0\t\n",
      "0\t0\t0\t0\t0\t0\t0\t64\t239\t253\t76\t8\t32\t219\t253\t126\t0\t0\t0\t0\t0\t0\t0\t0\t0\t0\t0\t0\t\n",
      "0\t0\t0\t0\t0\t0\t0\t133\t254\t191\t0\t5\t108\t234\t254\t106\t0\t0\t0\t0\t0\t0\t0\t0\t0\t0\t0\t0\t\n",
      "0\t0\t0\t0\t0\t0\t0\t132\t253\t190\t5\t85\t253\t236\t154\t0\t0\t0\t0\t0\t0\t0\t0\t0\t0\t0\t0\t0\t\n",
      "0\t0\t0\t0\t0\t0\t0\t153\t253\t169\t192\t253\t253\t77\t0\t0\t0\t0\t0\t0\t0\t0\t0\t0\t0\t0\t0\t0\t\n",
      "0\t0\t0\t0\t0\t0\t0\t112\t253\t253\t254\t236\t129\t9\t0\t0\t0\t0\t0\t0\t0\t0\t0\t0\t0\t0\t0\t0\t\n",
      "0\t0\t0\t0\t0\t0\t0\t17\t118\t243\t191\t113\t0\t0\t0\t0\t0\t0\t0\t0\t0\t0\t0\t0\t0\t0\t0\t0\t\n",
      "0\t0\t0\t0\t0\t0\t0\t0\t0\t0\t0\t0\t0\t0\t0\t0\t0\t0\t0\t0\t0\t0\t0\t0\t0\t0\t0\t0\t\n",
      "0\t0\t0\t0\t0\t0\t0\t0\t0\t0\t0\t0\t0\t0\t0\t0\t0\t0\t0\t0\t0\t0\t0\t0\t0\t0\t0\t0\t\n",
      "0\t0\t0\t0\t0\t0\t0\t0\t0\t0\t0\t0\t0\t0\t0\t0\t0\t0\t0\t0\t0\t0\t0\t0\t0\t0\t0\t0\t\n",
      "\n",
      "\n",
      "0\t0\t0\t0\t0\t0\t0\t0\t0\t0\t0\t0\t0\t0\t0\t0\t0\t0\t0\t0\t0\t0\t0\t0\t0\t0\t0\t0\t\n",
      "0\t0\t0\t0\t0\t0\t0\t0\t0\t0\t0\t0\t0\t0\t0\t0\t0\t0\t0\t0\t0\t0\t0\t0\t0\t0\t0\t0\t\n",
      "0\t0\t0\t0\t0\t0\t0\t0\t0\t0\t0\t0\t0\t0\t0\t0\t0\t0\t0\t0\t0\t0\t0\t0\t0\t0\t0\t0\t\n",
      "0\t0\t0\t0\t0\t0\t0\t0\t0\t0\t0\t0\t0\t0\t0\t0\t0\t0\t0\t0\t0\t0\t0\t0\t0\t0\t0\t0\t\n",
      "0\t0\t0\t0\t0\t0\t0\t0\t0\t0\t0\t0\t0\t0\t0\t0\t0\t0\t0\t0\t0\t0\t0\t0\t0\t0\t0\t0\t\n",
      "0\t0\t0\t0\t0\t0\t0\t0\t0\t0\t0\t0\t0\t0\t0\t0\t0\t0\t0\t0\t0\t0\t0\t0\t0\t0\t0\t0\t\n",
      "0\t0\t0\t0\t0\t0\t0\t0\t0\t0\t0\t0\t0\t0\t0\t0\t0\t0\t0\t0\t0\t0\t0\t0\t0\t0\t0\t0\t\n",
      "0\t0\t0\t0\t0\t0\t0\t0\t0\t0\t0\t0\t55\t148\t210\t253\t253\t113\t87\t148\t55\t0\t0\t0\t0\t0\t0\t0\t\n",
      "0\t0\t0\t0\t0\t0\t0\t0\t0\t0\t0\t87\t232\t252\t253\t189\t210\t252\t252\t253\t168\t0\t0\t0\t0\t0\t0\t0\t\n",
      "0\t0\t0\t0\t0\t0\t0\t0\t0\t4\t57\t242\t252\t190\t65\t5\t12\t182\t252\t253\t116\t0\t0\t0\t0\t0\t0\t0\t\n",
      "0\t0\t0\t0\t0\t0\t0\t0\t0\t96\t252\t252\t183\t14\t0\t0\t92\t252\t252\t225\t21\t0\t0\t0\t0\t0\t0\t0\t\n",
      "0\t0\t0\t0\t0\t0\t0\t0\t132\t253\t252\t146\t14\t0\t0\t0\t215\t252\t252\t79\t0\t0\t0\t0\t0\t0\t0\t0\t\n",
      "0\t0\t0\t0\t0\t0\t0\t126\t253\t247\t176\t9\t0\t0\t8\t78\t245\t253\t129\t0\t0\t0\t0\t0\t0\t0\t0\t0\t\n",
      "0\t0\t0\t0\t0\t0\t16\t232\t252\t176\t0\t0\t0\t36\t201\t252\t252\t169\t11\t0\t0\t0\t0\t0\t0\t0\t0\t0\t\n",
      "0\t0\t0\t0\t0\t0\t22\t252\t252\t30\t22\t119\t197\t241\t253\t252\t251\t77\t0\t0\t0\t0\t0\t0\t0\t0\t0\t0\t\n",
      "0\t0\t0\t0\t0\t0\t16\t231\t252\t253\t252\t252\t252\t226\t227\t252\t231\t0\t0\t0\t0\t0\t0\t0\t0\t0\t0\t0\t\n",
      "0\t0\t0\t0\t0\t0\t0\t55\t235\t253\t217\t138\t42\t24\t192\t252\t143\t0\t0\t0\t0\t0\t0\t0\t0\t0\t0\t0\t\n",
      "0\t0\t0\t0\t0\t0\t0\t0\t0\t0\t0\t0\t0\t62\t255\t253\t109\t0\t0\t0\t0\t0\t0\t0\t0\t0\t0\t0\t\n",
      "0\t0\t0\t0\t0\t0\t0\t0\t0\t0\t0\t0\t0\t71\t253\t252\t21\t0\t0\t0\t0\t0\t0\t0\t0\t0\t0\t0\t\n",
      "0\t0\t0\t0\t0\t0\t0\t0\t0\t0\t0\t0\t0\t0\t253\t252\t21\t0\t0\t0\t0\t0\t0\t0\t0\t0\t0\t0\t\n",
      "0\t0\t0\t0\t0\t0\t0\t0\t0\t0\t0\t0\t0\t71\t253\t252\t21\t0\t0\t0\t0\t0\t0\t0\t0\t0\t0\t0\t\n",
      "0\t0\t0\t0\t0\t0\t0\t0\t0\t0\t0\t0\t0\t106\t253\t252\t21\t0\t0\t0\t0\t0\t0\t0\t0\t0\t0\t0\t\n",
      "0\t0\t0\t0\t0\t0\t0\t0\t0\t0\t0\t0\t0\t45\t255\t253\t21\t0\t0\t0\t0\t0\t0\t0\t0\t0\t0\t0\t\n",
      "0\t0\t0\t0\t0\t0\t0\t0\t0\t0\t0\t0\t0\t0\t218\t252\t56\t0\t0\t0\t0\t0\t0\t0\t0\t0\t0\t0\t\n",
      "0\t0\t0\t0\t0\t0\t0\t0\t0\t0\t0\t0\t0\t0\t96\t252\t189\t42\t0\t0\t0\t0\t0\t0\t0\t0\t0\t0\t\n",
      "0\t0\t0\t0\t0\t0\t0\t0\t0\t0\t0\t0\t0\t0\t14\t184\t252\t170\t11\t0\t0\t0\t0\t0\t0\t0\t0\t0\t\n",
      "0\t0\t0\t0\t0\t0\t0\t0\t0\t0\t0\t0\t0\t0\t0\t14\t147\t252\t42\t0\t0\t0\t0\t0\t0\t0\t0\t0\t\n",
      "0\t0\t0\t0\t0\t0\t0\t0\t0\t0\t0\t0\t0\t0\t0\t0\t0\t0\t0\t0\t0\t0\t0\t0\t0\t0\t0\t0\t\n",
      "\n",
      "\n"
     ]
    }
   ],
   "source": [
    "import sys\n",
    "for x in range(10):\n",
    "    for i in X_train[Y_train==x][0]:\n",
    "        for j in i:\n",
    "            sys.stdout.write('%d\\t' % j)\n",
    "        sys.stdout.write('\\n')\n",
    "    print()\n",
    "    print()"
   ]
  },
  {
   "cell_type": "code",
   "execution_count": null,
   "metadata": {},
   "outputs": [],
   "source": []
  },
  {
   "cell_type": "markdown",
   "metadata": {},
   "source": [
    "### Reshaping dimension"
   ]
  },
  {
   "cell_type": "code",
   "execution_count": 135,
   "metadata": {},
   "outputs": [],
   "source": [
    "X_train = np.reshape(X_train, (X_train.shape[0],-1) )\n",
    "X_test = np.reshape(X_test, (X_test.shape[0],-1) )"
   ]
  },
  {
   "cell_type": "code",
   "execution_count": null,
   "metadata": {},
   "outputs": [],
   "source": []
  },
  {
   "cell_type": "markdown",
   "metadata": {},
   "source": [
    "### Normalization"
   ]
  },
  {
   "cell_type": "code",
   "execution_count": 111,
   "metadata": {},
   "outputs": [],
   "source": [
    "X_train = X_train / 256\n",
    "X_test= X_test/ 256"
   ]
  },
  {
   "cell_type": "code",
   "execution_count": null,
   "metadata": {},
   "outputs": [],
   "source": []
  },
  {
   "cell_type": "markdown",
   "metadata": {},
   "source": [
    "### Cateorization"
   ]
  },
  {
   "cell_type": "code",
   "execution_count": 112,
   "metadata": {},
   "outputs": [],
   "source": [
    "Y_test = to_categorical(Y_test)\n",
    "Y_train = to_categorical(Y_train)"
   ]
  },
  {
   "cell_type": "code",
   "execution_count": null,
   "metadata": {},
   "outputs": [],
   "source": []
  },
  {
   "cell_type": "markdown",
   "metadata": {},
   "source": [
    "### Model save directory setting"
   ]
  },
  {
   "cell_type": "code",
   "execution_count": 7,
   "metadata": {},
   "outputs": [],
   "source": [
    "save_path = './Results/'\n",
    "if not os.path.exists(save_path):\n",
    "    os.mkdir(save_path)"
   ]
  },
  {
   "cell_type": "code",
   "execution_count": null,
   "metadata": {},
   "outputs": [],
   "source": []
  },
  {
   "cell_type": "markdown",
   "metadata": {},
   "source": [
    "### Model definition"
   ]
  },
  {
   "cell_type": "code",
   "execution_count": 14,
   "metadata": {},
   "outputs": [],
   "source": [
    "def MNISTModel ():\n",
    "    InpL = Input(X_train.shape[-1])\n",
    "    DenseL = Dense(200, activation='relu')(InpL)\n",
    "    DenseL = Dense(100, activation='relu')(DenseL)\n",
    "    DenseL = Dense(20, activation='relu')(DenseL)\n",
    "    OutPut = Dense(Y_train.shape[1], activation='softmax')(DenseL)\n",
    "\n",
    "    return Model(InpL,OutPut)   \n",
    "    "
   ]
  },
  {
   "cell_type": "code",
   "execution_count": 30,
   "metadata": {
    "scrolled": true,
    "tags": []
   },
   "outputs": [
    {
     "name": "stdout",
     "output_type": "stream",
     "text": [
      "Epoch 1/200\n",
      "600/600 [==============================] - 2s 3ms/step - loss: 0.5659 - accuracy: 0.8318 - val_loss: 0.1328 - val_accuracy: 0.9593\n",
      "\n",
      "Epoch 00001: val_loss improved from inf to 0.13278, saving model to ./Results\\MNISTM.hdf5\n",
      "Epoch 2/200\n",
      "600/600 [==============================] - 2s 3ms/step - loss: 0.1240 - accuracy: 0.9640 - val_loss: 0.0983 - val_accuracy: 0.9702\n",
      "\n",
      "Epoch 00002: val_loss improved from 0.13278 to 0.09830, saving model to ./Results\\MNISTM.hdf5\n",
      "Epoch 3/200\n",
      "600/600 [==============================] - 2s 3ms/step - loss: 0.0745 - accuracy: 0.9779 - val_loss: 0.0841 - val_accuracy: 0.9738\n",
      "\n",
      "Epoch 00003: val_loss improved from 0.09830 to 0.08411, saving model to ./Results\\MNISTM.hdf5\n",
      "Epoch 4/200\n",
      "600/600 [==============================] - 2s 3ms/step - loss: 0.0530 - accuracy: 0.9833 - val_loss: 0.0747 - val_accuracy: 0.9786\n",
      "\n",
      "Epoch 00004: val_loss improved from 0.08411 to 0.07468, saving model to ./Results\\MNISTM.hdf5\n",
      "Epoch 5/200\n",
      "600/600 [==============================] - 1s 2ms/step - loss: 0.0402 - accuracy: 0.9875 - val_loss: 0.0830 - val_accuracy: 0.9763\n",
      "\n",
      "Epoch 00005: val_loss did not improve from 0.07468\n",
      "Epoch 6/200\n",
      "600/600 [==============================] - 2s 3ms/step - loss: 0.0368 - accuracy: 0.9888 - val_loss: 0.0720 - val_accuracy: 0.9791\n",
      "\n",
      "Epoch 00006: val_loss improved from 0.07468 to 0.07200, saving model to ./Results\\MNISTM.hdf5\n",
      "Epoch 7/200\n",
      "600/600 [==============================] - 2s 3ms/step - loss: 0.0248 - accuracy: 0.9926 - val_loss: 0.0788 - val_accuracy: 0.9774\n",
      "\n",
      "Epoch 00007: val_loss did not improve from 0.07200\n",
      "Epoch 8/200\n",
      "600/600 [==============================] - 2s 3ms/step - loss: 0.0210 - accuracy: 0.9929 - val_loss: 0.0819 - val_accuracy: 0.9786\n",
      "\n",
      "Epoch 00008: val_loss did not improve from 0.07200\n",
      "Epoch 9/200\n",
      "600/600 [==============================] - 2s 3ms/step - loss: 0.0175 - accuracy: 0.9942 - val_loss: 0.0784 - val_accuracy: 0.9785\n",
      "\n",
      "Epoch 00009: val_loss did not improve from 0.07200\n",
      "Epoch 10/200\n",
      "600/600 [==============================] - 1s 2ms/step - loss: 0.0157 - accuracy: 0.9950 - val_loss: 0.0855 - val_accuracy: 0.9792\n",
      "\n",
      "Epoch 00010: val_loss did not improve from 0.07200\n",
      "Epoch 11/200\n",
      "600/600 [==============================] - 1s 2ms/step - loss: 0.0158 - accuracy: 0.9945 - val_loss: 0.0782 - val_accuracy: 0.9818\n",
      "\n",
      "Epoch 00011: val_loss did not improve from 0.07200\n",
      "Epoch 12/200\n",
      "600/600 [==============================] - 1s 2ms/step - loss: 0.0117 - accuracy: 0.9962 - val_loss: 0.0934 - val_accuracy: 0.9771\n",
      "\n",
      "Epoch 00012: val_loss did not improve from 0.07200\n",
      "Epoch 13/200\n",
      "600/600 [==============================] - 1s 2ms/step - loss: 0.0085 - accuracy: 0.9973 - val_loss: 0.1493 - val_accuracy: 0.9677\n",
      "\n",
      "Epoch 00013: val_loss did not improve from 0.07200\n",
      "Epoch 14/200\n",
      "600/600 [==============================] - 1s 2ms/step - loss: 0.0137 - accuracy: 0.9954 - val_loss: 0.0888 - val_accuracy: 0.9772\n",
      "\n",
      "Epoch 00014: val_loss did not improve from 0.07200\n",
      "Epoch 15/200\n",
      "600/600 [==============================] - 2s 3ms/step - loss: 0.0123 - accuracy: 0.9959 - val_loss: 0.0863 - val_accuracy: 0.9794\n",
      "\n",
      "Epoch 00015: val_loss did not improve from 0.07200\n",
      "Epoch 16/200\n",
      "600/600 [==============================] - 1s 2ms/step - loss: 0.0079 - accuracy: 0.9972 - val_loss: 0.0968 - val_accuracy: 0.9782\n",
      "\n",
      "Epoch 00016: val_loss did not improve from 0.07200\n",
      "Epoch 17/200\n",
      "600/600 [==============================] - 1s 2ms/step - loss: 0.0118 - accuracy: 0.9959 - val_loss: 0.0898 - val_accuracy: 0.9797\n",
      "\n",
      "Epoch 00017: val_loss did not improve from 0.07200\n",
      "Epoch 18/200\n",
      "600/600 [==============================] - 2s 3ms/step - loss: 0.0077 - accuracy: 0.9971 - val_loss: 0.1025 - val_accuracy: 0.9793\n",
      "\n",
      "Epoch 00018: val_loss did not improve from 0.07200\n",
      "Epoch 19/200\n",
      "600/600 [==============================] - 2s 3ms/step - loss: 0.0090 - accuracy: 0.9970 - val_loss: 0.0965 - val_accuracy: 0.9818\n",
      "\n",
      "Epoch 00019: val_loss did not improve from 0.07200\n",
      "Epoch 20/200\n",
      "600/600 [==============================] - 1s 2ms/step - loss: 0.0093 - accuracy: 0.9971 - val_loss: 0.0971 - val_accuracy: 0.9799\n",
      "\n",
      "Epoch 00020: val_loss did not improve from 0.07200\n",
      "Epoch 21/200\n",
      "600/600 [==============================] - 1s 2ms/step - loss: 0.0042 - accuracy: 0.9986 - val_loss: 0.1156 - val_accuracy: 0.9788\n",
      "\n",
      "Epoch 00021: val_loss did not improve from 0.07200\n",
      "Epoch 22/200\n",
      "600/600 [==============================] - 1s 2ms/step - loss: 0.0073 - accuracy: 0.9976 - val_loss: 0.1008 - val_accuracy: 0.9791\n",
      "\n",
      "Epoch 00022: val_loss did not improve from 0.07200\n",
      "Epoch 23/200\n",
      "600/600 [==============================] - 1s 2ms/step - loss: 0.0056 - accuracy: 0.9979 - val_loss: 0.0962 - val_accuracy: 0.9812\n",
      "\n",
      "Epoch 00023: val_loss did not improve from 0.07200\n",
      "Epoch 24/200\n",
      "600/600 [==============================] - 1s 2ms/step - loss: 0.0116 - accuracy: 0.9964 - val_loss: 0.1062 - val_accuracy: 0.9800\n",
      "\n",
      "Epoch 00024: val_loss did not improve from 0.07200\n",
      "Epoch 25/200\n",
      "600/600 [==============================] - 1s 2ms/step - loss: 0.0035 - accuracy: 0.9988 - val_loss: 0.0980 - val_accuracy: 0.9802\n",
      "\n",
      "Epoch 00025: val_loss did not improve from 0.07200\n",
      "Epoch 26/200\n",
      "600/600 [==============================] - 2s 3ms/step - loss: 0.0061 - accuracy: 0.9981 - val_loss: 0.1036 - val_accuracy: 0.9806\n",
      "\n",
      "Epoch 00026: val_loss did not improve from 0.07200\n",
      "Epoch 27/200\n",
      "600/600 [==============================] - 1s 2ms/step - loss: 0.0102 - accuracy: 0.9969 - val_loss: 0.1010 - val_accuracy: 0.9805\n",
      "\n",
      "Epoch 00027: val_loss did not improve from 0.07200\n",
      "Epoch 28/200\n",
      "600/600 [==============================] - 2s 3ms/step - loss: 0.0046 - accuracy: 0.9985 - val_loss: 0.0878 - val_accuracy: 0.9832\n",
      "\n",
      "Epoch 00028: val_loss did not improve from 0.07200\n",
      "Epoch 29/200\n",
      "600/600 [==============================] - 1s 2ms/step - loss: 0.0040 - accuracy: 0.9988 - val_loss: 0.1102 - val_accuracy: 0.9811\n",
      "\n",
      "Epoch 00029: val_loss did not improve from 0.07200\n",
      "Epoch 30/200\n",
      "600/600 [==============================] - 1s 2ms/step - loss: 0.0053 - accuracy: 0.9981 - val_loss: 0.1098 - val_accuracy: 0.9792\n",
      "\n",
      "Epoch 00030: val_loss did not improve from 0.07200\n",
      "Epoch 31/200\n",
      "600/600 [==============================] - 1s 2ms/step - loss: 0.0066 - accuracy: 0.9981 - val_loss: 0.1114 - val_accuracy: 0.9797\n",
      "\n",
      "Epoch 00031: val_loss did not improve from 0.07200\n",
      "Epoch 32/200\n",
      "600/600 [==============================] - 1s 2ms/step - loss: 0.0059 - accuracy: 0.9981 - val_loss: 0.1172 - val_accuracy: 0.9797\n",
      "\n",
      "Epoch 00032: val_loss did not improve from 0.07200\n",
      "Epoch 33/200\n",
      "600/600 [==============================] - 1s 2ms/step - loss: 0.0063 - accuracy: 0.9977 - val_loss: 0.1293 - val_accuracy: 0.9786\n",
      "\n",
      "Epoch 00033: val_loss did not improve from 0.07200\n",
      "Epoch 34/200\n",
      "600/600 [==============================] - 1s 2ms/step - loss: 0.0072 - accuracy: 0.9980 - val_loss: 0.1212 - val_accuracy: 0.9782\n",
      "\n",
      "Epoch 00034: val_loss did not improve from 0.07200\n",
      "Epoch 35/200\n",
      "600/600 [==============================] - 1s 2ms/step - loss: 0.0023 - accuracy: 0.9994 - val_loss: 0.1059 - val_accuracy: 0.9833\n",
      "\n",
      "Epoch 00035: val_loss did not improve from 0.07200\n",
      "Epoch 36/200\n",
      "600/600 [==============================] - 1s 2ms/step - loss: 0.0015 - accuracy: 0.9996 - val_loss: 0.1331 - val_accuracy: 0.9787\n",
      "\n",
      "Epoch 00036: val_loss did not improve from 0.07200\n"
     ]
    }
   ],
   "source": [
    "### Model checkpoint\n",
    "ModelSaveSameName = save_path+'MNISTM.hdf5'\n",
    "ModelSave = ModelCheckpoint(filepath=ModelSaveSameName, monitor='val_loss', verbose=1, save_best_only=True)\n",
    "\n",
    "### Model Early stop\n",
    "EarlyStop = EarlyStopping(monitor='val_loss', patience=30)\n",
    "\n",
    "MNISTM = MNISTModel()\n",
    "MNISTM.compile(loss=tf.losses.categorical_crossentropy, optimizer='adam', metrics=['accuracy'])\n",
    "MNISTHist = MNISTM.fit(X_train, Y_train, validation_data=(X_test,Y_test), epochs=200, batch_size=100,  verbose=1, callbacks=[ModelSave, EarlyStop])"
   ]
  },
  {
   "cell_type": "code",
   "execution_count": null,
   "metadata": {},
   "outputs": [],
   "source": []
  },
  {
   "cell_type": "markdown",
   "metadata": {},
   "source": [
    "### Model weight load and evaluate it"
   ]
  },
  {
   "cell_type": "code",
   "execution_count": 27,
   "metadata": {},
   "outputs": [
    {
     "name": "stdout",
     "output_type": "stream",
     "text": [
      "Before loading weights\n",
      "313/313 [==============================] - 1s 1ms/step - loss: 0.7501 - accuracy: 0.1028\n",
      "[0.7536782622337341, 0.09889999777078629]\n",
      "\n",
      "After loading weights\n",
      "313/313 [==============================] - 1s 2ms/step - loss: 0.2235 - accuracy: 0.9784\n",
      "[0.22347016632556915, 0.9783999919891357]\n"
     ]
    }
   ],
   "source": [
    "MNISTM = MNISTModel()\n",
    "MNISTM.compile(loss=tf.losses.binary_crossentropy, optimizer='adam', metrics=['accuracy'])\n",
    "print('Before loading weights')\n",
    "print(MNISTM.evaluate(X_test,Y_test))\n",
    "print()\n",
    "\n",
    "MNISTM.load_weights(ModelSaveSameName)\n",
    "print('After loading weights')\n",
    "print(MNISTM.evaluate(X_test,Y_test))"
   ]
  },
  {
   "cell_type": "code",
   "execution_count": null,
   "metadata": {},
   "outputs": [],
   "source": []
  },
  {
   "cell_type": "markdown",
   "metadata": {},
   "source": [
    "### Plot loss graphs"
   ]
  },
  {
   "cell_type": "code",
   "execution_count": 32,
   "metadata": {},
   "outputs": [
    {
     "data": {
      "text/plain": [
       "Text(0, 0.5, 'loss')"
      ]
     },
     "execution_count": 32,
     "metadata": {},
     "output_type": "execute_result"
    },
    {
     "data": {
      "image/png": "[encoded data removed]",
      "text/plain": [
       "<Figure size 640x480 with 1 Axes>"
      ]
     },
     "metadata": {},
     "output_type": "display_data"
    }
   ],
   "source": [
    "plt.plot(MNISTHist.history['loss'], label='Tr', marker='.')\n",
    "plt.plot(MNISTHist.history['val_loss'], label='Val', marker='.')\n",
    "plt.legend() \n",
    "plt.xlabel('epoch')\n",
    "plt.ylabel('loss')"
   ]
  }
 ],
 "metadata": {
  "kernelspec": {
   "display_name": "Python 3",
   "language": "python",
   "name": "python3"
  },
  "language_info": {
   "codemirror_mode": {
    "name": "ipython",
    "version": 3
   },
   "file_extension": ".py",
   "mimetype": "text/x-python",
   "name": "python",
   "nbconvert_exporter": "python",
   "pygments_lexer": "ipython3",
   "version": "3.8.5"
  }
 },
 "nbformat": 4,
 "nbformat_minor": 5
}
