{
 "cells": [
  {
   "cell_type": "code",
   "execution_count": 2,
   "metadata": {},
   "outputs": [],
   "source": [
    "import os\n",
    "import numpy as np\n",
    "\n",
    "import tensorflow as tf\n",
    "from tensorflow.keras.datasets import mnist\n",
    "from tensorflow.keras.utils import to_categorical\n",
    "import matplotlib.pyplot as plt\n",
    "\n",
    "from tensorflow.keras.layers import Dense, Input, Dropout, Flatten, Conv2D, MaxPool2D\n",
    "from tensorflow.keras import Model\n",
    "from tensorflow.keras.callbacks import ModelCheckpoint, EarlyStopping"
   ]
  },
  {
   "cell_type": "code",
   "execution_count": null,
   "metadata": {},
   "outputs": [],
   "source": []
  },
  {
   "cell_type": "markdown",
   "metadata": {},
   "source": [
    "### Data load"
   ]
  },
  {
   "cell_type": "code",
   "execution_count": 65,
   "metadata": {},
   "outputs": [
    {
     "data": {
      "text/plain": [
       "((60000, 28, 28, 1), (10000, 28, 28, 1))"
      ]
     },
     "execution_count": 65,
     "metadata": {},
     "output_type": "execute_result"
    }
   ],
   "source": [
    "(X_train, Y_train),(X_test, Y_test) = mnist.load_data()\n",
    "X_train = X_train[:,:,:, None]\n",
    "X_test = X_test[:,:,:, None]\n",
    "\n",
    "X_train.shape, X_test.shape"
   ]
  },
  {
   "cell_type": "code",
   "execution_count": null,
   "metadata": {},
   "outputs": [],
   "source": []
  },
  {
   "cell_type": "markdown",
   "metadata": {},
   "source": [
    "### Normalization"
   ]
  },
  {
   "cell_type": "code",
   "execution_count": 4,
   "metadata": {},
   "outputs": [],
   "source": [
    "X_train = X_train / 256\n",
    "X_test= X_test/ 256"
   ]
  },
  {
   "cell_type": "code",
   "execution_count": null,
   "metadata": {},
   "outputs": [],
   "source": []
  },
  {
   "cell_type": "markdown",
   "metadata": {},
   "source": [
    "### Cateorization"
   ]
  },
  {
   "cell_type": "code",
   "execution_count": 5,
   "metadata": {},
   "outputs": [],
   "source": [
    "Y_test = to_categorical(Y_test)\n",
    "Y_train = to_categorical(Y_train)"
   ]
  },
  {
   "cell_type": "code",
   "execution_count": null,
   "metadata": {},
   "outputs": [],
   "source": []
  },
  {
   "cell_type": "markdown",
   "metadata": {},
   "source": [
    "### Model save directory setting"
   ]
  },
  {
   "cell_type": "code",
   "execution_count": 6,
   "metadata": {},
   "outputs": [],
   "source": [
    "save_path = './Results/'\n",
    "if not os.path.exists(save_path):\n",
    "    os.mkdir(save_path)"
   ]
  },
  {
   "cell_type": "code",
   "execution_count": null,
   "metadata": {},
   "outputs": [],
   "source": []
  },
  {
   "cell_type": "markdown",
   "metadata": {},
   "source": [
    "### Model definition"
   ]
  },
  {
   "cell_type": "code",
   "execution_count": 45,
   "metadata": {},
   "outputs": [],
   "source": [
    "def MNISTModel ():\n",
    "    InpL = Input( shape=(X_train.shape[1] , X_train.shape[2], 1))\n",
    "    ConvL = Conv2D(filters=32, kernel_size=(3,3), strides=(1, 1), padding='valid', activation='relu')(InpL)\n",
    "    print(ConvL)\n",
    "    ConvL = MaxPool2D(pool_size=(2,2), strides=(1, 1), padding='valid' )(ConvL)\n",
    "    ConvL = Dropout(0.2)(ConvL)\n",
    "    print(ConvL)\n",
    "    ConvL = Conv2D(filters=64, kernel_size=(3,3), strides=(2, 2), padding='valid', activation='relu')(ConvL)\n",
    "    print(ConvL)\n",
    "    ConvL = MaxPool2D(pool_size=(2,2), strides=(1, 1), padding='valid' )(ConvL)\n",
    "    ConvL = Dropout(0.2)(ConvL)\n",
    "    print(ConvL)\n",
    "\n",
    "    DNNL = Flatten()(ConvL)\n",
    "    print(DNNL)\n",
    "\n",
    "    DNNL = Dense(200, activation='relu')(DNNL)\n",
    "    DNNL = Dense(100, activation='relu')(DNNL)\n",
    "    Output = Dense(10, activation='softmax')(DNNL)\n",
    "\n",
    "    return Model(InpL,Output)   \n",
    "    "
   ]
  },
  {
   "cell_type": "code",
   "execution_count": 47,
   "metadata": {
    "scrolled": true,
    "tags": []
   },
   "outputs": [
    {
     "name": "stdout",
     "output_type": "stream",
     "text": [
      "KerasTensor(type_spec=TensorSpec(shape=(None, 26, 26, 32), dtype=tf.float32, name=None), name='conv2d_51/Relu:0', description=\"created by layer 'conv2d_51'\")\n",
      "KerasTensor(type_spec=TensorSpec(shape=(None, 25, 25, 32), dtype=tf.float32, name=None), name='dropout_21/Identity:0', description=\"created by layer 'dropout_21'\")\n",
      "KerasTensor(type_spec=TensorSpec(shape=(None, 12, 12, 64), dtype=tf.float32, name=None), name='conv2d_52/Relu:0', description=\"created by layer 'conv2d_52'\")\n",
      "KerasTensor(type_spec=TensorSpec(shape=(None, 11, 11, 64), dtype=tf.float32, name=None), name='dropout_22/Identity:0', description=\"created by layer 'dropout_22'\")\n",
      "KerasTensor(type_spec=TensorSpec(shape=(None, 7744), dtype=tf.float32, name=None), name='flatten_9/Reshape:0', description=\"created by layer 'flatten_9'\")\n",
      "Epoch 1/200\n",
      "200/200 [==============================] - 7s 12ms/step - loss: 0.5227 - accuracy: 0.8314 - val_loss: 0.0582 - val_accuracy: 0.9821\n",
      "\n",
      "Epoch 00001: val_loss improved from inf to 0.05819, saving model to ./Results\\MNISTM.hdf5\n",
      "Epoch 2/200\n",
      "200/200 [==============================] - 2s 9ms/step - loss: 0.0572 - accuracy: 0.9821 - val_loss: 0.0371 - val_accuracy: 0.9873\n",
      "\n",
      "Epoch 00002: val_loss improved from 0.05819 to 0.03708, saving model to ./Results\\MNISTM.hdf5\n",
      "Epoch 3/200\n",
      "200/200 [==============================] - 2s 9ms/step - loss: 0.0361 - accuracy: 0.9895 - val_loss: 0.0299 - val_accuracy: 0.9903\n",
      "\n",
      "Epoch 00003: val_loss improved from 0.03708 to 0.02991, saving model to ./Results\\MNISTM.hdf5\n",
      "Epoch 4/200\n",
      "200/200 [==============================] - 2s 9ms/step - loss: 0.0293 - accuracy: 0.9906 - val_loss: 0.0267 - val_accuracy: 0.9908\n",
      "\n",
      "Epoch 00004: val_loss improved from 0.02991 to 0.02671, saving model to ./Results\\MNISTM.hdf5\n",
      "Epoch 5/200\n",
      "200/200 [==============================] - 2s 10ms/step - loss: 0.0210 - accuracy: 0.9930 - val_loss: 0.0354 - val_accuracy: 0.9896\n",
      "\n",
      "Epoch 00005: val_loss did not improve from 0.02671\n",
      "Epoch 6/200\n",
      "200/200 [==============================] - 2s 9ms/step - loss: 0.0196 - accuracy: 0.9930 - val_loss: 0.0276 - val_accuracy: 0.9910\n",
      "\n",
      "Epoch 00006: val_loss did not improve from 0.02671\n",
      "Epoch 7/200\n",
      "200/200 [==============================] - 2s 9ms/step - loss: 0.0156 - accuracy: 0.9948 - val_loss: 0.0308 - val_accuracy: 0.9905\n",
      "\n",
      "Epoch 00007: val_loss did not improve from 0.02671\n",
      "Epoch 8/200\n",
      "200/200 [==============================] - 2s 9ms/step - loss: 0.0116 - accuracy: 0.9959 - val_loss: 0.0239 - val_accuracy: 0.9920\n",
      "\n",
      "Epoch 00008: val_loss improved from 0.02671 to 0.02389, saving model to ./Results\\MNISTM.hdf5\n",
      "Epoch 9/200\n",
      "200/200 [==============================] - 2s 9ms/step - loss: 0.0107 - accuracy: 0.9964 - val_loss: 0.0257 - val_accuracy: 0.9909\n",
      "\n",
      "Epoch 00009: val_loss did not improve from 0.02389\n",
      "Epoch 10/200\n",
      "200/200 [==============================] - 2s 9ms/step - loss: 0.0107 - accuracy: 0.9964 - val_loss: 0.0282 - val_accuracy: 0.9918\n",
      "\n",
      "Epoch 00010: val_loss did not improve from 0.02389\n",
      "Epoch 11/200\n",
      "200/200 [==============================] - 2s 10ms/step - loss: 0.0101 - accuracy: 0.9965 - val_loss: 0.0263 - val_accuracy: 0.9916\n",
      "\n",
      "Epoch 00011: val_loss did not improve from 0.02389\n",
      "Epoch 12/200\n",
      "200/200 [==============================] - 2s 10ms/step - loss: 0.0078 - accuracy: 0.9971 - val_loss: 0.0278 - val_accuracy: 0.9917\n",
      "\n",
      "Epoch 00012: val_loss did not improve from 0.02389\n",
      "Epoch 13/200\n",
      "200/200 [==============================] - 2s 10ms/step - loss: 0.0085 - accuracy: 0.9970 - val_loss: 0.0326 - val_accuracy: 0.9913\n",
      "\n",
      "Epoch 00013: val_loss did not improve from 0.02389\n",
      "Epoch 14/200\n",
      "200/200 [==============================] - 2s 9ms/step - loss: 0.0071 - accuracy: 0.9978 - val_loss: 0.0302 - val_accuracy: 0.9913\n",
      "\n",
      "Epoch 00014: val_loss did not improve from 0.02389\n",
      "Epoch 15/200\n",
      "200/200 [==============================] - 2s 10ms/step - loss: 0.0055 - accuracy: 0.9982 - val_loss: 0.0294 - val_accuracy: 0.9919\n",
      "\n",
      "Epoch 00015: val_loss did not improve from 0.02389\n",
      "Epoch 16/200\n",
      "200/200 [==============================] - 2s 10ms/step - loss: 0.0053 - accuracy: 0.9982 - val_loss: 0.0314 - val_accuracy: 0.9923\n",
      "\n",
      "Epoch 00016: val_loss did not improve from 0.02389\n",
      "Epoch 17/200\n",
      "200/200 [==============================] - 2s 10ms/step - loss: 0.0079 - accuracy: 0.9978 - val_loss: 0.0269 - val_accuracy: 0.9929\n",
      "\n",
      "Epoch 00017: val_loss did not improve from 0.02389\n",
      "Epoch 18/200\n",
      "200/200 [==============================] - 2s 9ms/step - loss: 0.0051 - accuracy: 0.9981 - val_loss: 0.0339 - val_accuracy: 0.9910\n",
      "\n",
      "Epoch 00018: val_loss did not improve from 0.02389\n",
      "Epoch 19/200\n",
      "200/200 [==============================] - 2s 10ms/step - loss: 0.0043 - accuracy: 0.9985 - val_loss: 0.0344 - val_accuracy: 0.9917\n",
      "\n",
      "Epoch 00019: val_loss did not improve from 0.02389\n",
      "Epoch 20/200\n",
      "200/200 [==============================] - 2s 10ms/step - loss: 0.0039 - accuracy: 0.9988 - val_loss: 0.0305 - val_accuracy: 0.9924\n",
      "\n",
      "Epoch 00020: val_loss did not improve from 0.02389\n",
      "Epoch 21/200\n",
      "200/200 [==============================] - 2s 10ms/step - loss: 0.0040 - accuracy: 0.9986 - val_loss: 0.0308 - val_accuracy: 0.9923\n",
      "\n",
      "Epoch 00021: val_loss did not improve from 0.02389\n",
      "Epoch 22/200\n",
      "200/200 [==============================] - 2s 10ms/step - loss: 0.0038 - accuracy: 0.9986 - val_loss: 0.0324 - val_accuracy: 0.9920\n",
      "\n",
      "Epoch 00022: val_loss did not improve from 0.02389\n",
      "Epoch 23/200\n",
      "200/200 [==============================] - 2s 10ms/step - loss: 0.0023 - accuracy: 0.9993 - val_loss: 0.0331 - val_accuracy: 0.9923\n",
      "\n",
      "Epoch 00023: val_loss did not improve from 0.02389\n",
      "Epoch 24/200\n",
      "200/200 [==============================] - 2s 11ms/step - loss: 0.0033 - accuracy: 0.9987 - val_loss: 0.0426 - val_accuracy: 0.9900\n",
      "\n",
      "Epoch 00024: val_loss did not improve from 0.02389\n",
      "Epoch 25/200\n",
      "200/200 [==============================] - 2s 10ms/step - loss: 0.0052 - accuracy: 0.9983 - val_loss: 0.0357 - val_accuracy: 0.9914\n",
      "\n",
      "Epoch 00025: val_loss did not improve from 0.02389\n",
      "Epoch 26/200\n",
      "200/200 [==============================] - 2s 10ms/step - loss: 0.0046 - accuracy: 0.9984 - val_loss: 0.0336 - val_accuracy: 0.9924\n",
      "\n",
      "Epoch 00026: val_loss did not improve from 0.02389\n",
      "Epoch 27/200\n",
      "200/200 [==============================] - 2s 10ms/step - loss: 0.0022 - accuracy: 0.9994 - val_loss: 0.0371 - val_accuracy: 0.9921\n",
      "\n",
      "Epoch 00027: val_loss did not improve from 0.02389\n",
      "Epoch 28/200\n",
      "200/200 [==============================] - 2s 10ms/step - loss: 0.0033 - accuracy: 0.9988 - val_loss: 0.0373 - val_accuracy: 0.9924\n",
      "\n",
      "Epoch 00028: val_loss did not improve from 0.02389\n",
      "Epoch 29/200\n",
      "200/200 [==============================] - 2s 10ms/step - loss: 0.0026 - accuracy: 0.9991 - val_loss: 0.0344 - val_accuracy: 0.9930\n",
      "\n",
      "Epoch 00029: val_loss did not improve from 0.02389\n",
      "Epoch 30/200\n",
      "200/200 [==============================] - 2s 10ms/step - loss: 0.0034 - accuracy: 0.9989 - val_loss: 0.0346 - val_accuracy: 0.9933\n",
      "\n",
      "Epoch 00030: val_loss did not improve from 0.02389\n",
      "Epoch 31/200\n",
      "200/200 [==============================] - 2s 11ms/step - loss: 0.0047 - accuracy: 0.9985 - val_loss: 0.0350 - val_accuracy: 0.9922\n",
      "\n",
      "Epoch 00031: val_loss did not improve from 0.02389\n",
      "Epoch 32/200\n",
      "200/200 [==============================] - 2s 10ms/step - loss: 0.0029 - accuracy: 0.9991 - val_loss: 0.0371 - val_accuracy: 0.9914\n",
      "\n",
      "Epoch 00032: val_loss did not improve from 0.02389\n",
      "Epoch 33/200\n",
      "200/200 [==============================] - 2s 10ms/step - loss: 0.0036 - accuracy: 0.9988 - val_loss: 0.0435 - val_accuracy: 0.9914\n",
      "\n",
      "Epoch 00033: val_loss did not improve from 0.02389\n",
      "Epoch 34/200\n",
      "200/200 [==============================] - 2s 10ms/step - loss: 0.0028 - accuracy: 0.9989 - val_loss: 0.0335 - val_accuracy: 0.9930\n",
      "\n",
      "Epoch 00034: val_loss did not improve from 0.02389\n",
      "Epoch 35/200\n",
      "200/200 [==============================] - 2s 10ms/step - loss: 0.0024 - accuracy: 0.9993 - val_loss: 0.0416 - val_accuracy: 0.9919\n",
      "\n",
      "Epoch 00035: val_loss did not improve from 0.02389\n",
      "Epoch 36/200\n",
      "200/200 [==============================] - 2s 10ms/step - loss: 0.0034 - accuracy: 0.9990 - val_loss: 0.0368 - val_accuracy: 0.9920\n",
      "\n",
      "Epoch 00036: val_loss did not improve from 0.02389\n",
      "Epoch 37/200\n",
      "200/200 [==============================] - 2s 10ms/step - loss: 0.0023 - accuracy: 0.9992 - val_loss: 0.0409 - val_accuracy: 0.9906\n",
      "\n",
      "Epoch 00037: val_loss did not improve from 0.02389\n",
      "Epoch 38/200\n",
      "200/200 [==============================] - 2s 10ms/step - loss: 0.0038 - accuracy: 0.9987 - val_loss: 0.0315 - val_accuracy: 0.9928\n",
      "\n",
      "Epoch 00038: val_loss did not improve from 0.02389\n"
     ]
    }
   ],
   "source": [
    "### Model checkpoint\n",
    "ModelSaveSameName = save_path+'MNISTM.hdf5'\n",
    "ModelSave = ModelCheckpoint(filepath=ModelSaveSameName, monitor='val_loss', verbose=1, save_best_only=True)\n",
    "\n",
    "### Model Early stop\n",
    "EarlyStop = EarlyStopping(monitor='val_loss', patience=30)\n",
    "\n",
    "MNISTM = MNISTModel()\n",
    "MNISTM.compile(loss=tf.losses.categorical_crossentropy, optimizer='adam', metrics=['accuracy'])\n",
    "MNISTHist = MNISTM.fit(X_train, Y_train, validation_data=(X_test,Y_test), epochs=200, batch_size=300,  verbose=1, callbacks=[ModelSave, EarlyStop])"
   ]
  },
  {
   "cell_type": "code",
   "execution_count": null,
   "metadata": {},
   "outputs": [],
   "source": []
  },
  {
   "cell_type": "markdown",
   "metadata": {},
   "source": [
    "### Model weight load and evaluate it"
   ]
  },
  {
   "cell_type": "code",
   "execution_count": 49,
   "metadata": {},
   "outputs": [
    {
     "name": "stdout",
     "output_type": "stream",
     "text": [
      "KerasTensor(type_spec=TensorSpec(shape=(None, 26, 26, 32), dtype=tf.float32, name=None), name='conv2d_55/Relu:0', description=\"created by layer 'conv2d_55'\")\n",
      "KerasTensor(type_spec=TensorSpec(shape=(None, 25, 25, 32), dtype=tf.float32, name=None), name='dropout_25/Identity:0', description=\"created by layer 'dropout_25'\")\n",
      "KerasTensor(type_spec=TensorSpec(shape=(None, 12, 12, 64), dtype=tf.float32, name=None), name='conv2d_56/Relu:0', description=\"created by layer 'conv2d_56'\")\n",
      "KerasTensor(type_spec=TensorSpec(shape=(None, 11, 11, 64), dtype=tf.float32, name=None), name='dropout_26/Identity:0', description=\"created by layer 'dropout_26'\")\n",
      "KerasTensor(type_spec=TensorSpec(shape=(None, 7744), dtype=tf.float32, name=None), name='flatten_11/Reshape:0', description=\"created by layer 'flatten_11'\")\n",
      "Before loading weights\n",
      "34/34 [==============================] - 1s 12ms/step - loss: 0.6985 - accuracy: 0.0860\n",
      "[0.6985511779785156, 0.0892999991774559]\n",
      "\n",
      "After loading weights\n",
      "34/34 [==============================] - 0s 7ms/step - loss: 0.9248 - accuracy: 0.9920\n",
      "[0.9247546792030334, 0.9919999837875366]\n"
     ]
    }
   ],
   "source": [
    "MNISTM = MNISTModel()\n",
    "MNISTM.compile(loss=tf.losses.binary_crossentropy, optimizer='adam', metrics=['accuracy'])\n",
    "print('Before loading weights')\n",
    "print(MNISTM.evaluate(X_test,Y_test, batch_size=300 ))\n",
    "print()\n",
    "\n",
    "MNISTM.load_weights(ModelSaveSameName)\n",
    "print('After loading weights')\n",
    "print(MNISTM.evaluate(X_test,Y_test, batch_size=300))"
   ]
  },
  {
   "cell_type": "code",
   "execution_count": null,
   "metadata": {},
   "outputs": [],
   "source": []
  },
  {
   "cell_type": "markdown",
   "metadata": {},
   "source": [
    "### Plot loss graphs"
   ]
  },
  {
   "cell_type": "code",
   "execution_count": 50,
   "metadata": {},
   "outputs": [
    {
     "data": {
      "text/plain": [
       "Text(0, 0.5, 'loss')"
      ]
     },
     "execution_count": 50,
     "metadata": {},
     "output_type": "execute_result"
    },
    {
     "data": {
      "image/png": "[encoded data removed]",
      "text/plain": [
       "<Figure size 432x288 with 1 Axes>"
      ]
     },
     "metadata": {
      "needs_background": "light"
     },
     "output_type": "display_data"
    }
   ],
   "source": [
    "plt.plot(MNISTHist.history['loss'], label='Tr', marker='.')\n",
    "plt.plot(MNISTHist.history['val_loss'], label='Val', marker='.')\n",
    "plt.legend() \n",
    "plt.xlabel('epoch')\n",
    "plt.ylabel('loss')"
   ]
  },
  {
   "cell_type": "markdown",
   "metadata": {},
   "source": [
    "### Prediction example"
   ]
  },
  {
   "cell_type": "code",
   "execution_count": 54,
   "metadata": {},
   "outputs": [],
   "source": [
    "Pred = MNISTM.predict(X_test, batch_size=300 )"
   ]
  },
  {
   "cell_type": "code",
   "execution_count": null,
   "metadata": {},
   "outputs": [],
   "source": []
  }
 ],
 "metadata": {
  "kernelspec": {
   "display_name": "Python 3",
   "language": "python",
   "name": "python3"
  },
  "language_info": {
   "codemirror_mode": {
    "name": "ipython",
    "version": 3
   },
   "file_extension": ".py",
   "mimetype": "text/x-python",
   "name": "python",
   "nbconvert_exporter": "python",
   "pygments_lexer": "ipython3",
   "version": "3.8.5"
  }
 },
 "nbformat": 4,
 "nbformat_minor": 5
}
