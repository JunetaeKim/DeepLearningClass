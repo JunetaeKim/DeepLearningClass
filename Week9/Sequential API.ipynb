{
 "cells": [
  {
   "cell_type": "code",
   "execution_count": 1,
   "metadata": {
    "colab": {
     "base_uri": "https://localhost:8080/"
    },
    "executionInfo": {
     "elapsed": 3249,
     "status": "ok",
     "timestamp": 1668405809835,
     "user": {
      "displayName": "김준태",
      "userId": "03589277791520879755"
     },
     "user_tz": -540
    },
    "id": "V7EDRLTNcFFz",
    "outputId": "d639bfb0-fd8a-4181-eab5-c009a83a90c5"
   },
   "outputs": [],
   "source": [
    "import tensorflow as tf\n",
    "from tensorflow import keras\n",
    "import numpy as np\n"
   ]
  },
  {
   "cell_type": "markdown",
   "metadata": {
    "id": "p8OIJ7OFjGfl"
   },
   "source": [
    "### Example data load"
   ]
  },
  {
   "cell_type": "code",
   "execution_count": 2,
   "metadata": {
    "executionInfo": {
     "elapsed": 33,
     "status": "ok",
     "timestamp": 1668405809836,
     "user": {
      "displayName": "김준태",
      "userId": "03589277791520879755"
     },
     "user_tz": -540
    },
    "id": "VD_MLZCphJLt"
   },
   "outputs": [],
   "source": [
    "url = 'https://raw.githubusercontent.com/JunetaeKim/DeepLearningClass/main/Week9/ThoraricSurgery.csv'\n",
    "#Data = np.loadtxt('ThoraricSurgery.csv', delimiter=',')\n",
    "Data = np.loadtxt(url, delimiter=',')"
   ]
  },
  {
   "cell_type": "markdown",
   "metadata": {
    "id": "1Kx70nm_mRTW"
   },
   "source": [
    "### Splitting data into input and output"
   ]
  },
  {
   "cell_type": "code",
   "execution_count": 3,
   "metadata": {
    "colab": {
     "base_uri": "https://localhost:8080/"
    },
    "executionInfo": {
     "elapsed": 32,
     "status": "ok",
     "timestamp": 1668405809837,
     "user": {
      "displayName": "김준태",
      "userId": "03589277791520879755"
     },
     "user_tz": -540
    },
    "id": "pc3Fn7i42EJz",
    "outputId": "191d76ba-7fed-44ed-bfc7-1e512c954646"
   },
   "outputs": [
    {
     "data": {
      "text/plain": [
       "((470, 17), (470,))"
      ]
     },
     "execution_count": 3,
     "metadata": {},
     "output_type": "execute_result"
    }
   ],
   "source": [
    "X = Data[:, :17]\n",
    "Y = Data[:, 17]\n",
    "X.shape, Y.shape"
   ]
  },
  {
   "cell_type": "code",
   "execution_count": null,
   "metadata": {
    "executionInfo": {
     "elapsed": 29,
     "status": "ok",
     "timestamp": 1668405809838,
     "user": {
      "displayName": "김준태",
      "userId": "03589277791520879755"
     },
     "user_tz": -540
    },
    "id": "t-TAvt21ndrT"
   },
   "outputs": [],
   "source": []
  },
  {
   "cell_type": "markdown",
   "metadata": {
    "id": "BKkUYLlsnq5b"
   },
   "source": [
    "### Sequential API"
   ]
  },
  {
   "cell_type": "code",
   "execution_count": 4,
   "metadata": {
    "executionInfo": {
     "elapsed": 28,
     "status": "ok",
     "timestamp": 1668405809838,
     "user": {
      "displayName": "김준태",
      "userId": "03589277791520879755"
     },
     "user_tz": -540
    },
    "id": "qPIxE4A_pJQn"
   },
   "outputs": [],
   "source": [
    "from tensorflow.keras.models import Sequential\n",
    "from tensorflow.keras.layers import Dense"
   ]
  },
  {
   "cell_type": "code",
   "execution_count": 5,
   "metadata": {
    "executionInfo": {
     "elapsed": 28,
     "status": "ok",
     "timestamp": 1668405809839,
     "user": {
      "displayName": "김준태",
      "userId": "03589277791520879755"
     },
     "user_tz": -540
    },
    "id": "1UsOGi7mn51E"
   },
   "outputs": [],
   "source": [
    "## Instantiation\n",
    "model = keras.models.Sequential()"
   ]
  },
  {
   "cell_type": "code",
   "execution_count": 6,
   "metadata": {
    "executionInfo": {
     "elapsed": 28,
     "status": "ok",
     "timestamp": 1668405809839,
     "user": {
      "displayName": "김준태",
      "userId": "03589277791520879755"
     },
     "user_tz": -540
    },
    "id": "hB-JLSrgdD0h"
   },
   "outputs": [],
   "source": [
    "## Input layer with 17 features\n",
    "model.add(keras.Input(shape=(X.shape[-1],)))\n"
   ]
  },
  {
   "cell_type": "code",
   "execution_count": 7,
   "metadata": {
    "executionInfo": {
     "elapsed": 28,
     "status": "ok",
     "timestamp": 1668405809840,
     "user": {
      "displayName": "김준태",
      "userId": "03589277791520879755"
     },
     "user_tz": -540
    },
    "id": "SWPFUaAtdSiy"
   },
   "outputs": [],
   "source": [
    "## Hidden layer 1 with a 2D wiegh matrix (17 , 10) and a 2D bias matrix (1, 10)\n",
    "model.add(Dense(10, activation='relu'))"
   ]
  },
  {
   "cell_type": "code",
   "execution_count": 8,
   "metadata": {
    "executionInfo": {
     "elapsed": 28,
     "status": "ok",
     "timestamp": 1668405809840,
     "user": {
      "displayName": "김준태",
      "userId": "03589277791520879755"
     },
     "user_tz": -540
    },
    "id": "RgxdZx8-h_X9"
   },
   "outputs": [],
   "source": [
    "## Hidden layer 2 with a 2D wiegh matrix (10 , 5) and a 2D bias matrix (1, 5)\n",
    "model.add(Dense(5, activation='relu'))"
   ]
  },
  {
   "cell_type": "code",
   "execution_count": 9,
   "metadata": {
    "executionInfo": {
     "elapsed": 27,
     "status": "ok",
     "timestamp": 1668405809840,
     "user": {
      "displayName": "김준태",
      "userId": "03589277791520879755"
     },
     "user_tz": -540
    },
    "id": "ztqKATRNiInq"
   },
   "outputs": [],
   "source": [
    "## Output layer a 2D wiegh matrix (5 , 1) and a 2D bias matrix (1, 1)\n",
    "model.add(Dense(1, activation='sigmoid'))"
   ]
  },
  {
   "cell_type": "code",
   "execution_count": 10,
   "metadata": {
    "colab": {
     "base_uri": "https://localhost:8080/"
    },
    "executionInfo": {
     "elapsed": 27,
     "status": "ok",
     "timestamp": 1668405809841,
     "user": {
      "displayName": "김준태",
      "userId": "03589277791520879755"
     },
     "user_tz": -540
    },
    "id": "iPR1cY2viU3t",
    "outputId": "17666d01-fcb6-4224-9071-00f62d1e7964"
   },
   "outputs": [
    {
     "name": "stdout",
     "output_type": "stream",
     "text": [
      "Model: \"sequential\"\n",
      "_________________________________________________________________\n",
      "Layer (type)                 Output Shape              Param #   \n",
      "=================================================================\n",
      "dense (Dense)                (None, 10)                180       \n",
      "_________________________________________________________________\n",
      "dense_1 (Dense)              (None, 5)                 55        \n",
      "_________________________________________________________________\n",
      "dense_2 (Dense)              (None, 1)                 6         \n",
      "=================================================================\n",
      "Total params: 241\n",
      "Trainable params: 241\n",
      "Non-trainable params: 0\n",
      "_________________________________________________________________\n"
     ]
    }
   ],
   "source": [
    "model.summary()"
   ]
  },
  {
   "cell_type": "markdown",
   "metadata": {
    "id": "28ORrp7QkgNG"
   },
   "source": [
    " ### Compliling the model\n",
    " #### You need to sepcify the loss function and the optimizer"
   ]
  },
  {
   "cell_type": "code",
   "execution_count": 11,
   "metadata": {
    "executionInfo": {
     "elapsed": 18,
     "status": "ok",
     "timestamp": 1668405809842,
     "user": {
      "displayName": "김준태",
      "userId": "03589277791520879755"
     },
     "user_tz": -540
    },
    "id": "zT8THAK6kukX"
   },
   "outputs": [],
   "source": [
    "model.compile(loss='BCE', optimizer='adam')"
   ]
  },
  {
   "cell_type": "code",
   "execution_count": 12,
   "metadata": {
    "colab": {
     "base_uri": "https://localhost:8080/"
    },
    "executionInfo": {
     "elapsed": 5861,
     "status": "ok",
     "timestamp": 1668405815685,
     "user": {
      "displayName": "김준태",
      "userId": "03589277791520879755"
     },
     "user_tz": -540
    },
    "id": "6rLuRywyk7ij",
    "outputId": "ee10cdf2-79d4-4147-c910-74fe660cbfa8",
    "scrolled": true,
    "tags": []
   },
   "outputs": [
    {
     "name": "stdout",
     "output_type": "stream",
     "text": [
      "Epoch 1/50\n",
      "2/2 [==============================] - 2s 1s/step - loss: 8.2719 - val_loss: 12.7845\n",
      "Epoch 2/50\n",
      "2/2 [==============================] - 0s 32ms/step - loss: 7.4124 - val_loss: 12.0915\n",
      "Epoch 3/50\n",
      "2/2 [==============================] - 0s 31ms/step - loss: 7.1384 - val_loss: 11.3984\n",
      "Epoch 4/50\n",
      "2/2 [==============================] - 0s 30ms/step - loss: 6.6170 - val_loss: 10.7252\n",
      "Epoch 5/50\n",
      "2/2 [==============================] - 0s 31ms/step - loss: 6.1166 - val_loss: 10.0663\n",
      "Epoch 6/50\n",
      "2/2 [==============================] - 0s 31ms/step - loss: 5.6658 - val_loss: 9.4248\n",
      "Epoch 7/50\n",
      "2/2 [==============================] - 0s 30ms/step - loss: 5.2296 - val_loss: 8.7788\n",
      "Epoch 8/50\n",
      "2/2 [==============================] - 0s 30ms/step - loss: 4.9321 - val_loss: 8.1596\n",
      "Epoch 9/50\n",
      "2/2 [==============================] - 0s 29ms/step - loss: 4.3432 - val_loss: 7.5647\n",
      "Epoch 10/50\n",
      "2/2 [==============================] - 0s 30ms/step - loss: 3.9971 - val_loss: 6.9871\n",
      "Epoch 11/50\n",
      "2/2 [==============================] - 0s 29ms/step - loss: 3.6750 - val_loss: 6.4031\n",
      "Epoch 12/50\n",
      "2/2 [==============================] - 0s 30ms/step - loss: 3.3637 - val_loss: 5.8449\n",
      "Epoch 13/50\n",
      "2/2 [==============================] - 0s 28ms/step - loss: 2.9293 - val_loss: 5.2967\n",
      "Epoch 14/50\n",
      "2/2 [==============================] - 0s 29ms/step - loss: 2.7486 - val_loss: 4.7854\n",
      "Epoch 15/50\n",
      "2/2 [==============================] - 0s 29ms/step - loss: 2.4261 - val_loss: 4.3235\n",
      "Epoch 16/50\n",
      "2/2 [==============================] - 0s 29ms/step - loss: 2.1011 - val_loss: 3.8363\n",
      "Epoch 17/50\n",
      "2/2 [==============================] - 0s 30ms/step - loss: 1.9014 - val_loss: 3.4143\n",
      "Epoch 18/50\n",
      "2/2 [==============================] - 0s 30ms/step - loss: 1.6383 - val_loss: 3.0243\n",
      "Epoch 19/50\n",
      "2/2 [==============================] - 0s 28ms/step - loss: 1.4681 - val_loss: 2.6619\n",
      "Epoch 20/50\n",
      "2/2 [==============================] - 0s 29ms/step - loss: 1.3134 - val_loss: 2.3259\n",
      "Epoch 21/50\n",
      "2/2 [==============================] - 0s 29ms/step - loss: 1.1767 - val_loss: 2.0282\n",
      "Epoch 22/50\n",
      "2/2 [==============================] - 0s 29ms/step - loss: 1.0569 - val_loss: 1.7631\n",
      "Epoch 23/50\n",
      "2/2 [==============================] - 0s 29ms/step - loss: 0.9411 - val_loss: 1.5485\n",
      "Epoch 24/50\n",
      "2/2 [==============================] - 0s 30ms/step - loss: 0.8653 - val_loss: 1.3649\n",
      "Epoch 25/50\n",
      "2/2 [==============================] - 0s 34ms/step - loss: 0.8286 - val_loss: 1.2271\n",
      "Epoch 26/50\n",
      "2/2 [==============================] - 0s 29ms/step - loss: 0.7715 - val_loss: 1.1217\n",
      "Epoch 27/50\n",
      "2/2 [==============================] - 0s 30ms/step - loss: 0.7575 - val_loss: 1.0446\n",
      "Epoch 28/50\n",
      "2/2 [==============================] - 0s 29ms/step - loss: 0.7430 - val_loss: 0.9905\n",
      "Epoch 29/50\n",
      "2/2 [==============================] - 0s 31ms/step - loss: 0.7298 - val_loss: 0.9536\n",
      "Epoch 30/50\n",
      "2/2 [==============================] - 0s 29ms/step - loss: 0.7236 - val_loss: 0.9294\n",
      "Epoch 31/50\n",
      "2/2 [==============================] - 0s 29ms/step - loss: 0.7309 - val_loss: 0.9117\n",
      "Epoch 32/50\n",
      "2/2 [==============================] - 0s 29ms/step - loss: 0.7094 - val_loss: 0.8956\n",
      "Epoch 33/50\n",
      "2/2 [==============================] - 0s 29ms/step - loss: 0.7142 - val_loss: 0.8858\n",
      "Epoch 34/50\n",
      "2/2 [==============================] - 0s 29ms/step - loss: 0.7249 - val_loss: 0.8748\n",
      "Epoch 35/50\n",
      "2/2 [==============================] - 0s 28ms/step - loss: 0.7157 - val_loss: 0.8649\n",
      "Epoch 36/50\n",
      "2/2 [==============================] - 0s 29ms/step - loss: 0.7114 - val_loss: 0.8582\n",
      "Epoch 37/50\n",
      "2/2 [==============================] - 0s 28ms/step - loss: 0.6953 - val_loss: 0.8521\n",
      "Epoch 38/50\n",
      "2/2 [==============================] - 0s 29ms/step - loss: 0.7018 - val_loss: 0.8455\n",
      "Epoch 39/50\n",
      "2/2 [==============================] - 0s 28ms/step - loss: 0.7007 - val_loss: 0.8410\n",
      "Epoch 40/50\n",
      "2/2 [==============================] - 0s 28ms/step - loss: 0.7028 - val_loss: 0.8350\n",
      "Epoch 41/50\n",
      "2/2 [==============================] - 0s 30ms/step - loss: 0.6952 - val_loss: 0.8296\n",
      "Epoch 42/50\n",
      "2/2 [==============================] - 0s 28ms/step - loss: 0.7006 - val_loss: 0.8265\n",
      "Epoch 43/50\n",
      "2/2 [==============================] - 0s 28ms/step - loss: 0.6999 - val_loss: 0.8219\n",
      "Epoch 44/50\n",
      "2/2 [==============================] - 0s 28ms/step - loss: 0.6929 - val_loss: 0.8179\n",
      "Epoch 45/50\n",
      "2/2 [==============================] - 0s 30ms/step - loss: 0.6946 - val_loss: 0.8134\n",
      "Epoch 46/50\n",
      "2/2 [==============================] - 0s 29ms/step - loss: 0.6925 - val_loss: 0.8108\n",
      "Epoch 47/50\n",
      "2/2 [==============================] - 0s 28ms/step - loss: 0.6931 - val_loss: 0.8061\n",
      "Epoch 48/50\n",
      "2/2 [==============================] - 0s 29ms/step - loss: 0.6928 - val_loss: 0.8028\n",
      "Epoch 49/50\n",
      "2/2 [==============================] - 0s 29ms/step - loss: 0.6878 - val_loss: 0.7987\n",
      "Epoch 50/50\n",
      "2/2 [==============================] - 0s 31ms/step - loss: 0.6924 - val_loss: 0.7954\n"
     ]
    }
   ],
   "source": [
    "model.fit(X,Y, validation_split=0.2, epochs=50, batch_size=200)\n",
    "Logs = model.history.history"
   ]
  },
  {
   "cell_type": "markdown",
   "metadata": {
    "id": "Vlx8SV0FpQpx"
   },
   "source": [
    "### Visualization of losses"
   ]
  },
  {
   "cell_type": "code",
   "execution_count": 13,
   "metadata": {
    "executionInfo": {
     "elapsed": 39,
     "status": "ok",
     "timestamp": 1668405815686,
     "user": {
      "displayName": "김준태",
      "userId": "03589277791520879755"
     },
     "user_tz": -540
    },
    "id": "7E_EwF95oslH"
   },
   "outputs": [],
   "source": [
    "import matplotlib.pyplot as plt\n"
   ]
  },
  {
   "cell_type": "code",
   "execution_count": 14,
   "metadata": {
    "colab": {
     "base_uri": "https://localhost:8080/",
     "height": 283
    },
    "executionInfo": {
     "elapsed": 1481,
     "status": "ok",
     "timestamp": 1668407572829,
     "user": {
      "displayName": "김준태",
      "userId": "03589277791520879755"
     },
     "user_tz": -540
    },
    "id": "LKZ70O6Now9U",
    "outputId": "22117905-0504-45c5-dec3-9c6625ca92d7"
   },
   "outputs": [
    {
     "data": {
      "text/plain": [
       "<matplotlib.legend.Legend at 0x273f8841c40>"
      ]
     },
     "execution_count": 14,
     "metadata": {},
     "output_type": "execute_result"
    },
    {
     "data": {
      "image/png": "[encoded data removed]",
      "text/plain": [
       "<Figure size 640x480 with 1 Axes>"
      ]
     },
     "metadata": {},
     "output_type": "display_data"
    }
   ],
   "source": [
    "plt.plot(Logs['loss'], label='TR_LOSS')\n",
    "plt.plot(Logs['val_loss'], label='VAL_LOSS')\n",
    "plt.legend()"
   ]
  },
  {
   "cell_type": "code",
   "execution_count": 28,
   "metadata": {
    "executionInfo": {
     "elapsed": 6,
     "status": "ok",
     "timestamp": 1668405816269,
     "user": {
      "displayName": "김준태",
      "userId": "03589277791520879755"
     },
     "user_tz": -540
    },
    "id": "WMau_z00n3Av"
   },
   "outputs": [],
   "source": []
  },
  {
   "cell_type": "markdown",
   "metadata": {
    "id": "Ikoe3hvhn5C8"
   },
   "source": []
  }
 ],
 "metadata": {
  "colab": {
   "authorship_tag": "ABX9TyOUOAhkrRcmi9lX/u9RdLTu",
   "collapsed_sections": [],
   "provenance": []
  },
  "kernelspec": {
   "display_name": "Python 3 (ipykernel)",
   "language": "python",
   "name": "python3"
  },
  "language_info": {
   "codemirror_mode": {
    "name": "ipython",
    "version": 3
   },
   "file_extension": ".py",
   "mimetype": "text/x-python",
   "name": "python",
   "nbconvert_exporter": "python",
   "pygments_lexer": "ipython3",
   "version": "3.8.13"
  }
 },
 "nbformat": 4,
 "nbformat_minor": 4
}
