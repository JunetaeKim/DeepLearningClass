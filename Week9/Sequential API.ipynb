{
 "cells": [
  {
   "cell_type": "code",
   "execution_count": 1,
   "metadata": {
    "colab": {
     "base_uri": "https://localhost:8080/"
    },
    "executionInfo": {
     "elapsed": 3249,
     "status": "ok",
     "timestamp": 1668405809835,
     "user": {
      "displayName": "김준태",
      "userId": "03589277791520879755"
     },
     "user_tz": -540
    },
    "id": "V7EDRLTNcFFz",
    "outputId": "d639bfb0-fd8a-4181-eab5-c009a83a90c5"
   },
   "outputs": [],
   "source": [
    "import tensorflow as tf\n",
    "from tensorflow import keras\n",
    "import numpy as np\n"
   ]
  },
  {
   "cell_type": "markdown",
   "metadata": {
    "id": "p8OIJ7OFjGfl"
   },
   "source": [
    "### Example data load"
   ]
  },
  {
   "cell_type": "code",
   "execution_count": 2,
   "metadata": {
    "executionInfo": {
     "elapsed": 33,
     "status": "ok",
     "timestamp": 1668405809836,
     "user": {
      "displayName": "김준태",
      "userId": "03589277791520879755"
     },
     "user_tz": -540
    },
    "id": "VD_MLZCphJLt"
   },
   "outputs": [],
   "source": [
    "url = 'https://raw.githubusercontent.com/JunetaeKim/DeepLearningClass/main/Dataset/ThoraricSurgery.csv'\n",
    "#Data = np.loadtxt('ThoraricSurgery.csv', delimiter=',')\n",
    "Data = np.loadtxt(url, delimiter=',')"
   ]
  },
  {
   "cell_type": "markdown",
   "metadata": {
    "id": "1Kx70nm_mRTW"
   },
   "source": [
    "### Splitting data into input and output"
   ]
  },
  {
   "cell_type": "code",
   "execution_count": 3,
   "metadata": {
    "colab": {
     "base_uri": "https://localhost:8080/"
    },
    "executionInfo": {
     "elapsed": 32,
     "status": "ok",
     "timestamp": 1668405809837,
     "user": {
      "displayName": "김준태",
      "userId": "03589277791520879755"
     },
     "user_tz": -540
    },
    "id": "pc3Fn7i42EJz",
    "outputId": "191d76ba-7fed-44ed-bfc7-1e512c954646"
   },
   "outputs": [
    {
     "data": {
      "text/plain": [
       "((470, 17), (470,))"
      ]
     },
     "execution_count": 3,
     "metadata": {},
     "output_type": "execute_result"
    }
   ],
   "source": [
    "X = Data[:, :17]\n",
    "Y = Data[:, 17]\n",
    "X.shape, Y.shape"
   ]
  },
  {
   "cell_type": "code",
   "execution_count": null,
   "metadata": {
    "executionInfo": {
     "elapsed": 29,
     "status": "ok",
     "timestamp": 1668405809838,
     "user": {
      "displayName": "김준태",
      "userId": "03589277791520879755"
     },
     "user_tz": -540
    },
    "id": "t-TAvt21ndrT"
   },
   "outputs": [],
   "source": []
  },
  {
   "cell_type": "markdown",
   "metadata": {
    "id": "BKkUYLlsnq5b"
   },
   "source": [
    "### Sequential API"
   ]
  },
  {
   "cell_type": "code",
   "execution_count": 4,
   "metadata": {
    "executionInfo": {
     "elapsed": 28,
     "status": "ok",
     "timestamp": 1668405809838,
     "user": {
      "displayName": "김준태",
      "userId": "03589277791520879755"
     },
     "user_tz": -540
    },
    "id": "qPIxE4A_pJQn"
   },
   "outputs": [],
   "source": [
    "from tensorflow.keras.models import Sequential\n",
    "from tensorflow.keras.layers import Dense"
   ]
  },
  {
   "cell_type": "code",
   "execution_count": 5,
   "metadata": {
    "executionInfo": {
     "elapsed": 28,
     "status": "ok",
     "timestamp": 1668405809839,
     "user": {
      "displayName": "김준태",
      "userId": "03589277791520879755"
     },
     "user_tz": -540
    },
    "id": "1UsOGi7mn51E"
   },
   "outputs": [],
   "source": [
    "## Instantiation\n",
    "model = keras.models.Sequential()"
   ]
  },
  {
   "cell_type": "code",
   "execution_count": 6,
   "metadata": {
    "executionInfo": {
     "elapsed": 28,
     "status": "ok",
     "timestamp": 1668405809839,
     "user": {
      "displayName": "김준태",
      "userId": "03589277791520879755"
     },
     "user_tz": -540
    },
    "id": "hB-JLSrgdD0h"
   },
   "outputs": [],
   "source": [
    "## Input layer with 17 features\n",
    "model.add(keras.Input(shape=(X.shape[-1],)))\n"
   ]
  },
  {
   "cell_type": "code",
   "execution_count": 7,
   "metadata": {
    "executionInfo": {
     "elapsed": 28,
     "status": "ok",
     "timestamp": 1668405809840,
     "user": {
      "displayName": "김준태",
      "userId": "03589277791520879755"
     },
     "user_tz": -540
    },
    "id": "SWPFUaAtdSiy"
   },
   "outputs": [],
   "source": [
    "## Hidden layer 1 with a 2D wiegh matrix (17 , 10) and a 2D bias matrix (1, 10)\n",
    "model.add(Dense(10, activation='relu'))"
   ]
  },
  {
   "cell_type": "code",
   "execution_count": 8,
   "metadata": {
    "executionInfo": {
     "elapsed": 28,
     "status": "ok",
     "timestamp": 1668405809840,
     "user": {
      "displayName": "김준태",
      "userId": "03589277791520879755"
     },
     "user_tz": -540
    },
    "id": "RgxdZx8-h_X9"
   },
   "outputs": [],
   "source": [
    "## Hidden layer 2 with a 2D wiegh matrix (10 , 5) and a 2D bias matrix (1, 5)\n",
    "model.add(Dense(5, activation='relu'))"
   ]
  },
  {
   "cell_type": "code",
   "execution_count": 9,
   "metadata": {
    "executionInfo": {
     "elapsed": 27,
     "status": "ok",
     "timestamp": 1668405809840,
     "user": {
      "displayName": "김준태",
      "userId": "03589277791520879755"
     },
     "user_tz": -540
    },
    "id": "ztqKATRNiInq"
   },
   "outputs": [],
   "source": [
    "## Output layer a 2D wiegh matrix (5 , 1) and a 2D bias matrix (1, 1)\n",
    "model.add(Dense(1, activation='sigmoid'))"
   ]
  },
  {
   "cell_type": "code",
   "execution_count": 10,
   "metadata": {
    "colab": {
     "base_uri": "https://localhost:8080/"
    },
    "executionInfo": {
     "elapsed": 27,
     "status": "ok",
     "timestamp": 1668405809841,
     "user": {
      "displayName": "김준태",
      "userId": "03589277791520879755"
     },
     "user_tz": -540
    },
    "id": "iPR1cY2viU3t",
    "outputId": "17666d01-fcb6-4224-9071-00f62d1e7964"
   },
   "outputs": [
    {
     "name": "stdout",
     "output_type": "stream",
     "text": [
      "Model: \"sequential\"\n",
      "_________________________________________________________________\n",
      "Layer (type)                 Output Shape              Param #   \n",
      "=================================================================\n",
      "dense (Dense)                (None, 10)                180       \n",
      "_________________________________________________________________\n",
      "dense_1 (Dense)              (None, 5)                 55        \n",
      "_________________________________________________________________\n",
      "dense_2 (Dense)              (None, 1)                 6         \n",
      "=================================================================\n",
      "Total params: 241\n",
      "Trainable params: 241\n",
      "Non-trainable params: 0\n",
      "_________________________________________________________________\n"
     ]
    }
   ],
   "source": [
    "model.summary()"
   ]
  },
  {
   "cell_type": "markdown",
   "metadata": {
    "id": "28ORrp7QkgNG"
   },
   "source": [
    " ### Compliling the model\n",
    " #### You need to sepcify the loss function and the optimizer"
   ]
  },
  {
   "cell_type": "code",
   "execution_count": 11,
   "metadata": {
    "executionInfo": {
     "elapsed": 18,
     "status": "ok",
     "timestamp": 1668405809842,
     "user": {
      "displayName": "김준태",
      "userId": "03589277791520879755"
     },
     "user_tz": -540
    },
    "id": "zT8THAK6kukX"
   },
   "outputs": [],
   "source": [
    "model.compile(loss='BCE', optimizer='adam')"
   ]
  },
  {
   "cell_type": "code",
   "execution_count": 12,
   "metadata": {
    "colab": {
     "base_uri": "https://localhost:8080/"
    },
    "executionInfo": {
     "elapsed": 5861,
     "status": "ok",
     "timestamp": 1668405815685,
     "user": {
      "displayName": "김준태",
      "userId": "03589277791520879755"
     },
     "user_tz": -540
    },
    "id": "6rLuRywyk7ij",
    "outputId": "ee10cdf2-79d4-4147-c910-74fe660cbfa8",
    "scrolled": true,
    "tags": []
   },
   "outputs": [
    {
     "name": "stdout",
     "output_type": "stream",
     "text": [
      "Epoch 1/50\n",
      "2/2 [==============================] - 3s 2s/step - loss: 5.0303 - val_loss: 5.9054\n",
      "Epoch 2/50\n",
      "2/2 [==============================] - 0s 53ms/step - loss: 4.8387 - val_loss: 5.7869\n",
      "Epoch 3/50\n",
      "2/2 [==============================] - 0s 52ms/step - loss: 4.7235 - val_loss: 5.6650\n",
      "Epoch 4/50\n",
      "2/2 [==============================] - 0s 60ms/step - loss: 4.7799 - val_loss: 5.5456\n",
      "Epoch 5/50\n",
      "2/2 [==============================] - 0s 62ms/step - loss: 4.7257 - val_loss: 5.4255\n",
      "Epoch 6/50\n",
      "2/2 [==============================] - 0s 59ms/step - loss: 4.5781 - val_loss: 5.3042\n",
      "Epoch 7/50\n",
      "2/2 [==============================] - 0s 59ms/step - loss: 4.3669 - val_loss: 5.1867\n",
      "Epoch 8/50\n",
      "2/2 [==============================] - 0s 61ms/step - loss: 4.2487 - val_loss: 5.0698\n",
      "Epoch 9/50\n",
      "2/2 [==============================] - 0s 58ms/step - loss: 4.2396 - val_loss: 4.9553\n",
      "Epoch 10/50\n",
      "2/2 [==============================] - 0s 60ms/step - loss: 4.0217 - val_loss: 4.8397\n",
      "Epoch 11/50\n",
      "2/2 [==============================] - 0s 72ms/step - loss: 4.0491 - val_loss: 4.7254\n",
      "Epoch 12/50\n",
      "2/2 [==============================] - 0s 56ms/step - loss: 4.0963 - val_loss: 4.6107\n",
      "Epoch 13/50\n",
      "2/2 [==============================] - 0s 76ms/step - loss: 3.8410 - val_loss: 4.4983\n",
      "Epoch 14/50\n",
      "2/2 [==============================] - 0s 58ms/step - loss: 3.6932 - val_loss: 4.3892\n",
      "Epoch 15/50\n",
      "2/2 [==============================] - 0s 60ms/step - loss: 3.3293 - val_loss: 4.2828\n",
      "Epoch 16/50\n",
      "2/2 [==============================] - 0s 55ms/step - loss: 3.8639 - val_loss: 4.1721\n",
      "Epoch 17/50\n",
      "2/2 [==============================] - 0s 70ms/step - loss: 3.5174 - val_loss: 4.0657\n",
      "Epoch 18/50\n",
      "2/2 [==============================] - 0s 61ms/step - loss: 3.8538 - val_loss: 3.9558\n",
      "Epoch 19/50\n",
      "2/2 [==============================] - 0s 61ms/step - loss: 3.1273 - val_loss: 3.8515\n",
      "Epoch 20/50\n",
      "2/2 [==============================] - 0s 59ms/step - loss: 3.2130 - val_loss: 3.7498\n",
      "Epoch 21/50\n",
      "2/2 [==============================] - 0s 57ms/step - loss: 3.1000 - val_loss: 3.6448\n",
      "Epoch 22/50\n",
      "2/2 [==============================] - 0s 67ms/step - loss: 3.0433 - val_loss: 3.5414\n",
      "Epoch 23/50\n",
      "2/2 [==============================] - 0s 45ms/step - loss: 3.0992 - val_loss: 3.4422\n",
      "Epoch 24/50\n",
      "2/2 [==============================] - 0s 51ms/step - loss: 2.9997 - val_loss: 3.3395\n",
      "Epoch 25/50\n",
      "2/2 [==============================] - 0s 58ms/step - loss: 2.7354 - val_loss: 3.2410\n",
      "Epoch 26/50\n",
      "2/2 [==============================] - 0s 55ms/step - loss: 2.5964 - val_loss: 3.1377\n",
      "Epoch 27/50\n",
      "2/2 [==============================] - 0s 73ms/step - loss: 2.7021 - val_loss: 3.0376\n",
      "Epoch 28/50\n",
      "2/2 [==============================] - 0s 60ms/step - loss: 2.3606 - val_loss: 2.9392\n",
      "Epoch 29/50\n",
      "2/2 [==============================] - 0s 60ms/step - loss: 2.6511 - val_loss: 2.8340\n",
      "Epoch 30/50\n",
      "2/2 [==============================] - 0s 56ms/step - loss: 2.3839 - val_loss: 2.7313\n",
      "Epoch 31/50\n",
      "2/2 [==============================] - 0s 78ms/step - loss: 2.4394 - val_loss: 2.6270\n",
      "Epoch 32/50\n",
      "2/2 [==============================] - 0s 64ms/step - loss: 2.2866 - val_loss: 2.5146\n",
      "Epoch 33/50\n",
      "2/2 [==============================] - 0s 69ms/step - loss: 2.1655 - val_loss: 2.4082\n",
      "Epoch 34/50\n",
      "2/2 [==============================] - 0s 71ms/step - loss: 2.2544 - val_loss: 2.3024\n",
      "Epoch 35/50\n",
      "2/2 [==============================] - 0s 59ms/step - loss: 1.9010 - val_loss: 2.1999\n",
      "Epoch 36/50\n",
      "2/2 [==============================] - 0s 52ms/step - loss: 1.8533 - val_loss: 2.0999\n",
      "Epoch 37/50\n",
      "2/2 [==============================] - 0s 63ms/step - loss: 1.8717 - val_loss: 1.9996\n",
      "Epoch 38/50\n",
      "2/2 [==============================] - 0s 59ms/step - loss: 1.7730 - val_loss: 1.9055\n",
      "Epoch 39/50\n",
      "2/2 [==============================] - 0s 67ms/step - loss: 1.5462 - val_loss: 1.8161\n",
      "Epoch 40/50\n",
      "2/2 [==============================] - 0s 71ms/step - loss: 1.5968 - val_loss: 1.7258\n",
      "Epoch 41/50\n",
      "2/2 [==============================] - 0s 56ms/step - loss: 1.5542 - val_loss: 1.6431\n",
      "Epoch 42/50\n",
      "2/2 [==============================] - 0s 52ms/step - loss: 1.5615 - val_loss: 1.5627\n",
      "Epoch 43/50\n",
      "2/2 [==============================] - 0s 67ms/step - loss: 1.5000 - val_loss: 1.4829\n",
      "Epoch 44/50\n",
      "2/2 [==============================] - 0s 66ms/step - loss: 1.3861 - val_loss: 1.4114\n",
      "Epoch 45/50\n",
      "2/2 [==============================] - 0s 57ms/step - loss: 1.2796 - val_loss: 1.3460\n",
      "Epoch 46/50\n",
      "2/2 [==============================] - 0s 63ms/step - loss: 1.3216 - val_loss: 1.2853\n",
      "Epoch 47/50\n",
      "2/2 [==============================] - 0s 56ms/step - loss: 1.1914 - val_loss: 1.2324\n",
      "Epoch 48/50\n",
      "2/2 [==============================] - 0s 59ms/step - loss: 1.1367 - val_loss: 1.1812\n",
      "Epoch 49/50\n",
      "2/2 [==============================] - 0s 55ms/step - loss: 1.1173 - val_loss: 1.1338\n",
      "Epoch 50/50\n",
      "2/2 [==============================] - 0s 58ms/step - loss: 1.1289 - val_loss: 1.0923\n"
     ]
    }
   ],
   "source": [
    "model.fit(X,Y, validation_split=0.2, epochs=50, batch_size=200)\n",
    "Logs = model.history.history"
   ]
  },
  {
   "cell_type": "markdown",
   "metadata": {
    "id": "Vlx8SV0FpQpx"
   },
   "source": [
    "### Visualization of losses"
   ]
  },
  {
   "cell_type": "code",
   "execution_count": 13,
   "metadata": {
    "executionInfo": {
     "elapsed": 39,
     "status": "ok",
     "timestamp": 1668405815686,
     "user": {
      "displayName": "김준태",
      "userId": "03589277791520879755"
     },
     "user_tz": -540
    },
    "id": "7E_EwF95oslH"
   },
   "outputs": [],
   "source": [
    "import matplotlib.pyplot as plt\n"
   ]
  },
  {
   "cell_type": "code",
   "execution_count": 14,
   "metadata": {
    "colab": {
     "base_uri": "https://localhost:8080/",
     "height": 283
    },
    "executionInfo": {
     "elapsed": 1481,
     "status": "ok",
     "timestamp": 1668407572829,
     "user": {
      "displayName": "김준태",
      "userId": "03589277791520879755"
     },
     "user_tz": -540
    },
    "id": "LKZ70O6Now9U",
    "outputId": "22117905-0504-45c5-dec3-9c6625ca92d7"
   },
   "outputs": [
    {
     "data": {
      "text/plain": [
       "<matplotlib.legend.Legend at 0x2360e23edc0>"
      ]
     },
     "execution_count": 14,
     "metadata": {},
     "output_type": "execute_result"
    },
    {
     "data": {
      "image/png": "[encoded data removed]",
      "text/plain": [
       "<Figure size 432x288 with 1 Axes>"
      ]
     },
     "metadata": {
      "needs_background": "light"
     },
     "output_type": "display_data"
    }
   ],
   "source": [
    "plt.plot(Logs['loss'], label='TR_LOSS')\n",
    "plt.plot(Logs['val_loss'], label='VAL_LOSS')\n",
    "plt.legend()"
   ]
  },
  {
   "cell_type": "code",
   "execution_count": 28,
   "metadata": {
    "executionInfo": {
     "elapsed": 6,
     "status": "ok",
     "timestamp": 1668405816269,
     "user": {
      "displayName": "김준태",
      "userId": "03589277791520879755"
     },
     "user_tz": -540
    },
    "id": "WMau_z00n3Av"
   },
   "outputs": [],
   "source": []
  },
  {
   "cell_type": "markdown",
   "metadata": {
    "id": "Ikoe3hvhn5C8"
   },
   "source": []
  }
 ],
 "metadata": {
  "colab": {
   "authorship_tag": "ABX9TyOUOAhkrRcmi9lX/u9RdLTu",
   "collapsed_sections": [],
   "provenance": []
  },
  "kernelspec": {
   "display_name": "Python 3",
   "language": "python",
   "name": "python3"
  },
  "language_info": {
   "codemirror_mode": {
    "name": "ipython",
    "version": 3
   },
   "file_extension": ".py",
   "mimetype": "text/x-python",
   "name": "python",
   "nbconvert_exporter": "python",
   "pygments_lexer": "ipython3",
   "version": "3.8.5"
  }
 },
 "nbformat": 4,
 "nbformat_minor": 4
}
