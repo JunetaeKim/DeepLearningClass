{
 "cells": [
  {
   "cell_type": "code",
   "execution_count": 10,
   "metadata": {
    "colab": {
     "base_uri": "https://localhost:8080/"
    },
    "executionInfo": {
     "elapsed": 3249,
     "status": "ok",
     "timestamp": 1668405809835,
     "user": {
      "displayName": "김준태",
      "userId": "03589277791520879755"
     },
     "user_tz": -540
    },
    "id": "V7EDRLTNcFFz",
    "outputId": "d639bfb0-fd8a-4181-eab5-c009a83a90c5"
   },
   "outputs": [],
   "source": [
    "from tensorflow.keras.layers import Dense, Input, Concatenate\n",
    "from tensorflow.keras import Model\n",
    "import numpy as np\n"
   ]
  },
  {
   "cell_type": "markdown",
   "metadata": {
    "id": "p8OIJ7OFjGfl"
   },
   "source": [
    "### Example data load"
   ]
  },
  {
   "cell_type": "code",
   "execution_count": 2,
   "metadata": {
    "executionInfo": {
     "elapsed": 33,
     "status": "ok",
     "timestamp": 1668405809836,
     "user": {
      "displayName": "김준태",
      "userId": "03589277791520879755"
     },
     "user_tz": -540
    },
    "id": "VD_MLZCphJLt"
   },
   "outputs": [],
   "source": [
    "url = 'https://raw.githubusercontent.com/JunetaeKim/DeepLearningClass/main/Week9/ThoraricSurgery.csv'\n",
    "#Data = np.loadtxt('ThoraricSurgery.csv', delimiter=',')\n",
    "Data = np.loadtxt(url, delimiter=',')"
   ]
  },
  {
   "cell_type": "markdown",
   "metadata": {
    "id": "1Kx70nm_mRTW"
   },
   "source": [
    "### Splitting data into input and output"
   ]
  },
  {
   "cell_type": "code",
   "execution_count": 3,
   "metadata": {
    "colab": {
     "base_uri": "https://localhost:8080/"
    },
    "executionInfo": {
     "elapsed": 32,
     "status": "ok",
     "timestamp": 1668405809837,
     "user": {
      "displayName": "김준태",
      "userId": "03589277791520879755"
     },
     "user_tz": -540
    },
    "id": "pc3Fn7i42EJz",
    "outputId": "191d76ba-7fed-44ed-bfc7-1e512c954646"
   },
   "outputs": [
    {
     "data": {
      "text/plain": [
       "((470, 17), (470,))"
      ]
     },
     "execution_count": 3,
     "metadata": {},
     "output_type": "execute_result"
    }
   ],
   "source": [
    "X = Data[:, :17]\n",
    "Y = Data[:, 17]\n",
    "X.shape, Y.shape"
   ]
  },
  {
   "cell_type": "code",
   "execution_count": null,
   "metadata": {
    "executionInfo": {
     "elapsed": 29,
     "status": "ok",
     "timestamp": 1668405809838,
     "user": {
      "displayName": "김준태",
      "userId": "03589277791520879755"
     },
     "user_tz": -540
    },
    "id": "t-TAvt21ndrT"
   },
   "outputs": [],
   "source": []
  },
  {
   "cell_type": "markdown",
   "metadata": {
    "id": "BKkUYLlsnq5b"
   },
   "source": [
    "### Functional API"
   ]
  },
  {
   "cell_type": "code",
   "execution_count": 20,
   "metadata": {
    "executionInfo": {
     "elapsed": 28,
     "status": "ok",
     "timestamp": 1668405809839,
     "user": {
      "displayName": "김준태",
      "userId": "03589277791520879755"
     },
     "user_tz": -540
    },
    "id": "1UsOGi7mn51E"
   },
   "outputs": [
    {
     "data": {
      "text/plain": [
       "<KerasTensor: shape=(None, 17) dtype=float32 (created by layer 'Inp')>"
      ]
     },
     "execution_count": 20,
     "metadata": {},
     "output_type": "execute_result"
    }
   ],
   "source": [
    "## Input layer with 17 features\n",
    "InpLayer = Input(shape=(X.shape[-1]), name='Inp')\n",
    "InpLayer"
   ]
  },
  {
   "cell_type": "code",
   "execution_count": 21,
   "metadata": {
    "executionInfo": {
     "elapsed": 28,
     "status": "ok",
     "timestamp": 1668405809840,
     "user": {
      "displayName": "김준태",
      "userId": "03589277791520879755"
     },
     "user_tz": -540
    },
    "id": "SWPFUaAtdSiy"
   },
   "outputs": [
    {
     "data": {
      "text/plain": [
       "<KerasTensor: shape=(None, 10) dtype=float32 (created by layer 'HL1')>"
      ]
     },
     "execution_count": 21,
     "metadata": {},
     "output_type": "execute_result"
    }
   ],
   "source": [
    "## Hidden layer 1 with a 2D wiegh matrix (17 , 10) and a 2D bias matrix (1, 10)\n",
    "HL1 = Dense(10, activation='relu', name='HL1')(InpLayer)\n",
    "HL1"
   ]
  },
  {
   "cell_type": "code",
   "execution_count": 22,
   "metadata": {},
   "outputs": [
    {
     "data": {
      "text/plain": [
       "<KerasTensor: shape=(None, 10) dtype=float32 (created by layer 'HL1')>"
      ]
     },
     "execution_count": 22,
     "metadata": {},
     "output_type": "execute_result"
    }
   ],
   "source": [
    "### Alternative approach\n",
    "HL1 = Dense(10, activation='relu', name='HL1')\n",
    "HL1 = HL1(InpLayer)\n",
    "HL1"
   ]
  },
  {
   "cell_type": "code",
   "execution_count": 23,
   "metadata": {},
   "outputs": [
    {
     "data": {
      "text/plain": [
       "<KerasTensor: shape=(None, 27) dtype=float32 (created by layer 'HL2')>"
      ]
     },
     "execution_count": 23,
     "metadata": {},
     "output_type": "execute_result"
    }
   ],
   "source": [
    "## Concatenating InpLayer and HD2 to generate HD3\n",
    "HL2 = Concatenate(axis=1, name='HL2')([InpLayer, HL1])\n",
    "HL2"
   ]
  },
  {
   "cell_type": "code",
   "execution_count": 24,
   "metadata": {},
   "outputs": [
    {
     "data": {
      "text/plain": [
       "<KerasTensor: shape=(None, 5) dtype=float32 (created by layer 'HL3')>"
      ]
     },
     "execution_count": 24,
     "metadata": {},
     "output_type": "execute_result"
    }
   ],
   "source": [
    "## Hidden layer 3 with a 2D wiegh matrix (27 , 5) and a 2D bias matrix (1, 5)\n",
    "HL3 = Dense(5, activation='relu', name='HL3')(HL2)\n",
    "HL3"
   ]
  },
  {
   "cell_type": "code",
   "execution_count": 25,
   "metadata": {},
   "outputs": [],
   "source": [
    "## Output layer a 2D wiegh matrix (5 , 1) and a 2D bias matrix (1, 1)\n",
    "Out = Dense(1, activation='sigmoid', name='Out')(HL3)\n"
   ]
  },
  {
   "cell_type": "code",
   "execution_count": 28,
   "metadata": {},
   "outputs": [],
   "source": [
    "### Defining the model by specifying inputs and outputs\n",
    "model = Model(InpLayer, Out)"
   ]
  },
  {
   "cell_type": "code",
   "execution_count": 27,
   "metadata": {
    "colab": {
     "base_uri": "https://localhost:8080/"
    },
    "executionInfo": {
     "elapsed": 27,
     "status": "ok",
     "timestamp": 1668405809841,
     "user": {
      "displayName": "김준태",
      "userId": "03589277791520879755"
     },
     "user_tz": -540
    },
    "id": "iPR1cY2viU3t",
    "outputId": "17666d01-fcb6-4224-9071-00f62d1e7964"
   },
   "outputs": [
    {
     "name": "stdout",
     "output_type": "stream",
     "text": [
      "Model: \"model_3\"\n",
      "__________________________________________________________________________________________________\n",
      "Layer (type)                    Output Shape         Param #     Connected to                     \n",
      "==================================================================================================\n",
      "Inp (InputLayer)                [(None, 17)]         0                                            \n",
      "__________________________________________________________________________________________________\n",
      "HL1 (Dense)                     (None, 10)           180         Inp[0][0]                        \n",
      "__________________________________________________________________________________________________\n",
      "HL2 (Concatenate)               (None, 27)           0           Inp[0][0]                        \n",
      "                                                                 HL1[0][0]                        \n",
      "__________________________________________________________________________________________________\n",
      "HL3 (Dense)                     (None, 5)            140         HL2[0][0]                        \n",
      "__________________________________________________________________________________________________\n",
      "Out (Dense)                     (None, 1)            6           HL3[0][0]                        \n",
      "==================================================================================================\n",
      "Total params: 326\n",
      "Trainable params: 326\n",
      "Non-trainable params: 0\n",
      "__________________________________________________________________________________________________\n"
     ]
    }
   ],
   "source": [
    "model.summary()"
   ]
  },
  {
   "cell_type": "markdown",
   "metadata": {
    "id": "28ORrp7QkgNG"
   },
   "source": [
    " ### Compliling the model\n",
    " #### You need to sepcify the loss function and the optimizer"
   ]
  },
  {
   "cell_type": "code",
   "execution_count": 29,
   "metadata": {
    "executionInfo": {
     "elapsed": 18,
     "status": "ok",
     "timestamp": 1668405809842,
     "user": {
      "displayName": "김준태",
      "userId": "03589277791520879755"
     },
     "user_tz": -540
    },
    "id": "zT8THAK6kukX"
   },
   "outputs": [],
   "source": [
    "model.compile(loss='BCE', optimizer='adam')"
   ]
  },
  {
   "cell_type": "code",
   "execution_count": 30,
   "metadata": {
    "colab": {
     "base_uri": "https://localhost:8080/"
    },
    "executionInfo": {
     "elapsed": 5861,
     "status": "ok",
     "timestamp": 1668405815685,
     "user": {
      "displayName": "김준태",
      "userId": "03589277791520879755"
     },
     "user_tz": -540
    },
    "id": "6rLuRywyk7ij",
    "outputId": "ee10cdf2-79d4-4147-c910-74fe660cbfa8",
    "scrolled": true,
    "tags": []
   },
   "outputs": [
    {
     "name": "stdout",
     "output_type": "stream",
     "text": [
      "Epoch 1/50\n",
      "2/2 [==============================] - 2s 1s/step - loss: 20.3086 - val_loss: 21.4078\n",
      "Epoch 2/50\n",
      "2/2 [==============================] - 0s 30ms/step - loss: 17.2234 - val_loss: 17.7843\n",
      "Epoch 3/50\n",
      "2/2 [==============================] - 0s 32ms/step - loss: 14.5216 - val_loss: 14.1686\n",
      "Epoch 4/50\n",
      "2/2 [==============================] - 0s 31ms/step - loss: 11.6671 - val_loss: 10.5938\n",
      "Epoch 5/50\n",
      "2/2 [==============================] - 0s 31ms/step - loss: 8.6840 - val_loss: 7.0266\n",
      "Epoch 6/50\n",
      "2/2 [==============================] - 0s 29ms/step - loss: 5.7197 - val_loss: 3.5406\n",
      "Epoch 7/50\n",
      "2/2 [==============================] - 0s 30ms/step - loss: 3.1834 - val_loss: 0.9346\n",
      "Epoch 8/50\n",
      "2/2 [==============================] - 0s 29ms/step - loss: 1.2321 - val_loss: 0.7713\n",
      "Epoch 9/50\n",
      "2/2 [==============================] - 0s 30ms/step - loss: 0.9398 - val_loss: 1.0782\n",
      "Epoch 10/50\n",
      "2/2 [==============================] - 0s 29ms/step - loss: 1.1183 - val_loss: 1.3615\n",
      "Epoch 11/50\n",
      "2/2 [==============================] - 0s 30ms/step - loss: 1.2210 - val_loss: 1.5767\n",
      "Epoch 12/50\n",
      "2/2 [==============================] - 0s 28ms/step - loss: 1.4661 - val_loss: 1.7479\n",
      "Epoch 13/50\n",
      "2/2 [==============================] - 0s 31ms/step - loss: 1.4912 - val_loss: 1.8735\n",
      "Epoch 14/50\n",
      "2/2 [==============================] - 0s 28ms/step - loss: 1.5899 - val_loss: 1.9493\n",
      "Epoch 15/50\n",
      "2/2 [==============================] - 0s 29ms/step - loss: 1.6836 - val_loss: 1.9885\n",
      "Epoch 16/50\n",
      "2/2 [==============================] - 0s 29ms/step - loss: 1.6774 - val_loss: 1.9978\n",
      "Epoch 17/50\n",
      "2/2 [==============================] - 0s 29ms/step - loss: 1.7257 - val_loss: 1.9870\n",
      "Epoch 18/50\n",
      "2/2 [==============================] - 0s 30ms/step - loss: 1.7923 - val_loss: 1.9475\n",
      "Epoch 19/50\n",
      "2/2 [==============================] - 0s 28ms/step - loss: 1.7257 - val_loss: 1.8853\n",
      "Epoch 20/50\n",
      "2/2 [==============================] - 0s 29ms/step - loss: 1.5272 - val_loss: 1.8098\n",
      "Epoch 21/50\n",
      "2/2 [==============================] - 0s 30ms/step - loss: 1.5133 - val_loss: 1.7174\n",
      "Epoch 22/50\n",
      "2/2 [==============================] - 0s 29ms/step - loss: 1.4430 - val_loss: 1.6116\n",
      "Epoch 23/50\n",
      "2/2 [==============================] - 0s 30ms/step - loss: 1.3055 - val_loss: 1.4982\n",
      "Epoch 24/50\n",
      "2/2 [==============================] - 0s 29ms/step - loss: 1.2489 - val_loss: 1.3703\n",
      "Epoch 25/50\n",
      "2/2 [==============================] - 0s 33ms/step - loss: 1.1158 - val_loss: 1.2355\n",
      "Epoch 26/50\n",
      "2/2 [==============================] - 0s 29ms/step - loss: 1.0880 - val_loss: 1.0995\n",
      "Epoch 27/50\n",
      "2/2 [==============================] - 0s 29ms/step - loss: 0.9595 - val_loss: 0.9505\n",
      "Epoch 28/50\n",
      "2/2 [==============================] - 0s 29ms/step - loss: 0.8142 - val_loss: 0.8125\n",
      "Epoch 29/50\n",
      "2/2 [==============================] - 0s 31ms/step - loss: 0.7901 - val_loss: 0.6905\n",
      "Epoch 30/50\n",
      "2/2 [==============================] - 0s 32ms/step - loss: 0.5811 - val_loss: 0.5982\n",
      "Epoch 31/50\n",
      "2/2 [==============================] - 0s 31ms/step - loss: 0.6267 - val_loss: 0.5529\n",
      "Epoch 32/50\n",
      "2/2 [==============================] - 0s 31ms/step - loss: 0.6732 - val_loss: 0.5516\n",
      "Epoch 33/50\n",
      "2/2 [==============================] - 0s 31ms/step - loss: 0.6373 - val_loss: 0.5610\n",
      "Epoch 34/50\n",
      "2/2 [==============================] - 0s 31ms/step - loss: 0.7069 - val_loss: 0.5581\n",
      "Epoch 35/50\n",
      "2/2 [==============================] - 0s 32ms/step - loss: 0.6259 - val_loss: 0.5543\n",
      "Epoch 36/50\n",
      "2/2 [==============================] - 0s 31ms/step - loss: 0.6409 - val_loss: 0.5703\n",
      "Epoch 37/50\n",
      "2/2 [==============================] - 0s 29ms/step - loss: 0.6080 - val_loss: 0.6042\n",
      "Epoch 38/50\n",
      "2/2 [==============================] - 0s 29ms/step - loss: 0.5475 - val_loss: 0.6337\n",
      "Epoch 39/50\n",
      "2/2 [==============================] - 0s 28ms/step - loss: 0.6294 - val_loss: 0.6610\n",
      "Epoch 40/50\n",
      "2/2 [==============================] - 0s 31ms/step - loss: 0.6207 - val_loss: 0.6675\n",
      "Epoch 41/50\n",
      "2/2 [==============================] - 0s 31ms/step - loss: 0.5156 - val_loss: 0.6680\n",
      "Epoch 42/50\n",
      "2/2 [==============================] - 0s 31ms/step - loss: 0.5643 - val_loss: 0.6466\n",
      "Epoch 43/50\n",
      "2/2 [==============================] - 0s 30ms/step - loss: 0.5510 - val_loss: 0.6246\n",
      "Epoch 44/50\n",
      "2/2 [==============================] - 0s 31ms/step - loss: 0.5845 - val_loss: 0.6019\n",
      "Epoch 45/50\n",
      "2/2 [==============================] - 0s 29ms/step - loss: 0.6405 - val_loss: 0.5832\n",
      "Epoch 46/50\n",
      "2/2 [==============================] - 0s 28ms/step - loss: 0.6134 - val_loss: 0.5745\n",
      "Epoch 47/50\n",
      "2/2 [==============================] - 0s 29ms/step - loss: 0.5406 - val_loss: 0.5721\n",
      "Epoch 48/50\n",
      "2/2 [==============================] - 0s 29ms/step - loss: 0.5472 - val_loss: 0.5729\n",
      "Epoch 49/50\n",
      "2/2 [==============================] - 0s 30ms/step - loss: 0.6075 - val_loss: 0.5756\n",
      "Epoch 50/50\n",
      "2/2 [==============================] - 0s 28ms/step - loss: 0.6155 - val_loss: 0.5829\n"
     ]
    }
   ],
   "source": [
    "model.fit(X,Y, validation_split=0.2, epochs=50, batch_size=200)\n",
    "Logs = model.history.history"
   ]
  },
  {
   "cell_type": "markdown",
   "metadata": {
    "id": "Vlx8SV0FpQpx"
   },
   "source": [
    "### Visualization of losses"
   ]
  },
  {
   "cell_type": "code",
   "execution_count": 31,
   "metadata": {
    "executionInfo": {
     "elapsed": 39,
     "status": "ok",
     "timestamp": 1668405815686,
     "user": {
      "displayName": "김준태",
      "userId": "03589277791520879755"
     },
     "user_tz": -540
    },
    "id": "7E_EwF95oslH"
   },
   "outputs": [],
   "source": [
    "import matplotlib.pyplot as plt\n"
   ]
  },
  {
   "cell_type": "code",
   "execution_count": 32,
   "metadata": {
    "colab": {
     "base_uri": "https://localhost:8080/",
     "height": 283
    },
    "executionInfo": {
     "elapsed": 1481,
     "status": "ok",
     "timestamp": 1668407572829,
     "user": {
      "displayName": "김준태",
      "userId": "03589277791520879755"
     },
     "user_tz": -540
    },
    "id": "LKZ70O6Now9U",
    "outputId": "22117905-0504-45c5-dec3-9c6625ca92d7"
   },
   "outputs": [
    {
     "data": {
      "text/plain": [
       "<matplotlib.legend.Legend at 0x2b60712a730>"
      ]
     },
     "execution_count": 32,
     "metadata": {},
     "output_type": "execute_result"
    },
    {
     "data": {
      "image/png": "[encoded data removed]",
      "text/plain": [
       "<Figure size 640x480 with 1 Axes>"
      ]
     },
     "metadata": {},
     "output_type": "display_data"
    }
   ],
   "source": [
    "plt.plot(Logs['loss'], label='TR_LOSS')\n",
    "plt.plot(Logs['val_loss'], label='VAL_LOSS')\n",
    "plt.legend()"
   ]
  },
  {
   "cell_type": "code",
   "execution_count": 28,
   "metadata": {
    "executionInfo": {
     "elapsed": 6,
     "status": "ok",
     "timestamp": 1668405816269,
     "user": {
      "displayName": "김준태",
      "userId": "03589277791520879755"
     },
     "user_tz": -540
    },
    "id": "WMau_z00n3Av"
   },
   "outputs": [],
   "source": []
  },
  {
   "cell_type": "markdown",
   "metadata": {
    "id": "Ikoe3hvhn5C8"
   },
   "source": []
  }
 ],
 "metadata": {
  "colab": {
   "authorship_tag": "ABX9TyOUOAhkrRcmi9lX/u9RdLTu",
   "collapsed_sections": [],
   "provenance": []
  },
  "kernelspec": {
   "display_name": "Python 3 (ipykernel)",
   "language": "python",
   "name": "python3"
  },
  "language_info": {
   "codemirror_mode": {
    "name": "ipython",
    "version": 3
   },
   "file_extension": ".py",
   "mimetype": "text/x-python",
   "name": "python",
   "nbconvert_exporter": "python",
   "pygments_lexer": "ipython3",
   "version": "3.8.13"
  }
 },
 "nbformat": 4,
 "nbformat_minor": 4
}
