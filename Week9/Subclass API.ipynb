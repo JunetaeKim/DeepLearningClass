{
 "cells": [
  {
   "cell_type": "code",
   "execution_count": 1,
   "metadata": {
    "colab": {
     "base_uri": "https://localhost:8080/"
    },
    "executionInfo": {
     "elapsed": 3249,
     "status": "ok",
     "timestamp": 1668405809835,
     "user": {
      "displayName": "김준태",
      "userId": "03589277791520879755"
     },
     "user_tz": -540
    },
    "id": "V7EDRLTNcFFz",
    "outputId": "d639bfb0-fd8a-4181-eab5-c009a83a90c5"
   },
   "outputs": [],
   "source": [
    "import tensorflow as tf\n",
    "from tensorflow.keras import Model\n",
    "from tensorflow.keras.layers import Dense, Input, Concatenate\n",
    "import numpy as np\n"
   ]
  },
  {
   "cell_type": "markdown",
   "metadata": {
    "id": "p8OIJ7OFjGfl"
   },
   "source": [
    "### Example data load"
   ]
  },
  {
   "cell_type": "code",
   "execution_count": 2,
   "metadata": {
    "executionInfo": {
     "elapsed": 33,
     "status": "ok",
     "timestamp": 1668405809836,
     "user": {
      "displayName": "김준태",
      "userId": "03589277791520879755"
     },
     "user_tz": -540
    },
    "id": "VD_MLZCphJLt"
   },
   "outputs": [],
   "source": [
    "url = 'https://raw.githubusercontent.com/JunetaeKim/DeepLearningClass/main/Dataset/ThoraricSurgery.csv'\n",
    "#Data = np.loadtxt('ThoraricSurgery.csv', delimiter=',')\n",
    "Data = np.loadtxt(url, delimiter=',')"
   ]
  },
  {
   "cell_type": "markdown",
   "metadata": {
    "id": "1Kx70nm_mRTW"
   },
   "source": [
    "### Splitting data into input and output"
   ]
  },
  {
   "cell_type": "code",
   "execution_count": 3,
   "metadata": {
    "colab": {
     "base_uri": "https://localhost:8080/"
    },
    "executionInfo": {
     "elapsed": 32,
     "status": "ok",
     "timestamp": 1668405809837,
     "user": {
      "displayName": "김준태",
      "userId": "03589277791520879755"
     },
     "user_tz": -540
    },
    "id": "pc3Fn7i42EJz",
    "outputId": "191d76ba-7fed-44ed-bfc7-1e512c954646"
   },
   "outputs": [
    {
     "data": {
      "text/plain": [
       "((470, 17), (470,))"
      ]
     },
     "execution_count": 3,
     "metadata": {},
     "output_type": "execute_result"
    }
   ],
   "source": [
    "X = Data[:, :17]\n",
    "Y = Data[:, 17]\n",
    "X.shape, Y.shape"
   ]
  },
  {
   "cell_type": "code",
   "execution_count": null,
   "metadata": {
    "executionInfo": {
     "elapsed": 29,
     "status": "ok",
     "timestamp": 1668405809838,
     "user": {
      "displayName": "김준태",
      "userId": "03589277791520879755"
     },
     "user_tz": -540
    },
    "id": "t-TAvt21ndrT"
   },
   "outputs": [],
   "source": []
  },
  {
   "cell_type": "markdown",
   "metadata": {
    "id": "BKkUYLlsnq5b"
   },
   "source": [
    "### Subclass API"
   ]
  },
  {
   "cell_type": "code",
   "execution_count": 4,
   "metadata": {
    "executionInfo": {
     "elapsed": 28,
     "status": "ok",
     "timestamp": 1668405809839,
     "user": {
      "displayName": "김준태",
      "userId": "03589277791520879755"
     },
     "user_tz": -540
    },
    "id": "1UsOGi7mn51E"
   },
   "outputs": [],
   "source": [
    "class MyDenseLayer(tf.keras.layers.Layer):\n",
    "    def __init__(self, num_outputs,name=None):\n",
    "        super(MyDenseLayer, self).__init__(name=name)\n",
    "        self.num_outputs = num_outputs\n",
    "\n",
    "    def build(self, input_shape):\n",
    "        self.weight = self.add_weight(\"weight\", shape=[int(input_shape[-1]),self.num_outputs])\n",
    "        self.bias = self.add_weight(\"bias\", shape=[1,self.num_outputs])\n",
    "\n",
    "    def call(self, inputs):\n",
    "        return tf.nn.relu(tf.matmul(inputs, self.weight) + self.bias)"
   ]
  },
  {
   "cell_type": "code",
   "execution_count": 5,
   "metadata": {},
   "outputs": [
    {
     "data": {
      "text/plain": [
       "<KerasTensor: shape=(None, 17) dtype=float32 (created by layer 'Inp')>"
      ]
     },
     "execution_count": 5,
     "metadata": {},
     "output_type": "execute_result"
    }
   ],
   "source": [
    "## Input layer with 17 features\n",
    "InpLayer = Input(shape=(X.shape[-1]), name='Inp')\n",
    "InpLayer"
   ]
  },
  {
   "cell_type": "code",
   "execution_count": 6,
   "metadata": {},
   "outputs": [
    {
     "data": {
      "text/plain": [
       "<KerasTensor: shape=(None, 10) dtype=float32 (created by layer 'CustomHL1')>"
      ]
     },
     "execution_count": 6,
     "metadata": {},
     "output_type": "execute_result"
    }
   ],
   "source": [
    "## Hidden layer 1 with a 2D wiegh matrix (17 , 10) and a 2D bias matrix (1, 10)\n",
    "HL1 = MyDenseLayer(10, name='CustomHL1')(InpLayer)\n",
    "HL1"
   ]
  },
  {
   "cell_type": "code",
   "execution_count": 7,
   "metadata": {},
   "outputs": [
    {
     "data": {
      "text/plain": [
       "<KerasTensor: shape=(None, 27) dtype=float32 (created by layer 'HL2')>"
      ]
     },
     "execution_count": 7,
     "metadata": {},
     "output_type": "execute_result"
    }
   ],
   "source": [
    "## Concatenating InpLayer and HD2 to generate HD3\n",
    "HL2 = Concatenate(axis=1, name='HL2')([InpLayer, HL1])\n",
    "HL2"
   ]
  },
  {
   "cell_type": "code",
   "execution_count": 8,
   "metadata": {},
   "outputs": [
    {
     "data": {
      "text/plain": [
       "<KerasTensor: shape=(None, 5) dtype=float32 (created by layer 'HL3')>"
      ]
     },
     "execution_count": 8,
     "metadata": {},
     "output_type": "execute_result"
    }
   ],
   "source": [
    "## Hidden layer 3 with a 2D wiegh matrix (27 , 5) and a 2D bias matrix (1, 5)\n",
    "HL3 = Dense(5, activation='relu', name='HL3')(HL2)\n",
    "HL3"
   ]
  },
  {
   "cell_type": "code",
   "execution_count": 9,
   "metadata": {},
   "outputs": [],
   "source": [
    "## Output layer a 2D wiegh matrix (5 , 1) and a 2D bias matrix (1, 1)\n",
    "Out = Dense(1, activation='sigmoid', name='Out')(HL3)"
   ]
  },
  {
   "cell_type": "code",
   "execution_count": 10,
   "metadata": {},
   "outputs": [],
   "source": [
    "### Defining the model by specifying inputs and outputs\n",
    "model = Model(InpLayer, Out)"
   ]
  },
  {
   "cell_type": "code",
   "execution_count": 11,
   "metadata": {
    "colab": {
     "base_uri": "https://localhost:8080/"
    },
    "executionInfo": {
     "elapsed": 27,
     "status": "ok",
     "timestamp": 1668405809841,
     "user": {
      "displayName": "김준태",
      "userId": "03589277791520879755"
     },
     "user_tz": -540
    },
    "id": "iPR1cY2viU3t",
    "outputId": "17666d01-fcb6-4224-9071-00f62d1e7964"
   },
   "outputs": [
    {
     "name": "stdout",
     "output_type": "stream",
     "text": [
      "Model: \"model\"\n",
      "__________________________________________________________________________________________________\n",
      "Layer (type)                    Output Shape         Param #     Connected to                     \n",
      "==================================================================================================\n",
      "Inp (InputLayer)                [(None, 17)]         0                                            \n",
      "__________________________________________________________________________________________________\n",
      "CustomHL1 (MyDenseLayer)        (None, 10)           180         Inp[0][0]                        \n",
      "__________________________________________________________________________________________________\n",
      "HL2 (Concatenate)               (None, 27)           0           Inp[0][0]                        \n",
      "                                                                 CustomHL1[0][0]                  \n",
      "__________________________________________________________________________________________________\n",
      "HL3 (Dense)                     (None, 5)            140         HL2[0][0]                        \n",
      "__________________________________________________________________________________________________\n",
      "Out (Dense)                     (None, 1)            6           HL3[0][0]                        \n",
      "==================================================================================================\n",
      "Total params: 326\n",
      "Trainable params: 326\n",
      "Non-trainable params: 0\n",
      "__________________________________________________________________________________________________\n"
     ]
    }
   ],
   "source": [
    "model.summary()"
   ]
  },
  {
   "cell_type": "markdown",
   "metadata": {
    "id": "28ORrp7QkgNG"
   },
   "source": [
    " ### Compliling the model\n",
    " #### You need to sepcify the loss function and the optimizer"
   ]
  },
  {
   "cell_type": "code",
   "execution_count": 12,
   "metadata": {
    "executionInfo": {
     "elapsed": 18,
     "status": "ok",
     "timestamp": 1668405809842,
     "user": {
      "displayName": "김준태",
      "userId": "03589277791520879755"
     },
     "user_tz": -540
    },
    "id": "zT8THAK6kukX"
   },
   "outputs": [],
   "source": [
    "model.compile(loss='BCE', optimizer='adam')"
   ]
  },
  {
   "cell_type": "code",
   "execution_count": 13,
   "metadata": {
    "colab": {
     "base_uri": "https://localhost:8080/"
    },
    "executionInfo": {
     "elapsed": 5861,
     "status": "ok",
     "timestamp": 1668405815685,
     "user": {
      "displayName": "김준태",
      "userId": "03589277791520879755"
     },
     "user_tz": -540
    },
    "id": "6rLuRywyk7ij",
    "outputId": "ee10cdf2-79d4-4147-c910-74fe660cbfa8",
    "scrolled": true,
    "tags": []
   },
   "outputs": [
    {
     "name": "stdout",
     "output_type": "stream",
     "text": [
      "Epoch 1/50\n",
      "2/2 [==============================] - 3s 2s/step - loss: 2.5001 - val_loss: 3.5736\n",
      "Epoch 2/50\n",
      "2/2 [==============================] - 0s 56ms/step - loss: 2.6635 - val_loss: 3.4457\n",
      "Epoch 3/50\n",
      "2/2 [==============================] - 0s 55ms/step - loss: 2.3355 - val_loss: 3.3176\n",
      "Epoch 4/50\n",
      "2/2 [==============================] - 0s 59ms/step - loss: 2.2738 - val_loss: 3.1895\n",
      "Epoch 5/50\n",
      "2/2 [==============================] - 0s 58ms/step - loss: 2.2800 - val_loss: 3.0638\n",
      "Epoch 6/50\n",
      "2/2 [==============================] - 0s 57ms/step - loss: 2.1622 - val_loss: 2.9429\n",
      "Epoch 7/50\n",
      "2/2 [==============================] - 0s 60ms/step - loss: 1.9106 - val_loss: 2.8253\n",
      "Epoch 8/50\n",
      "2/2 [==============================] - 0s 58ms/step - loss: 1.8570 - val_loss: 2.7119\n",
      "Epoch 9/50\n",
      "2/2 [==============================] - 0s 63ms/step - loss: 1.8526 - val_loss: 2.6012\n",
      "Epoch 10/50\n",
      "2/2 [==============================] - 0s 62ms/step - loss: 1.9343 - val_loss: 2.4939\n",
      "Epoch 11/50\n",
      "2/2 [==============================] - 0s 57ms/step - loss: 1.6966 - val_loss: 2.3870\n",
      "Epoch 12/50\n",
      "2/2 [==============================] - 0s 53ms/step - loss: 1.5246 - val_loss: 2.2839\n",
      "Epoch 13/50\n",
      "2/2 [==============================] - 0s 54ms/step - loss: 1.5448 - val_loss: 2.1824\n",
      "Epoch 14/50\n",
      "2/2 [==============================] - 0s 68ms/step - loss: 1.4751 - val_loss: 2.0840\n",
      "Epoch 15/50\n",
      "2/2 [==============================] - 0s 56ms/step - loss: 1.4082 - val_loss: 1.9922\n",
      "Epoch 16/50\n",
      "2/2 [==============================] - 0s 59ms/step - loss: 1.2962 - val_loss: 1.9019\n",
      "Epoch 17/50\n",
      "2/2 [==============================] - 0s 60ms/step - loss: 1.1836 - val_loss: 1.8131\n",
      "Epoch 18/50\n",
      "2/2 [==============================] - 0s 57ms/step - loss: 1.2059 - val_loss: 1.7244\n",
      "Epoch 19/50\n",
      "2/2 [==============================] - 0s 58ms/step - loss: 1.1276 - val_loss: 1.6422\n",
      "Epoch 20/50\n",
      "2/2 [==============================] - 0s 61ms/step - loss: 1.1160 - val_loss: 1.5632\n",
      "Epoch 21/50\n",
      "2/2 [==============================] - 0s 54ms/step - loss: 0.9731 - val_loss: 1.4860\n",
      "Epoch 22/50\n",
      "2/2 [==============================] - 0s 59ms/step - loss: 1.0038 - val_loss: 1.4093\n",
      "Epoch 23/50\n",
      "2/2 [==============================] - 0s 59ms/step - loss: 0.9451 - val_loss: 1.3380\n",
      "Epoch 24/50\n",
      "2/2 [==============================] - 0s 56ms/step - loss: 0.8706 - val_loss: 1.2722\n",
      "Epoch 25/50\n",
      "2/2 [==============================] - 0s 54ms/step - loss: 0.8346 - val_loss: 1.2118\n",
      "Epoch 26/50\n",
      "2/2 [==============================] - 0s 59ms/step - loss: 0.8146 - val_loss: 1.1539\n",
      "Epoch 27/50\n",
      "2/2 [==============================] - 0s 55ms/step - loss: 0.7743 - val_loss: 1.1006\n",
      "Epoch 28/50\n",
      "2/2 [==============================] - 0s 74ms/step - loss: 0.8026 - val_loss: 1.0492\n",
      "Epoch 29/50\n",
      "2/2 [==============================] - 0s 56ms/step - loss: 0.7380 - val_loss: 1.0018\n",
      "Epoch 30/50\n",
      "2/2 [==============================] - 0s 58ms/step - loss: 0.6971 - val_loss: 0.9576\n",
      "Epoch 31/50\n",
      "2/2 [==============================] - 0s 53ms/step - loss: 0.7632 - val_loss: 0.9190\n",
      "Epoch 32/50\n",
      "2/2 [==============================] - 0s 57ms/step - loss: 0.7022 - val_loss: 0.8833\n",
      "Epoch 33/50\n",
      "2/2 [==============================] - 0s 55ms/step - loss: 0.7176 - val_loss: 0.8521\n",
      "Epoch 34/50\n",
      "2/2 [==============================] - 0s 76ms/step - loss: 0.6762 - val_loss: 0.8246\n",
      "Epoch 35/50\n",
      "2/2 [==============================] - 0s 54ms/step - loss: 0.6325 - val_loss: 0.7997\n",
      "Epoch 36/50\n",
      "2/2 [==============================] - 0s 62ms/step - loss: 0.6474 - val_loss: 0.7769\n",
      "Epoch 37/50\n",
      "2/2 [==============================] - 0s 59ms/step - loss: 0.6102 - val_loss: 0.7576\n",
      "Epoch 38/50\n",
      "2/2 [==============================] - 0s 58ms/step - loss: 0.6075 - val_loss: 0.7396\n",
      "Epoch 39/50\n",
      "2/2 [==============================] - 0s 57ms/step - loss: 0.6050 - val_loss: 0.7227\n",
      "Epoch 40/50\n",
      "2/2 [==============================] - 0s 54ms/step - loss: 0.5676 - val_loss: 0.7070\n",
      "Epoch 41/50\n",
      "2/2 [==============================] - 0s 60ms/step - loss: 0.5612 - val_loss: 0.6922\n",
      "Epoch 42/50\n",
      "2/2 [==============================] - 0s 59ms/step - loss: 0.5676 - val_loss: 0.6803\n",
      "Epoch 43/50\n",
      "2/2 [==============================] - 0s 56ms/step - loss: 0.5885 - val_loss: 0.6690\n",
      "Epoch 44/50\n",
      "2/2 [==============================] - 0s 56ms/step - loss: 0.5789 - val_loss: 0.6585\n",
      "Epoch 45/50\n",
      "2/2 [==============================] - 0s 61ms/step - loss: 0.5679 - val_loss: 0.6507\n",
      "Epoch 46/50\n",
      "2/2 [==============================] - 0s 57ms/step - loss: 0.5647 - val_loss: 0.6426\n",
      "Epoch 47/50\n",
      "2/2 [==============================] - 0s 61ms/step - loss: 0.5459 - val_loss: 0.6367\n",
      "Epoch 48/50\n",
      "2/2 [==============================] - 0s 54ms/step - loss: 0.5688 - val_loss: 0.6309\n",
      "Epoch 49/50\n",
      "2/2 [==============================] - 0s 54ms/step - loss: 0.5569 - val_loss: 0.6256\n",
      "Epoch 50/50\n",
      "2/2 [==============================] - 0s 64ms/step - loss: 0.5241 - val_loss: 0.6220\n"
     ]
    }
   ],
   "source": [
    "model.fit(X,Y, validation_split=0.2, epochs=50, batch_size=200)\n",
    "Logs = model.history.history"
   ]
  },
  {
   "cell_type": "markdown",
   "metadata": {
    "id": "Vlx8SV0FpQpx"
   },
   "source": [
    "### Visualization of losses"
   ]
  },
  {
   "cell_type": "code",
   "execution_count": 14,
   "metadata": {
    "executionInfo": {
     "elapsed": 39,
     "status": "ok",
     "timestamp": 1668405815686,
     "user": {
      "displayName": "김준태",
      "userId": "03589277791520879755"
     },
     "user_tz": -540
    },
    "id": "7E_EwF95oslH"
   },
   "outputs": [],
   "source": [
    "import matplotlib.pyplot as plt\n"
   ]
  },
  {
   "cell_type": "code",
   "execution_count": 15,
   "metadata": {
    "colab": {
     "base_uri": "https://localhost:8080/",
     "height": 283
    },
    "executionInfo": {
     "elapsed": 1481,
     "status": "ok",
     "timestamp": 1668407572829,
     "user": {
      "displayName": "김준태",
      "userId": "03589277791520879755"
     },
     "user_tz": -540
    },
    "id": "LKZ70O6Now9U",
    "outputId": "22117905-0504-45c5-dec3-9c6625ca92d7"
   },
   "outputs": [
    {
     "data": {
      "text/plain": [
       "<matplotlib.legend.Legend at 0x1bad512dfa0>"
      ]
     },
     "execution_count": 15,
     "metadata": {},
     "output_type": "execute_result"
    },
    {
     "data": {
      "image/png": "[encoded data removed]",
      "text/plain": [
       "<Figure size 432x288 with 1 Axes>"
      ]
     },
     "metadata": {
      "needs_background": "light"
     },
     "output_type": "display_data"
    }
   ],
   "source": [
    "plt.plot(Logs['loss'], label='TR_LOSS')\n",
    "plt.plot(Logs['val_loss'], label='VAL_LOSS')\n",
    "plt.legend()"
   ]
  },
  {
   "cell_type": "code",
   "execution_count": 28,
   "metadata": {
    "executionInfo": {
     "elapsed": 6,
     "status": "ok",
     "timestamp": 1668405816269,
     "user": {
      "displayName": "김준태",
      "userId": "03589277791520879755"
     },
     "user_tz": -540
    },
    "id": "WMau_z00n3Av"
   },
   "outputs": [],
   "source": []
  },
  {
   "cell_type": "markdown",
   "metadata": {
    "id": "Ikoe3hvhn5C8"
   },
   "source": []
  }
 ],
 "metadata": {
  "colab": {
   "authorship_tag": "ABX9TyOUOAhkrRcmi9lX/u9RdLTu",
   "collapsed_sections": [],
   "provenance": []
  },
  "kernelspec": {
   "display_name": "Python 3",
   "language": "python",
   "name": "python3"
  },
  "language_info": {
   "codemirror_mode": {
    "name": "ipython",
    "version": 3
   },
   "file_extension": ".py",
   "mimetype": "text/x-python",
   "name": "python",
   "nbconvert_exporter": "python",
   "pygments_lexer": "ipython3",
   "version": "3.8.5"
  }
 },
 "nbformat": 4,
 "nbformat_minor": 4
}
