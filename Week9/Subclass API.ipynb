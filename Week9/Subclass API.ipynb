{
 "cells": [
  {
   "cell_type": "code",
   "execution_count": 11,
   "metadata": {
    "colab": {
     "base_uri": "https://localhost:8080/"
    },
    "executionInfo": {
     "elapsed": 3249,
     "status": "ok",
     "timestamp": 1668405809835,
     "user": {
      "displayName": "김준태",
      "userId": "03589277791520879755"
     },
     "user_tz": -540
    },
    "id": "V7EDRLTNcFFz",
    "outputId": "d639bfb0-fd8a-4181-eab5-c009a83a90c5"
   },
   "outputs": [],
   "source": [
    "import tensorflow as tf\n",
    "from tensorflow.keras import Model\n",
    "from tensorflow.keras.layers import Dense, Input, Concatenate\n",
    "import numpy as np\n"
   ]
  },
  {
   "cell_type": "markdown",
   "metadata": {
    "id": "p8OIJ7OFjGfl"
   },
   "source": [
    "### Example data load"
   ]
  },
  {
   "cell_type": "code",
   "execution_count": 7,
   "metadata": {
    "executionInfo": {
     "elapsed": 33,
     "status": "ok",
     "timestamp": 1668405809836,
     "user": {
      "displayName": "김준태",
      "userId": "03589277791520879755"
     },
     "user_tz": -540
    },
    "id": "VD_MLZCphJLt"
   },
   "outputs": [],
   "source": [
    "url = 'https://raw.githubusercontent.com/JunetaeKim/DeepLearningClass/main/Week9/ThoraricSurgery.csv'\n",
    "#Data = np.loadtxt('ThoraricSurgery.csv', delimiter=',')\n",
    "Data = np.loadtxt(url, delimiter=',')"
   ]
  },
  {
   "cell_type": "markdown",
   "metadata": {
    "id": "1Kx70nm_mRTW"
   },
   "source": [
    "### Splitting data into input and output"
   ]
  },
  {
   "cell_type": "code",
   "execution_count": 8,
   "metadata": {
    "colab": {
     "base_uri": "https://localhost:8080/"
    },
    "executionInfo": {
     "elapsed": 32,
     "status": "ok",
     "timestamp": 1668405809837,
     "user": {
      "displayName": "김준태",
      "userId": "03589277791520879755"
     },
     "user_tz": -540
    },
    "id": "pc3Fn7i42EJz",
    "outputId": "191d76ba-7fed-44ed-bfc7-1e512c954646"
   },
   "outputs": [
    {
     "data": {
      "text/plain": [
       "((470, 17), (470,))"
      ]
     },
     "execution_count": 8,
     "metadata": {},
     "output_type": "execute_result"
    }
   ],
   "source": [
    "X = Data[:, :17]\n",
    "Y = Data[:, 17]\n",
    "X.shape, Y.shape"
   ]
  },
  {
   "cell_type": "code",
   "execution_count": null,
   "metadata": {
    "executionInfo": {
     "elapsed": 29,
     "status": "ok",
     "timestamp": 1668405809838,
     "user": {
      "displayName": "김준태",
      "userId": "03589277791520879755"
     },
     "user_tz": -540
    },
    "id": "t-TAvt21ndrT"
   },
   "outputs": [],
   "source": []
  },
  {
   "cell_type": "markdown",
   "metadata": {
    "id": "BKkUYLlsnq5b"
   },
   "source": [
    "### Subclass API"
   ]
  },
  {
   "cell_type": "code",
   "execution_count": 108,
   "metadata": {
    "executionInfo": {
     "elapsed": 28,
     "status": "ok",
     "timestamp": 1668405809839,
     "user": {
      "displayName": "김준태",
      "userId": "03589277791520879755"
     },
     "user_tz": -540
    },
    "id": "1UsOGi7mn51E"
   },
   "outputs": [],
   "source": [
    "class MyDenseLayer(tf.keras.layers.Layer):\n",
    "    def __init__(self, num_outputs,name=None):\n",
    "        super(MyDenseLayer, self).__init__(name=name)\n",
    "        self.num_outputs = num_outputs\n",
    "\n",
    "    def build(self, input_shape):\n",
    "        self.weight = self.add_weight(\"weight\", shape=[int(input_shape[-1]),self.num_outputs])\n",
    "        self.bias = self.add_weight(\"bias\", shape=[1,self.num_outputs])\n",
    "\n",
    "    def call(self, inputs):\n",
    "        return tf.nn.relu(tf.matmul(inputs, self.weight) + self.bias)"
   ]
  },
  {
   "cell_type": "code",
   "execution_count": 109,
   "metadata": {},
   "outputs": [
    {
     "data": {
      "text/plain": [
       "<KerasTensor: shape=(None, 17) dtype=float32 (created by layer 'Inp')>"
      ]
     },
     "execution_count": 109,
     "metadata": {},
     "output_type": "execute_result"
    }
   ],
   "source": [
    "## Input layer with 17 features\n",
    "InpLayer = Input(shape=(X.shape[-1]), name='Inp')\n",
    "InpLayer"
   ]
  },
  {
   "cell_type": "code",
   "execution_count": 110,
   "metadata": {},
   "outputs": [
    {
     "data": {
      "text/plain": [
       "<KerasTensor: shape=(None, 10) dtype=float32 (created by layer 'CustomHL1')>"
      ]
     },
     "execution_count": 110,
     "metadata": {},
     "output_type": "execute_result"
    }
   ],
   "source": [
    "## Hidden layer 1 with a 2D wiegh matrix (17 , 10) and a 2D bias matrix (1, 10)\n",
    "HL1 = MyDenseLayer(10, name='CustomHL1')(InpLayer)\n",
    "HL1"
   ]
  },
  {
   "cell_type": "code",
   "execution_count": 111,
   "metadata": {},
   "outputs": [
    {
     "data": {
      "text/plain": [
       "<KerasTensor: shape=(None, 27) dtype=float32 (created by layer 'HL2')>"
      ]
     },
     "execution_count": 111,
     "metadata": {},
     "output_type": "execute_result"
    }
   ],
   "source": [
    "## Concatenating InpLayer and HD2 to generate HD3\n",
    "HL2 = Concatenate(axis=1, name='HL2')([InpLayer, HL1])\n",
    "HL2"
   ]
  },
  {
   "cell_type": "code",
   "execution_count": 112,
   "metadata": {},
   "outputs": [
    {
     "data": {
      "text/plain": [
       "<KerasTensor: shape=(None, 5) dtype=float32 (created by layer 'HL3')>"
      ]
     },
     "execution_count": 112,
     "metadata": {},
     "output_type": "execute_result"
    }
   ],
   "source": [
    "## Hidden layer 3 with a 2D wiegh matrix (27 , 5) and a 2D bias matrix (1, 5)\n",
    "HL3 = Dense(5, activation='relu', name='HL3')(HL2)\n",
    "HL3"
   ]
  },
  {
   "cell_type": "code",
   "execution_count": 113,
   "metadata": {},
   "outputs": [],
   "source": [
    "## Output layer a 2D wiegh matrix (5 , 1) and a 2D bias matrix (1, 1)\n",
    "Out = Dense(1, activation='sigmoid', name='Out')(HL3)"
   ]
  },
  {
   "cell_type": "code",
   "execution_count": 114,
   "metadata": {},
   "outputs": [],
   "source": [
    "### Defining the model by specifying inputs and outputs\n",
    "model = Model(InpLayer, Out)"
   ]
  },
  {
   "cell_type": "code",
   "execution_count": 115,
   "metadata": {
    "colab": {
     "base_uri": "https://localhost:8080/"
    },
    "executionInfo": {
     "elapsed": 27,
     "status": "ok",
     "timestamp": 1668405809841,
     "user": {
      "displayName": "김준태",
      "userId": "03589277791520879755"
     },
     "user_tz": -540
    },
    "id": "iPR1cY2viU3t",
    "outputId": "17666d01-fcb6-4224-9071-00f62d1e7964"
   },
   "outputs": [
    {
     "name": "stdout",
     "output_type": "stream",
     "text": [
      "Model: \"model_8\"\n",
      "__________________________________________________________________________________________________\n",
      "Layer (type)                    Output Shape         Param #     Connected to                     \n",
      "==================================================================================================\n",
      "Inp (InputLayer)                [(None, 17)]         0                                            \n",
      "__________________________________________________________________________________________________\n",
      "CustomHL1 (MyDenseLayer)        (None, 10)           180         Inp[0][0]                        \n",
      "__________________________________________________________________________________________________\n",
      "HL2 (Concatenate)               (None, 27)           0           Inp[0][0]                        \n",
      "                                                                 CustomHL1[0][0]                  \n",
      "__________________________________________________________________________________________________\n",
      "HL3 (Dense)                     (None, 5)            140         HL2[0][0]                        \n",
      "__________________________________________________________________________________________________\n",
      "Out (Dense)                     (None, 1)            6           HL3[0][0]                        \n",
      "==================================================================================================\n",
      "Total params: 326\n",
      "Trainable params: 326\n",
      "Non-trainable params: 0\n",
      "__________________________________________________________________________________________________\n"
     ]
    }
   ],
   "source": [
    "model.summary()"
   ]
  },
  {
   "cell_type": "markdown",
   "metadata": {
    "id": "28ORrp7QkgNG"
   },
   "source": [
    " ### Compliling the model\n",
    " #### You need to sepcify the loss function and the optimizer"
   ]
  },
  {
   "cell_type": "code",
   "execution_count": 116,
   "metadata": {
    "executionInfo": {
     "elapsed": 18,
     "status": "ok",
     "timestamp": 1668405809842,
     "user": {
      "displayName": "김준태",
      "userId": "03589277791520879755"
     },
     "user_tz": -540
    },
    "id": "zT8THAK6kukX"
   },
   "outputs": [],
   "source": [
    "model.compile(loss='BCE', optimizer='adam')"
   ]
  },
  {
   "cell_type": "code",
   "execution_count": 117,
   "metadata": {
    "colab": {
     "base_uri": "https://localhost:8080/"
    },
    "executionInfo": {
     "elapsed": 5861,
     "status": "ok",
     "timestamp": 1668405815685,
     "user": {
      "displayName": "김준태",
      "userId": "03589277791520879755"
     },
     "user_tz": -540
    },
    "id": "6rLuRywyk7ij",
    "outputId": "ee10cdf2-79d4-4147-c910-74fe660cbfa8",
    "scrolled": true,
    "tags": []
   },
   "outputs": [
    {
     "name": "stdout",
     "output_type": "stream",
     "text": [
      "Epoch 1/50\n",
      "2/2 [==============================] - 0s 148ms/step - loss: 15.5263 - val_loss: 19.4288\n",
      "Epoch 2/50\n",
      "2/2 [==============================] - 0s 54ms/step - loss: 15.0514 - val_loss: 18.8737\n",
      "Epoch 3/50\n",
      "2/2 [==============================] - 0s 56ms/step - loss: 14.5976 - val_loss: 18.3264\n",
      "Epoch 4/50\n",
      "2/2 [==============================] - 0s 56ms/step - loss: 13.8916 - val_loss: 17.7872\n",
      "Epoch 5/50\n",
      "2/2 [==============================] - 0s 52ms/step - loss: 13.3830 - val_loss: 17.2508\n",
      "Epoch 6/50\n",
      "2/2 [==============================] - 0s 55ms/step - loss: 13.1991 - val_loss: 16.7082\n",
      "Epoch 7/50\n",
      "2/2 [==============================] - 0s 79ms/step - loss: 12.8974 - val_loss: 16.1607\n",
      "Epoch 8/50\n",
      "2/2 [==============================] - 0s 77ms/step - loss: 12.1900 - val_loss: 15.6442\n",
      "Epoch 9/50\n",
      "2/2 [==============================] - 0s 56ms/step - loss: 11.8442 - val_loss: 15.1361\n",
      "Epoch 10/50\n",
      "2/2 [==============================] - 0s 55ms/step - loss: 11.5975 - val_loss: 14.6329\n",
      "Epoch 11/50\n",
      "2/2 [==============================] - 0s 58ms/step - loss: 11.3364 - val_loss: 14.1400\n",
      "Epoch 12/50\n",
      "2/2 [==============================] - 0s 55ms/step - loss: 10.8571 - val_loss: 13.6417\n",
      "Epoch 13/50\n",
      "2/2 [==============================] - 0s 59ms/step - loss: 10.1812 - val_loss: 13.1489\n",
      "Epoch 14/50\n",
      "2/2 [==============================] - 0s 55ms/step - loss: 9.8637 - val_loss: 12.6725\n",
      "Epoch 15/50\n",
      "2/2 [==============================] - 0s 54ms/step - loss: 9.4315 - val_loss: 12.2069\n",
      "Epoch 16/50\n",
      "2/2 [==============================] - 0s 59ms/step - loss: 9.1721 - val_loss: 11.7403\n",
      "Epoch 17/50\n",
      "2/2 [==============================] - 0s 57ms/step - loss: 8.9252 - val_loss: 11.2690\n",
      "Epoch 18/50\n",
      "2/2 [==============================] - 0s 55ms/step - loss: 8.4045 - val_loss: 10.8095\n",
      "Epoch 19/50\n",
      "2/2 [==============================] - 0s 53ms/step - loss: 7.9697 - val_loss: 10.3576\n",
      "Epoch 20/50\n",
      "2/2 [==============================] - 0s 58ms/step - loss: 7.6542 - val_loss: 9.9101\n",
      "Epoch 21/50\n",
      "2/2 [==============================] - 0s 52ms/step - loss: 7.3305 - val_loss: 9.4794\n",
      "Epoch 22/50\n",
      "2/2 [==============================] - 0s 56ms/step - loss: 7.1730 - val_loss: 9.0386\n",
      "Epoch 23/50\n",
      "2/2 [==============================] - 0s 55ms/step - loss: 6.7806 - val_loss: 8.6012\n",
      "Epoch 24/50\n",
      "2/2 [==============================] - 0s 61ms/step - loss: 6.4237 - val_loss: 8.1792\n",
      "Epoch 25/50\n",
      "2/2 [==============================] - 0s 58ms/step - loss: 6.0268 - val_loss: 7.7488\n",
      "Epoch 26/50\n",
      "2/2 [==============================] - 0s 62ms/step - loss: 5.7180 - val_loss: 7.3346\n",
      "Epoch 27/50\n",
      "2/2 [==============================] - 0s 55ms/step - loss: 5.3110 - val_loss: 6.9331\n",
      "Epoch 28/50\n",
      "2/2 [==============================] - 0s 52ms/step - loss: 5.1658 - val_loss: 6.5240\n",
      "Epoch 29/50\n",
      "2/2 [==============================] - 0s 50ms/step - loss: 4.7139 - val_loss: 6.1229\n",
      "Epoch 30/50\n",
      "2/2 [==============================] - 0s 55ms/step - loss: 4.4785 - val_loss: 5.7292\n",
      "Epoch 31/50\n",
      "2/2 [==============================] - 0s 58ms/step - loss: 4.1495 - val_loss: 5.3348\n",
      "Epoch 32/50\n",
      "2/2 [==============================] - 0s 57ms/step - loss: 3.8652 - val_loss: 4.9491\n",
      "Epoch 33/50\n",
      "2/2 [==============================] - 0s 59ms/step - loss: 3.6703 - val_loss: 4.5701\n",
      "Epoch 34/50\n",
      "2/2 [==============================] - 0s 58ms/step - loss: 3.3704 - val_loss: 4.2019\n",
      "Epoch 35/50\n",
      "2/2 [==============================] - 0s 53ms/step - loss: 3.1279 - val_loss: 3.8308\n",
      "Epoch 36/50\n",
      "2/2 [==============================] - 0s 94ms/step - loss: 2.8179 - val_loss: 3.4796\n",
      "Epoch 37/50\n",
      "2/2 [==============================] - 0s 58ms/step - loss: 2.5963 - val_loss: 3.1295\n",
      "Epoch 38/50\n",
      "2/2 [==============================] - 0s 51ms/step - loss: 2.3151 - val_loss: 2.7961\n",
      "Epoch 39/50\n",
      "2/2 [==============================] - 0s 76ms/step - loss: 2.0591 - val_loss: 2.4632\n",
      "Epoch 40/50\n",
      "2/2 [==============================] - 0s 56ms/step - loss: 1.7944 - val_loss: 2.1487\n",
      "Epoch 41/50\n",
      "2/2 [==============================] - 0s 57ms/step - loss: 1.6384 - val_loss: 1.8423\n",
      "Epoch 42/50\n",
      "2/2 [==============================] - 0s 74ms/step - loss: 1.3913 - val_loss: 1.5597\n",
      "Epoch 43/50\n",
      "2/2 [==============================] - 0s 53ms/step - loss: 1.2201 - val_loss: 1.3078\n",
      "Epoch 44/50\n",
      "2/2 [==============================] - 0s 57ms/step - loss: 1.0446 - val_loss: 1.0896\n",
      "Epoch 45/50\n",
      "2/2 [==============================] - 0s 59ms/step - loss: 0.8871 - val_loss: 0.9247\n",
      "Epoch 46/50\n",
      "2/2 [==============================] - 0s 79ms/step - loss: 0.7729 - val_loss: 0.8197\n",
      "Epoch 47/50\n",
      "2/2 [==============================] - 0s 68ms/step - loss: 0.6972 - val_loss: 0.7854\n",
      "Epoch 48/50\n",
      "2/2 [==============================] - 0s 61ms/step - loss: 0.6623 - val_loss: 0.7815\n",
      "Epoch 49/50\n",
      "2/2 [==============================] - 0s 96ms/step - loss: 0.6788 - val_loss: 0.7810\n",
      "Epoch 50/50\n",
      "2/2 [==============================] - 0s 69ms/step - loss: 0.6641 - val_loss: 0.7799\n"
     ]
    }
   ],
   "source": [
    "model.fit(X,Y, validation_split=0.2, epochs=50, batch_size=200)\n",
    "Logs = model.history.history"
   ]
  },
  {
   "cell_type": "markdown",
   "metadata": {
    "id": "Vlx8SV0FpQpx"
   },
   "source": [
    "### Visualization of losses"
   ]
  },
  {
   "cell_type": "code",
   "execution_count": 118,
   "metadata": {
    "executionInfo": {
     "elapsed": 39,
     "status": "ok",
     "timestamp": 1668405815686,
     "user": {
      "displayName": "김준태",
      "userId": "03589277791520879755"
     },
     "user_tz": -540
    },
    "id": "7E_EwF95oslH"
   },
   "outputs": [],
   "source": [
    "import matplotlib.pyplot as plt\n"
   ]
  },
  {
   "cell_type": "code",
   "execution_count": 119,
   "metadata": {
    "colab": {
     "base_uri": "https://localhost:8080/",
     "height": 283
    },
    "executionInfo": {
     "elapsed": 1481,
     "status": "ok",
     "timestamp": 1668407572829,
     "user": {
      "displayName": "김준태",
      "userId": "03589277791520879755"
     },
     "user_tz": -540
    },
    "id": "LKZ70O6Now9U",
    "outputId": "22117905-0504-45c5-dec3-9c6625ca92d7"
   },
   "outputs": [
    {
     "data": {
      "text/plain": [
       "<matplotlib.legend.Legend at 0x1efa2781d90>"
      ]
     },
     "execution_count": 119,
     "metadata": {},
     "output_type": "execute_result"
    },
    {
     "data": {
      "image/png": "[encoded data removed]",
      "text/plain": [
       "<Figure size 432x288 with 1 Axes>"
      ]
     },
     "metadata": {
      "needs_background": "light"
     },
     "output_type": "display_data"
    }
   ],
   "source": [
    "plt.plot(Logs['loss'], label='TR_LOSS')\n",
    "plt.plot(Logs['val_loss'], label='VAL_LOSS')\n",
    "plt.legend()"
   ]
  },
  {
   "cell_type": "code",
   "execution_count": 28,
   "metadata": {
    "executionInfo": {
     "elapsed": 6,
     "status": "ok",
     "timestamp": 1668405816269,
     "user": {
      "displayName": "김준태",
      "userId": "03589277791520879755"
     },
     "user_tz": -540
    },
    "id": "WMau_z00n3Av"
   },
   "outputs": [],
   "source": []
  },
  {
   "cell_type": "markdown",
   "metadata": {
    "id": "Ikoe3hvhn5C8"
   },
   "source": []
  }
 ],
 "metadata": {
  "colab": {
   "authorship_tag": "ABX9TyOUOAhkrRcmi9lX/u9RdLTu",
   "collapsed_sections": [],
   "provenance": []
  },
  "kernelspec": {
   "display_name": "Python 3",
   "language": "python",
   "name": "python3"
  },
  "language_info": {
   "codemirror_mode": {
    "name": "ipython",
    "version": 3
   },
   "file_extension": ".py",
   "mimetype": "text/x-python",
   "name": "python",
   "nbconvert_exporter": "python",
   "pygments_lexer": "ipython3",
   "version": "3.8.5"
  }
 },
 "nbformat": 4,
 "nbformat_minor": 4
}
