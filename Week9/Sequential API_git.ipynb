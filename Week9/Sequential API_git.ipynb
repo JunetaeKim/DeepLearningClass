{
 "cells": [
  {
   "cell_type": "code",
   "execution_count": 1,
   "metadata": {
    "colab": {
     "base_uri": "https://localhost:8080/"
    },
    "executionInfo": {
     "elapsed": 3249,
     "status": "ok",
     "timestamp": 1668405809835,
     "user": {
      "displayName": "김준태",
      "userId": "03589277791520879755"
     },
     "user_tz": -540
    },
    "id": "V7EDRLTNcFFz",
    "outputId": "d639bfb0-fd8a-4181-eab5-c009a83a90c5"
   },
   "outputs": [],
   "source": [
    "import tensorflow as tf\n",
    "from tensorflow import keras\n",
    "import numpy as np\n"
   ]
  },
  {
   "cell_type": "markdown",
   "metadata": {
    "id": "p8OIJ7OFjGfl"
   },
   "source": [
    "### Example data load"
   ]
  },
  {
   "cell_type": "code",
   "execution_count": 3,
   "metadata": {
    "executionInfo": {
     "elapsed": 33,
     "status": "ok",
     "timestamp": 1668405809836,
     "user": {
      "displayName": "김준태",
      "userId": "03589277791520879755"
     },
     "user_tz": -540
    },
    "id": "VD_MLZCphJLt"
   },
   "outputs": [],
   "source": [
    "Data = np.loadtxt('ThoraricSurgery.csv', delimiter=',')"
   ]
  },
  {
   "cell_type": "markdown",
   "metadata": {
    "id": "1Kx70nm_mRTW"
   },
   "source": [
    "### Splitting data into input and output"
   ]
  },
  {
   "cell_type": "code",
   "execution_count": 4,
   "metadata": {
    "colab": {
     "base_uri": "https://localhost:8080/"
    },
    "executionInfo": {
     "elapsed": 32,
     "status": "ok",
     "timestamp": 1668405809837,
     "user": {
      "displayName": "김준태",
      "userId": "03589277791520879755"
     },
     "user_tz": -540
    },
    "id": "pc3Fn7i42EJz",
    "outputId": "191d76ba-7fed-44ed-bfc7-1e512c954646"
   },
   "outputs": [
    {
     "data": {
      "text/plain": [
       "((470, 17), (470,))"
      ]
     },
     "execution_count": 4,
     "metadata": {},
     "output_type": "execute_result"
    }
   ],
   "source": [
    "X = Data[:, :17]\n",
    "Y = Data[:, 17]\n",
    "X.shape, Y.shape"
   ]
  },
  {
   "cell_type": "code",
   "execution_count": 17,
   "metadata": {
    "executionInfo": {
     "elapsed": 29,
     "status": "ok",
     "timestamp": 1668405809838,
     "user": {
      "displayName": "김준태",
      "userId": "03589277791520879755"
     },
     "user_tz": -540
    },
    "id": "t-TAvt21ndrT"
   },
   "outputs": [],
   "source": []
  },
  {
   "cell_type": "markdown",
   "metadata": {
    "id": "BKkUYLlsnq5b"
   },
   "source": [
    "### Sequential API"
   ]
  },
  {
   "cell_type": "code",
   "execution_count": 5,
   "metadata": {
    "executionInfo": {
     "elapsed": 28,
     "status": "ok",
     "timestamp": 1668405809838,
     "user": {
      "displayName": "김준태",
      "userId": "03589277791520879755"
     },
     "user_tz": -540
    },
    "id": "qPIxE4A_pJQn"
   },
   "outputs": [],
   "source": [
    "from tensorflow.keras.models import Sequential\n",
    "from tensorflow.keras.layers import Dense"
   ]
  },
  {
   "cell_type": "code",
   "execution_count": 6,
   "metadata": {
    "executionInfo": {
     "elapsed": 28,
     "status": "ok",
     "timestamp": 1668405809839,
     "user": {
      "displayName": "김준태",
      "userId": "03589277791520879755"
     },
     "user_tz": -540
    },
    "id": "1UsOGi7mn51E"
   },
   "outputs": [],
   "source": [
    "## Instantiation\n",
    "model = keras.models.Sequential()"
   ]
  },
  {
   "cell_type": "code",
   "execution_count": 7,
   "metadata": {
    "executionInfo": {
     "elapsed": 28,
     "status": "ok",
     "timestamp": 1668405809839,
     "user": {
      "displayName": "김준태",
      "userId": "03589277791520879755"
     },
     "user_tz": -540
    },
    "id": "hB-JLSrgdD0h"
   },
   "outputs": [],
   "source": [
    "## Input layer with 17 features\n",
    "model.add(keras.Input(shape=(17,)))\n"
   ]
  },
  {
   "cell_type": "code",
   "execution_count": 8,
   "metadata": {
    "executionInfo": {
     "elapsed": 28,
     "status": "ok",
     "timestamp": 1668405809840,
     "user": {
      "displayName": "김준태",
      "userId": "03589277791520879755"
     },
     "user_tz": -540
    },
    "id": "SWPFUaAtdSiy"
   },
   "outputs": [],
   "source": [
    "## Hidden layer 1 with a 2D wiegh matrix (17 , 10) and a 2D bias matrix (1, 10)\n",
    "model.add(Dense(10, activation='relu'))"
   ]
  },
  {
   "cell_type": "code",
   "execution_count": 9,
   "metadata": {
    "executionInfo": {
     "elapsed": 28,
     "status": "ok",
     "timestamp": 1668405809840,
     "user": {
      "displayName": "김준태",
      "userId": "03589277791520879755"
     },
     "user_tz": -540
    },
    "id": "RgxdZx8-h_X9"
   },
   "outputs": [],
   "source": [
    "## Hidden layer 2 with a 2D wiegh matrix (10 , 5) and a 2D bias matrix (1, 5)\n",
    "model.add(Dense(5, activation='relu'))"
   ]
  },
  {
   "cell_type": "code",
   "execution_count": 10,
   "metadata": {
    "executionInfo": {
     "elapsed": 27,
     "status": "ok",
     "timestamp": 1668405809840,
     "user": {
      "displayName": "김준태",
      "userId": "03589277791520879755"
     },
     "user_tz": -540
    },
    "id": "ztqKATRNiInq"
   },
   "outputs": [],
   "source": [
    "## Output layer a 2D wiegh matrix (5 , 1) and a 2D bias matrix (1, 1)\n",
    "model.add(Dense(1, activation='sigmoid'))"
   ]
  },
  {
   "cell_type": "code",
   "execution_count": 11,
   "metadata": {
    "colab": {
     "base_uri": "https://localhost:8080/"
    },
    "executionInfo": {
     "elapsed": 27,
     "status": "ok",
     "timestamp": 1668405809841,
     "user": {
      "displayName": "김준태",
      "userId": "03589277791520879755"
     },
     "user_tz": -540
    },
    "id": "iPR1cY2viU3t",
    "outputId": "17666d01-fcb6-4224-9071-00f62d1e7964"
   },
   "outputs": [
    {
     "name": "stdout",
     "output_type": "stream",
     "text": [
      "Model: \"sequential\"\n",
      "_________________________________________________________________\n",
      "Layer (type)                 Output Shape              Param #   \n",
      "=================================================================\n",
      "dense (Dense)                (None, 10)                180       \n",
      "_________________________________________________________________\n",
      "dense_1 (Dense)              (None, 5)                 55        \n",
      "_________________________________________________________________\n",
      "dense_2 (Dense)              (None, 1)                 6         \n",
      "=================================================================\n",
      "Total params: 241\n",
      "Trainable params: 241\n",
      "Non-trainable params: 0\n",
      "_________________________________________________________________\n"
     ]
    }
   ],
   "source": [
    "model.summary()"
   ]
  },
  {
   "cell_type": "markdown",
   "metadata": {
    "id": "28ORrp7QkgNG"
   },
   "source": [
    " ### Compliling the model\n",
    " #### You need to sepcify the loss function and the optimizer"
   ]
  },
  {
   "cell_type": "code",
   "execution_count": 12,
   "metadata": {
    "executionInfo": {
     "elapsed": 18,
     "status": "ok",
     "timestamp": 1668405809842,
     "user": {
      "displayName": "김준태",
      "userId": "03589277791520879755"
     },
     "user_tz": -540
    },
    "id": "zT8THAK6kukX"
   },
   "outputs": [],
   "source": [
    "model.compile(loss='BCE', optimizer='adam')"
   ]
  },
  {
   "cell_type": "code",
   "execution_count": 13,
   "metadata": {
    "colab": {
     "base_uri": "https://localhost:8080/"
    },
    "executionInfo": {
     "elapsed": 5861,
     "status": "ok",
     "timestamp": 1668405815685,
     "user": {
      "displayName": "김준태",
      "userId": "03589277791520879755"
     },
     "user_tz": -540
    },
    "id": "6rLuRywyk7ij",
    "outputId": "ee10cdf2-79d4-4147-c910-74fe660cbfa8",
    "scrolled": true,
    "tags": []
   },
   "outputs": [
    {
     "name": "stdout",
     "output_type": "stream",
     "text": [
      "Epoch 1/50\n",
      "2/2 [==============================] - 3s 1s/step - loss: 25.8893 - val_loss: 26.3297\n",
      "Epoch 2/50\n",
      "2/2 [==============================] - 0s 31ms/step - loss: 23.0058 - val_loss: 22.3314\n",
      "Epoch 3/50\n",
      "2/2 [==============================] - 0s 31ms/step - loss: 19.5064 - val_loss: 18.1890\n",
      "Epoch 4/50\n",
      "2/2 [==============================] - 0s 31ms/step - loss: 16.4379 - val_loss: 14.1722\n",
      "Epoch 5/50\n",
      "2/2 [==============================] - 0s 29ms/step - loss: 13.4104 - val_loss: 10.2357\n",
      "Epoch 6/50\n",
      "2/2 [==============================] - 0s 30ms/step - loss: 10.6168 - val_loss: 6.5328\n",
      "Epoch 7/50\n",
      "2/2 [==============================] - 0s 30ms/step - loss: 7.7450 - val_loss: 4.3164\n",
      "Epoch 8/50\n",
      "2/2 [==============================] - 0s 29ms/step - loss: 5.6051 - val_loss: 3.3484\n",
      "Epoch 9/50\n",
      "2/2 [==============================] - 0s 31ms/step - loss: 4.4545 - val_loss: 2.9083\n",
      "Epoch 10/50\n",
      "2/2 [==============================] - 0s 28ms/step - loss: 3.4886 - val_loss: 2.7370\n",
      "Epoch 11/50\n",
      "2/2 [==============================] - 0s 30ms/step - loss: 3.1808 - val_loss: 2.6751\n",
      "Epoch 12/50\n",
      "2/2 [==============================] - 0s 28ms/step - loss: 2.9029 - val_loss: 2.6605\n",
      "Epoch 13/50\n",
      "2/2 [==============================] - 0s 31ms/step - loss: 2.8813 - val_loss: 2.6486\n",
      "Epoch 14/50\n",
      "2/2 [==============================] - 0s 29ms/step - loss: 2.8305 - val_loss: 2.6421\n",
      "Epoch 15/50\n",
      "2/2 [==============================] - 0s 30ms/step - loss: 2.6883 - val_loss: 2.6372\n",
      "Epoch 16/50\n",
      "2/2 [==============================] - 0s 30ms/step - loss: 2.5360 - val_loss: 2.6305\n",
      "Epoch 17/50\n",
      "2/2 [==============================] - 0s 31ms/step - loss: 2.5297 - val_loss: 2.6196\n",
      "Epoch 18/50\n",
      "2/2 [==============================] - 0s 30ms/step - loss: 2.6154 - val_loss: 2.6011\n",
      "Epoch 19/50\n",
      "2/2 [==============================] - 0s 31ms/step - loss: 2.5476 - val_loss: 2.5899\n",
      "Epoch 20/50\n",
      "2/2 [==============================] - 0s 31ms/step - loss: 2.2650 - val_loss: 2.5731\n",
      "Epoch 21/50\n",
      "2/2 [==============================] - 0s 29ms/step - loss: 2.2321 - val_loss: 2.5434\n",
      "Epoch 22/50\n",
      "2/2 [==============================] - 0s 30ms/step - loss: 2.3948 - val_loss: 2.5026\n",
      "Epoch 23/50\n",
      "2/2 [==============================] - 0s 32ms/step - loss: 2.3224 - val_loss: 2.4739\n",
      "Epoch 24/50\n",
      "2/2 [==============================] - 0s 29ms/step - loss: 2.1974 - val_loss: 2.4344\n",
      "Epoch 25/50\n",
      "2/2 [==============================] - 0s 29ms/step - loss: 1.9732 - val_loss: 2.3818\n",
      "Epoch 26/50\n",
      "2/2 [==============================] - 0s 29ms/step - loss: 1.9031 - val_loss: 2.3160\n",
      "Epoch 27/50\n",
      "2/2 [==============================] - 0s 29ms/step - loss: 1.9032 - val_loss: 2.2572\n",
      "Epoch 28/50\n",
      "2/2 [==============================] - 0s 30ms/step - loss: 1.7807 - val_loss: 2.1872\n",
      "Epoch 29/50\n",
      "2/2 [==============================] - 0s 29ms/step - loss: 1.7430 - val_loss: 2.1072\n",
      "Epoch 30/50\n",
      "2/2 [==============================] - 0s 30ms/step - loss: 1.7377 - val_loss: 2.0240\n",
      "Epoch 31/50\n",
      "2/2 [==============================] - 0s 29ms/step - loss: 1.5222 - val_loss: 1.9459\n",
      "Epoch 32/50\n",
      "2/2 [==============================] - 0s 28ms/step - loss: 1.5105 - val_loss: 1.8625\n",
      "Epoch 33/50\n",
      "2/2 [==============================] - 0s 29ms/step - loss: 1.4186 - val_loss: 1.7804\n",
      "Epoch 34/50\n",
      "2/2 [==============================] - 0s 29ms/step - loss: 1.3821 - val_loss: 1.6954\n",
      "Epoch 35/50\n",
      "2/2 [==============================] - 0s 28ms/step - loss: 1.3273 - val_loss: 1.6144\n",
      "Epoch 36/50\n",
      "2/2 [==============================] - 0s 29ms/step - loss: 1.2114 - val_loss: 1.5411\n",
      "Epoch 37/50\n",
      "2/2 [==============================] - 0s 29ms/step - loss: 1.1592 - val_loss: 1.4819\n",
      "Epoch 38/50\n",
      "2/2 [==============================] - 0s 29ms/step - loss: 0.9727 - val_loss: 1.4128\n",
      "Epoch 39/50\n",
      "2/2 [==============================] - 0s 28ms/step - loss: 1.0804 - val_loss: 1.3476\n",
      "Epoch 40/50\n",
      "2/2 [==============================] - 0s 31ms/step - loss: 0.9635 - val_loss: 1.2943\n",
      "Epoch 41/50\n",
      "2/2 [==============================] - 0s 29ms/step - loss: 0.9044 - val_loss: 1.2389\n",
      "Epoch 42/50\n",
      "2/2 [==============================] - 0s 29ms/step - loss: 0.9106 - val_loss: 1.1874\n",
      "Epoch 43/50\n",
      "2/2 [==============================] - 0s 30ms/step - loss: 0.8795 - val_loss: 1.1358\n",
      "Epoch 44/50\n",
      "2/2 [==============================] - 0s 30ms/step - loss: 0.7943 - val_loss: 1.1019\n",
      "Epoch 45/50\n",
      "2/2 [==============================] - 0s 28ms/step - loss: 0.7380 - val_loss: 1.0628\n",
      "Epoch 46/50\n",
      "2/2 [==============================] - 0s 30ms/step - loss: 0.7127 - val_loss: 1.0324\n",
      "Epoch 47/50\n",
      "2/2 [==============================] - 0s 29ms/step - loss: 0.7146 - val_loss: 0.9801\n",
      "Epoch 48/50\n",
      "2/2 [==============================] - 0s 30ms/step - loss: 0.6310 - val_loss: 0.9362\n",
      "Epoch 49/50\n",
      "2/2 [==============================] - 0s 29ms/step - loss: 0.5864 - val_loss: 0.8924\n",
      "Epoch 50/50\n",
      "2/2 [==============================] - 0s 30ms/step - loss: 0.5850 - val_loss: 0.8433\n"
     ]
    }
   ],
   "source": [
    "model.fit(X,Y, validation_split=0.2, epochs=50, batch_size=200)\n",
    "Logs = model.history.history"
   ]
  },
  {
   "cell_type": "markdown",
   "metadata": {
    "id": "Vlx8SV0FpQpx"
   },
   "source": [
    "### Visualization of losses"
   ]
  },
  {
   "cell_type": "code",
   "execution_count": 14,
   "metadata": {
    "executionInfo": {
     "elapsed": 39,
     "status": "ok",
     "timestamp": 1668405815686,
     "user": {
      "displayName": "김준태",
      "userId": "03589277791520879755"
     },
     "user_tz": -540
    },
    "id": "7E_EwF95oslH"
   },
   "outputs": [],
   "source": [
    "import matplotlib.pyplot as plt\n"
   ]
  },
  {
   "cell_type": "code",
   "execution_count": 15,
   "metadata": {
    "colab": {
     "base_uri": "https://localhost:8080/",
     "height": 283
    },
    "executionInfo": {
     "elapsed": 1481,
     "status": "ok",
     "timestamp": 1668407572829,
     "user": {
      "displayName": "김준태",
      "userId": "03589277791520879755"
     },
     "user_tz": -540
    },
    "id": "LKZ70O6Now9U",
    "outputId": "22117905-0504-45c5-dec3-9c6625ca92d7"
   },
   "outputs": [
    {
     "data": {
      "text/plain": [
       "<matplotlib.legend.Legend at 0x21b89033580>"
      ]
     },
     "execution_count": 15,
     "metadata": {},
     "output_type": "execute_result"
    },
    {
     "data": {
      "image/png": "[encoded data removed]",
      "text/plain": [
       "<Figure size 640x480 with 1 Axes>"
      ]
     },
     "metadata": {},
     "output_type": "display_data"
    }
   ],
   "source": [
    "plt.plot(Logs['loss'], label='TR_LOSS')\n",
    "plt.plot(Logs['val_loss'], label='VAL_LOSS')\n",
    "plt.legend()"
   ]
  },
  {
   "cell_type": "code",
   "execution_count": 28,
   "metadata": {
    "executionInfo": {
     "elapsed": 6,
     "status": "ok",
     "timestamp": 1668405816269,
     "user": {
      "displayName": "김준태",
      "userId": "03589277791520879755"
     },
     "user_tz": -540
    },
    "id": "WMau_z00n3Av"
   },
   "outputs": [],
   "source": []
  },
  {
   "cell_type": "markdown",
   "metadata": {
    "id": "Ikoe3hvhn5C8"
   },
   "source": []
  }
 ],
 "metadata": {
  "colab": {
   "authorship_tag": "ABX9TyOUOAhkrRcmi9lX/u9RdLTu",
   "collapsed_sections": [],
   "provenance": []
  },
  "kernelspec": {
   "display_name": "Python 3 (ipykernel)",
   "language": "python",
   "name": "python3"
  },
  "language_info": {
   "codemirror_mode": {
    "name": "ipython",
    "version": 3
   },
   "file_extension": ".py",
   "mimetype": "text/x-python",
   "name": "python",
   "nbconvert_exporter": "python",
   "pygments_lexer": "ipython3",
   "version": "3.8.13"
  }
 },
 "nbformat": 4,
 "nbformat_minor": 4
}
