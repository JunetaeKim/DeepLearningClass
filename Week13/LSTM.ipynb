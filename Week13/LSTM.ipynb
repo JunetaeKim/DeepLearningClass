{
 "cells": [
  {
   "cell_type": "code",
   "execution_count": 1,
   "metadata": {},
   "outputs": [],
   "source": [
    "import numpy as np\n",
    "import pandas as pd\n",
    "from tensorflow.keras.layers import LSTM, Input, TimeDistributed, RepeatVector, SimpleRNN, Dense\n",
    "from tensorflow.keras import Model, regularizers"
   ]
  },
  {
   "cell_type": "code",
   "execution_count": null,
   "metadata": {},
   "outputs": [],
   "source": []
  },
  {
   "cell_type": "markdown",
   "metadata": {},
   "source": [
    "### Return_sequences = True"
   ]
  },
  {
   "cell_type": "code",
   "execution_count": 2,
   "metadata": {},
   "outputs": [
    {
     "data": {
      "text/plain": [
       "<KerasTensor: shape=(None, 20, 10) dtype=float32 (created by layer 'lstm')>"
      ]
     },
     "execution_count": 2,
     "metadata": {},
     "output_type": "execute_result"
    }
   ],
   "source": [
    "TimeStep = 20\n",
    "VarSize = 30\n",
    "Units = 10\n",
    "\n",
    "InpL = Input(shape=(TimeStep, VarSize))\n",
    "LSTML = LSTM(Units, return_sequences=True)(InpL)\n",
    "LSTML"
   ]
  },
  {
   "cell_type": "code",
   "execution_count": null,
   "metadata": {},
   "outputs": [],
   "source": []
  },
  {
   "cell_type": "markdown",
   "metadata": {},
   "source": [
    "### Return_sequences = False"
   ]
  },
  {
   "cell_type": "code",
   "execution_count": 3,
   "metadata": {},
   "outputs": [
    {
     "data": {
      "text/plain": [
       "<KerasTensor: shape=(None, 10) dtype=float32 (created by layer 'lstm_1')>"
      ]
     },
     "execution_count": 3,
     "metadata": {},
     "output_type": "execute_result"
    }
   ],
   "source": [
    "TimeStep = 20\n",
    "VarSize = 30\n",
    "Units = 10\n",
    "\n",
    "InpL = Input(shape=(TimeStep, VarSize))\n",
    "LSTML = LSTM(Units, return_sequences=False)(InpL)\n",
    "LSTML"
   ]
  },
  {
   "cell_type": "code",
   "execution_count": null,
   "metadata": {},
   "outputs": [],
   "source": []
  },
  {
   "cell_type": "markdown",
   "metadata": {},
   "source": [
    "### Return_sequences = True & return_state =True"
   ]
  },
  {
   "cell_type": "code",
   "execution_count": 4,
   "metadata": {},
   "outputs": [
    {
     "data": {
      "text/plain": [
       "[<KerasTensor: shape=(None, 20, 10) dtype=float32 (created by layer 'lstm_2')>,\n",
       " <KerasTensor: shape=(None, 10) dtype=float32 (created by layer 'lstm_2')>,\n",
       " <KerasTensor: shape=(None, 10) dtype=float32 (created by layer 'lstm_2')>]"
      ]
     },
     "execution_count": 4,
     "metadata": {},
     "output_type": "execute_result"
    }
   ],
   "source": [
    "TimeStep = 20\n",
    "VarSize = 30\n",
    "Units = 10\n",
    "\n",
    "InpL = Input(shape=(TimeStep, VarSize))\n",
    "LSTML = LSTM(Units, return_sequences=True, return_state =True)(InpL)\n",
    "model = Model(InpL, LSTML)\n",
    "LSTML"
   ]
  },
  {
   "cell_type": "code",
   "execution_count": null,
   "metadata": {
    "scrolled": true
   },
   "outputs": [],
   "source": [
    "Dataset = np.random.rand(TimeStep * VarSize).reshape(1, TimeStep, VarSize)\n",
    "lstm1, state_h, state_c =model.predict(Dataset)\n",
    "lstm1, state_h, state_c"
   ]
  },
  {
   "cell_type": "markdown",
   "metadata": {},
   "source": [
    "#### The last lstm output and hidden state values are same"
   ]
  },
  {
   "cell_type": "code",
   "execution_count": null,
   "metadata": {},
   "outputs": [],
   "source": [
    "lstm1[0, -1], state_h"
   ]
  },
  {
   "cell_type": "code",
   "execution_count": null,
   "metadata": {},
   "outputs": [],
   "source": []
  },
  {
   "cell_type": "markdown",
   "metadata": {},
   "source": [
    "### Return_sequences = False & return_state =True"
   ]
  },
  {
   "cell_type": "code",
   "execution_count": null,
   "metadata": {},
   "outputs": [],
   "source": [
    "TimeStep = 20\n",
    "VarSize = 30\n",
    "Units = 10\n",
    "\n",
    "InpL = Input(shape=(TimeStep, VarSize))\n",
    "LSTML = LSTM(Units, return_sequences=False, return_state =True)(InpL)\n",
    "model = Model(InpL, LSTML)"
   ]
  },
  {
   "cell_type": "code",
   "execution_count": null,
   "metadata": {},
   "outputs": [],
   "source": [
    "Dataset = np.random.rand(TimeStep * VarSize).reshape(1, TimeStep, VarSize)\n",
    "lstm1, state_h, state_c =model.predict(Dataset)\n",
    "lstm1, state_h, state_c"
   ]
  },
  {
   "cell_type": "code",
   "execution_count": null,
   "metadata": {},
   "outputs": [],
   "source": [
    "LSTML"
   ]
  },
  {
   "cell_type": "markdown",
   "metadata": {},
   "source": [
    "### Stacked LSTM models"
   ]
  },
  {
   "cell_type": "code",
   "execution_count": null,
   "metadata": {},
   "outputs": [],
   "source": [
    "InpL = Input(shape=(TimeStep, VarSize))\n",
    "LSTML = LSTM(Units, return_sequences=True)(InpL)\n",
    "LSTML = LSTM(Units, return_sequences=False)(LSTML)\n",
    "model = Model(InpL, LSTML)\n",
    "model.summary()"
   ]
  },
  {
   "cell_type": "code",
   "execution_count": null,
   "metadata": {},
   "outputs": [],
   "source": []
  },
  {
   "cell_type": "markdown",
   "metadata": {},
   "source": [
    "### M to N LSTM"
   ]
  },
  {
   "cell_type": "code",
   "execution_count": null,
   "metadata": {},
   "outputs": [],
   "source": [
    "InpL = Input(shape=(TimeStep, VarSize))\n",
    "LSTML = LSTM(Units, return_sequences=False)(InpL)\n",
    "\n",
    "LSTMRepeat = RepeatVector(Units)(LSTML)\n",
    "LSTML = TimeDistributed(Dense(10))(LSTMRepeat)\n",
    "Output = LSTM(1, return_sequences=False)(LSTML)\n",
    "model = Model(InpL, LSTMRepeat)\n",
    "model.summary()"
   ]
  },
  {
   "cell_type": "markdown",
   "metadata": {},
   "source": [
    "#### Check repeat vector"
   ]
  },
  {
   "cell_type": "code",
   "execution_count": null,
   "metadata": {},
   "outputs": [],
   "source": [
    "model.predict(Dataset)"
   ]
  },
  {
   "cell_type": "code",
   "execution_count": null,
   "metadata": {},
   "outputs": [],
   "source": []
  }
 ],
 "metadata": {
  "kernelspec": {
   "display_name": "Python 3 (ipykernel)",
   "language": "python",
   "name": "python3"
  },
  "language_info": {
   "codemirror_mode": {
    "name": "ipython",
    "version": 3
   },
   "file_extension": ".py",
   "mimetype": "text/x-python",
   "name": "python",
   "nbconvert_exporter": "python",
   "pygments_lexer": "ipython3",
   "version": "3.8.13"
  }
 },
 "nbformat": 4,
 "nbformat_minor": 4
}
