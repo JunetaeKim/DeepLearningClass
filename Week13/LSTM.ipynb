{
 "cells": [
  {
   "cell_type": "code",
   "execution_count": 38,
   "metadata": {},
   "outputs": [],
   "source": [
    "import numpy as np\n",
    "import pandas as pd\n",
    "from tensorflow.keras.layers import LSTM, Input, TimeDistributed, RepeatVector, SimpleRNN\n",
    "from tensorflow.keras import Model, regularizers"
   ]
  },
  {
   "cell_type": "code",
   "execution_count": null,
   "metadata": {},
   "outputs": [],
   "source": []
  },
  {
   "cell_type": "markdown",
   "metadata": {},
   "source": [
    "### Return_sequences = True"
   ]
  },
  {
   "cell_type": "code",
   "execution_count": 30,
   "metadata": {},
   "outputs": [
    {
     "data": {
      "text/plain": [
       "<KerasTensor: shape=(None, 20, 10) dtype=float32 (created by layer 'lstm_9')>"
      ]
     },
     "execution_count": 30,
     "metadata": {},
     "output_type": "execute_result"
    }
   ],
   "source": [
    "TimeStep = 20\n",
    "VarSize = 30\n",
    "Units = 10\n",
    "\n",
    "InpL = Input(shape=(TimeStep, VarSize))\n",
    "LSTML = LSTM(Units, return_sequences=True)(InpL)\n",
    "LSTML"
   ]
  },
  {
   "cell_type": "code",
   "execution_count": null,
   "metadata": {},
   "outputs": [],
   "source": []
  },
  {
   "cell_type": "markdown",
   "metadata": {},
   "source": [
    "### Return_sequences = False"
   ]
  },
  {
   "cell_type": "code",
   "execution_count": 31,
   "metadata": {},
   "outputs": [
    {
     "data": {
      "text/plain": [
       "<KerasTensor: shape=(None, 10) dtype=float32 (created by layer 'lstm_10')>"
      ]
     },
     "execution_count": 31,
     "metadata": {},
     "output_type": "execute_result"
    }
   ],
   "source": [
    "TimeStep = 20\n",
    "VarSize = 30\n",
    "Units = 10\n",
    "\n",
    "InpL = Input(shape=(TimeStep, VarSize))\n",
    "LSTML = LSTM(Units, return_sequences=False)(InpL)\n",
    "LSTML"
   ]
  },
  {
   "cell_type": "code",
   "execution_count": null,
   "metadata": {},
   "outputs": [],
   "source": []
  },
  {
   "cell_type": "markdown",
   "metadata": {},
   "source": [
    "### Return_sequences = True & return_state =True"
   ]
  },
  {
   "cell_type": "code",
   "execution_count": 42,
   "metadata": {},
   "outputs": [
    {
     "data": {
      "text/plain": [
       "[<KerasTensor: shape=(None, 20, 10) dtype=float32 (created by layer 'lstm_14')>,\n",
       " <KerasTensor: shape=(None, 10) dtype=float32 (created by layer 'lstm_14')>,\n",
       " <KerasTensor: shape=(None, 10) dtype=float32 (created by layer 'lstm_14')>]"
      ]
     },
     "execution_count": 42,
     "metadata": {},
     "output_type": "execute_result"
    }
   ],
   "source": [
    "TimeStep = 20\n",
    "VarSize = 30\n",
    "Units = 10\n",
    "\n",
    "InpL = Input(shape=(TimeStep, VarSize))\n",
    "LSTML = LSTM(Units, return_sequences=True, return_state =True)(InpL)\n",
    "model = Model(InpL, LSTML)\n",
    "LSTML"
   ]
  },
  {
   "cell_type": "code",
   "execution_count": 51,
   "metadata": {
    "scrolled": true
   },
   "outputs": [
    {
     "data": {
      "text/plain": [
       "(array([[[ 0.10418471, -0.10299467, -0.03308957, -0.12693873,\n",
       "           0.06858419, -0.05860742, -0.1285915 ,  0.11070773,\n",
       "          -0.01663681,  0.06277633],\n",
       "         [ 0.18883878, -0.28232977, -0.13730997, -0.10400794,\n",
       "           0.08172072, -0.08473852, -0.36194646,  0.01631832,\n",
       "           0.04124894,  0.16498668],\n",
       "         [ 0.36693642, -0.3296919 , -0.16808738, -0.10541847,\n",
       "           0.0902691 , -0.08297814, -0.6160102 ,  0.04428409,\n",
       "           0.0431894 ,  0.1570348 ],\n",
       "         [ 0.47693694, -0.4077609 , -0.07768168, -0.06384867,\n",
       "           0.18653767, -0.09649818, -0.6437236 ,  0.18595375,\n",
       "          -0.02047893,  0.03371238],\n",
       "         [ 0.37087005, -0.34538823, -0.05237258, -0.11939853,\n",
       "           0.20827551, -0.08198439, -0.5756054 ,  0.2753517 ,\n",
       "          -0.04047269,  0.04319203],\n",
       "         [ 0.45024145, -0.57471347, -0.11312895, -0.16705999,\n",
       "           0.1360178 , -0.06367707, -0.66484505,  0.22979371,\n",
       "           0.03135851,  0.01712436],\n",
       "         [ 0.48487017, -0.46401256, -0.14979745, -0.23698197,\n",
       "           0.05196054, -0.07793827, -0.6646853 ,  0.18725072,\n",
       "          -0.02103812,  0.02290552],\n",
       "         [ 0.4148604 , -0.48729548, -0.21766253, -0.20252998,\n",
       "          -0.04747832, -0.09953781, -0.6265001 ,  0.1049092 ,\n",
       "          -0.01881466,  0.00413163],\n",
       "         [ 0.42215696, -0.53082436, -0.16130416, -0.2203201 ,\n",
       "           0.04822302, -0.11577496, -0.6593142 ,  0.24996193,\n",
       "          -0.06917893, -0.01736844],\n",
       "         [ 0.48267844, -0.41939762, -0.1809036 , -0.21926014,\n",
       "           0.05389888, -0.17380345, -0.6449934 ,  0.2609422 ,\n",
       "          -0.08609166, -0.08525456],\n",
       "         [ 0.4923998 , -0.41154027, -0.15750334, -0.278896  ,\n",
       "           0.1426595 , -0.09500161, -0.69153786,  0.3174954 ,\n",
       "          -0.02090729, -0.10023961],\n",
       "         [ 0.44255137, -0.45584515, -0.18612725, -0.2693997 ,\n",
       "           0.03295386, -0.0719431 , -0.5958398 ,  0.25488985,\n",
       "           0.08206024, -0.16922896],\n",
       "         [ 0.33774075, -0.4780016 , -0.11747442, -0.2627789 ,\n",
       "           0.10843756,  0.0361635 , -0.6932431 ,  0.3588006 ,\n",
       "           0.16054416, -0.1753225 ],\n",
       "         [ 0.543631  , -0.42304978, -0.1353034 , -0.1538545 ,\n",
       "           0.07219933,  0.04820316, -0.6932327 ,  0.26501107,\n",
       "           0.10087414, -0.12860538],\n",
       "         [ 0.43505016, -0.5997424 , -0.18345885, -0.21508278,\n",
       "           0.11480609,  0.05074843, -0.63437766,  0.21608604,\n",
       "           0.08012659, -0.14282554],\n",
       "         [ 0.4709185 , -0.5664125 , -0.11626864, -0.1951692 ,\n",
       "           0.24661525,  0.02452442, -0.7136351 ,  0.45614463,\n",
       "           0.04680071, -0.10545392],\n",
       "         [ 0.47994953, -0.5423461 , -0.1499274 , -0.22360174,\n",
       "           0.244632  ,  0.02594679, -0.70992595,  0.287634  ,\n",
       "           0.04461679, -0.1564251 ],\n",
       "         [ 0.42104647, -0.5328715 , -0.11054142, -0.16494566,\n",
       "           0.21847706,  0.04905012, -0.529114  ,  0.3644339 ,\n",
       "           0.01426746, -0.12926985],\n",
       "         [ 0.35110274, -0.5415667 , -0.14340797, -0.20676911,\n",
       "           0.23227511,  0.09967187, -0.6561127 ,  0.26832727,\n",
       "          -0.01866143, -0.16693343],\n",
       "         [ 0.476748  , -0.49156404, -0.14146677, -0.25162914,\n",
       "           0.16426216,  0.04446121, -0.7061612 ,  0.32513285,\n",
       "          -0.08177719, -0.06405693]]], dtype=float32),\n",
       " array([[ 0.476748  , -0.49156404, -0.14146677, -0.25162914,  0.16426216,\n",
       "          0.04446121, -0.7061612 ,  0.32513285, -0.08177719, -0.06405693]],\n",
       "       dtype=float32),\n",
       " array([[ 0.95711195, -1.8047289 , -0.33005622, -0.7390868 ,  0.32052857,\n",
       "          0.07692748, -1.6998419 ,  1.2574995 , -0.23841226, -0.12922163]],\n",
       "       dtype=float32))"
      ]
     },
     "execution_count": 51,
     "metadata": {},
     "output_type": "execute_result"
    }
   ],
   "source": [
    "Dataset = np.random.rand(TimeStep * VarSize).reshape(1, TimeStep, VarSize)\n",
    "lstm1, state_h, state_c =model.predict(Dataset)\n",
    "lstm1, state_h, state_c"
   ]
  },
  {
   "cell_type": "markdown",
   "metadata": {},
   "source": [
    "#### The last lstm output and hidden state values are same"
   ]
  },
  {
   "cell_type": "code",
   "execution_count": 52,
   "metadata": {},
   "outputs": [
    {
     "data": {
      "text/plain": [
       "(array([ 0.476748  , -0.49156404, -0.14146677, -0.25162914,  0.16426216,\n",
       "         0.04446121, -0.7061612 ,  0.32513285, -0.08177719, -0.06405693],\n",
       "       dtype=float32),\n",
       " array([[ 0.476748  , -0.49156404, -0.14146677, -0.25162914,  0.16426216,\n",
       "          0.04446121, -0.7061612 ,  0.32513285, -0.08177719, -0.06405693]],\n",
       "       dtype=float32))"
      ]
     },
     "execution_count": 52,
     "metadata": {},
     "output_type": "execute_result"
    }
   ],
   "source": [
    "lstm1[0, -1], state_h"
   ]
  },
  {
   "cell_type": "code",
   "execution_count": null,
   "metadata": {},
   "outputs": [],
   "source": []
  },
  {
   "cell_type": "markdown",
   "metadata": {},
   "source": [
    "### Return_sequences = False & return_state =True"
   ]
  },
  {
   "cell_type": "code",
   "execution_count": 54,
   "metadata": {},
   "outputs": [],
   "source": [
    "TimeStep = 20\n",
    "VarSize = 30\n",
    "Units = 10\n",
    "\n",
    "InpL = Input(shape=(TimeStep, VarSize))\n",
    "LSTML = LSTM(Units, return_sequences=False, return_state =True)(InpL)\n",
    "model = Model(InpL, LSTML)"
   ]
  },
  {
   "cell_type": "code",
   "execution_count": 55,
   "metadata": {},
   "outputs": [
    {
     "data": {
      "text/plain": [
       "(array([[-0.62462705, -0.28413856,  0.16088091, -0.3796    ,  0.03474068,\n",
       "          0.03447613, -0.24979752, -0.4051117 , -0.64492005,  0.15125301]],\n",
       "       dtype=float32),\n",
       " array([[-0.62462705, -0.28413856,  0.16088091, -0.3796    ,  0.03474068,\n",
       "          0.03447613, -0.24979752, -0.4051117 , -0.64492005,  0.15125301]],\n",
       "       dtype=float32),\n",
       " array([[-2.8718817 , -0.5888344 ,  0.49813947, -0.55632097,  0.11454298,\n",
       "          0.09786666, -0.44266573, -1.4738995 , -1.3949063 ,  0.2852    ]],\n",
       "       dtype=float32))"
      ]
     },
     "execution_count": 55,
     "metadata": {},
     "output_type": "execute_result"
    }
   ],
   "source": [
    "Dataset = np.random.rand(TimeStep * VarSize).reshape(1, TimeStep, VarSize)\n",
    "lstm1, state_h, state_c =model.predict(Dataset)\n",
    "lstm1, state_h, state_c"
   ]
  },
  {
   "cell_type": "code",
   "execution_count": 58,
   "metadata": {},
   "outputs": [
    {
     "data": {
      "text/plain": [
       "<KerasTensor: shape=(None, 10) dtype=float32 (created by layer 'lstm_16')>"
      ]
     },
     "execution_count": 58,
     "metadata": {},
     "output_type": "execute_result"
    }
   ],
   "source": [
    "LSTML"
   ]
  },
  {
   "cell_type": "markdown",
   "metadata": {},
   "source": [
    "### Stacked LSTM models"
   ]
  },
  {
   "cell_type": "code",
   "execution_count": 59,
   "metadata": {},
   "outputs": [
    {
     "name": "stdout",
     "output_type": "stream",
     "text": [
      "Model: \"model_3\"\n",
      "_________________________________________________________________\n",
      "Layer (type)                 Output Shape              Param #   \n",
      "=================================================================\n",
      "input_20 (InputLayer)        [(None, 20, 30)]          0         \n",
      "_________________________________________________________________\n",
      "lstm_18 (LSTM)               (None, 20, 10)            1640      \n",
      "_________________________________________________________________\n",
      "lstm_19 (LSTM)               (None, 10)                840       \n",
      "=================================================================\n",
      "Total params: 2,480\n",
      "Trainable params: 2,480\n",
      "Non-trainable params: 0\n",
      "_________________________________________________________________\n"
     ]
    }
   ],
   "source": [
    "InpL = Input(shape=(TimeStep, VarSize))\n",
    "LSTML = LSTM(Units, return_sequences=True)(InpL)\n",
    "LSTML = LSTM(Units, return_sequences=False)(LSTML)\n",
    "model = Model(InpL, LSTML)\n",
    "model.summary()"
   ]
  },
  {
   "cell_type": "code",
   "execution_count": null,
   "metadata": {},
   "outputs": [],
   "source": []
  },
  {
   "cell_type": "markdown",
   "metadata": {},
   "source": [
    "### M to N LSTM"
   ]
  },
  {
   "cell_type": "code",
   "execution_count": 74,
   "metadata": {},
   "outputs": [
    {
     "name": "stdout",
     "output_type": "stream",
     "text": [
      "Model: \"model_6\"\n",
      "_________________________________________________________________\n",
      "Layer (type)                 Output Shape              Param #   \n",
      "=================================================================\n",
      "input_30 (InputLayer)        [(None, 20, 30)]          0         \n",
      "_________________________________________________________________\n",
      "lstm_34 (LSTM)               (None, 10)                1640      \n",
      "_________________________________________________________________\n",
      "repeat_vector_7 (RepeatVecto (None, 10, 10)            0         \n",
      "=================================================================\n",
      "Total params: 1,640\n",
      "Trainable params: 1,640\n",
      "Non-trainable params: 0\n",
      "_________________________________________________________________\n"
     ]
    }
   ],
   "source": [
    "InpL = Input(shape=(TimeStep, VarSize))\n",
    "LSTML = LSTM(Units, return_sequences=False)(InpL)\n",
    "\n",
    "LSTMRepeat = RepeatVector(Units)(LSTML)\n",
    "LSTML = TimeDistributed(Dense(10))(LSTMRepeat)\n",
    "Output = LSTM(1, return_sequences=False)(LSTML)\n",
    "model = Model(InpL, LSTMRepeat)\n",
    "model.summary()"
   ]
  },
  {
   "cell_type": "markdown",
   "metadata": {},
   "source": [
    "#### Check repeat vector"
   ]
  },
  {
   "cell_type": "code",
   "execution_count": 75,
   "metadata": {},
   "outputs": [
    {
     "data": {
      "text/plain": [
       "array([[[-0.07611243,  0.01417255, -0.24152361,  0.1302941 ,\n",
       "         -0.21031685,  0.5664202 , -0.357486  ,  0.5785637 ,\n",
       "          0.1046114 ,  0.32735392],\n",
       "        [-0.07611243,  0.01417255, -0.24152361,  0.1302941 ,\n",
       "         -0.21031685,  0.5664202 , -0.357486  ,  0.5785637 ,\n",
       "          0.1046114 ,  0.32735392],\n",
       "        [-0.07611243,  0.01417255, -0.24152361,  0.1302941 ,\n",
       "         -0.21031685,  0.5664202 , -0.357486  ,  0.5785637 ,\n",
       "          0.1046114 ,  0.32735392],\n",
       "        [-0.07611243,  0.01417255, -0.24152361,  0.1302941 ,\n",
       "         -0.21031685,  0.5664202 , -0.357486  ,  0.5785637 ,\n",
       "          0.1046114 ,  0.32735392],\n",
       "        [-0.07611243,  0.01417255, -0.24152361,  0.1302941 ,\n",
       "         -0.21031685,  0.5664202 , -0.357486  ,  0.5785637 ,\n",
       "          0.1046114 ,  0.32735392],\n",
       "        [-0.07611243,  0.01417255, -0.24152361,  0.1302941 ,\n",
       "         -0.21031685,  0.5664202 , -0.357486  ,  0.5785637 ,\n",
       "          0.1046114 ,  0.32735392],\n",
       "        [-0.07611243,  0.01417255, -0.24152361,  0.1302941 ,\n",
       "         -0.21031685,  0.5664202 , -0.357486  ,  0.5785637 ,\n",
       "          0.1046114 ,  0.32735392],\n",
       "        [-0.07611243,  0.01417255, -0.24152361,  0.1302941 ,\n",
       "         -0.21031685,  0.5664202 , -0.357486  ,  0.5785637 ,\n",
       "          0.1046114 ,  0.32735392],\n",
       "        [-0.07611243,  0.01417255, -0.24152361,  0.1302941 ,\n",
       "         -0.21031685,  0.5664202 , -0.357486  ,  0.5785637 ,\n",
       "          0.1046114 ,  0.32735392],\n",
       "        [-0.07611243,  0.01417255, -0.24152361,  0.1302941 ,\n",
       "         -0.21031685,  0.5664202 , -0.357486  ,  0.5785637 ,\n",
       "          0.1046114 ,  0.32735392]]], dtype=float32)"
      ]
     },
     "execution_count": 75,
     "metadata": {},
     "output_type": "execute_result"
    }
   ],
   "source": [
    "model.predict(Dataset)"
   ]
  },
  {
   "cell_type": "code",
   "execution_count": null,
   "metadata": {},
   "outputs": [],
   "source": []
  }
 ],
 "metadata": {
  "kernelspec": {
   "display_name": "Python 3",
   "language": "python",
   "name": "python3"
  },
  "language_info": {
   "codemirror_mode": {
    "name": "ipython",
    "version": 3
   },
   "file_extension": ".py",
   "mimetype": "text/x-python",
   "name": "python",
   "nbconvert_exporter": "python",
   "pygments_lexer": "ipython3",
   "version": "3.8.5"
  }
 },
 "nbformat": 4,
 "nbformat_minor": 4
}
