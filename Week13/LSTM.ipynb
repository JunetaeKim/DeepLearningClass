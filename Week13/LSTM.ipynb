{
 "cells": [
  {
   "cell_type": "code",
   "execution_count": 1,
   "metadata": {},
   "outputs": [],
   "source": [
    "import numpy as np\n",
    "import pandas as pd\n",
    "from tensorflow.keras.layers import LSTM, Input, TimeDistributed, RepeatVector, SimpleRNN, Dense\n",
    "from tensorflow.keras import Model"
   ]
  },
  {
   "cell_type": "code",
   "execution_count": null,
   "metadata": {},
   "outputs": [],
   "source": []
  },
  {
   "cell_type": "markdown",
   "metadata": {},
   "source": [
    "### Return_sequences = True"
   ]
  },
  {
   "cell_type": "code",
   "execution_count": 2,
   "metadata": {},
   "outputs": [
    {
     "data": {
      "text/plain": [
       "<KerasTensor: shape=(None, 20, 10) dtype=float32 (created by layer 'lstm')>"
      ]
     },
     "execution_count": 2,
     "metadata": {},
     "output_type": "execute_result"
    }
   ],
   "source": [
    "TimeStep = 20\n",
    "VarSize = 30\n",
    "Units = 10\n",
    "\n",
    "InpL = Input(shape=(TimeStep, VarSize))\n",
    "LSTML = LSTM(Units, return_sequences=True)(InpL)\n",
    "LSTML"
   ]
  },
  {
   "cell_type": "code",
   "execution_count": null,
   "metadata": {},
   "outputs": [],
   "source": []
  },
  {
   "cell_type": "markdown",
   "metadata": {},
   "source": [
    "### Return_sequences = False"
   ]
  },
  {
   "cell_type": "code",
   "execution_count": 3,
   "metadata": {},
   "outputs": [
    {
     "data": {
      "text/plain": [
       "<KerasTensor: shape=(None, 10) dtype=float32 (created by layer 'lstm_1')>"
      ]
     },
     "execution_count": 3,
     "metadata": {},
     "output_type": "execute_result"
    }
   ],
   "source": [
    "TimeStep = 20\n",
    "VarSize = 30\n",
    "Units = 10\n",
    "\n",
    "InpL = Input(shape=(TimeStep, VarSize))\n",
    "LSTML = LSTM(Units, return_sequences=False)(InpL)\n",
    "LSTML"
   ]
  },
  {
   "cell_type": "code",
   "execution_count": null,
   "metadata": {},
   "outputs": [],
   "source": []
  },
  {
   "cell_type": "markdown",
   "metadata": {},
   "source": [
    "### Return_sequences = True & return_state =True"
   ]
  },
  {
   "cell_type": "code",
   "execution_count": 4,
   "metadata": {},
   "outputs": [
    {
     "data": {
      "text/plain": [
       "[<KerasTensor: shape=(None, 20, 10) dtype=float32 (created by layer 'lstm_2')>,\n",
       " <KerasTensor: shape=(None, 10) dtype=float32 (created by layer 'lstm_2')>,\n",
       " <KerasTensor: shape=(None, 10) dtype=float32 (created by layer 'lstm_2')>]"
      ]
     },
     "execution_count": 4,
     "metadata": {},
     "output_type": "execute_result"
    }
   ],
   "source": [
    "TimeStep = 20\n",
    "VarSize = 30\n",
    "Units = 10\n",
    "\n",
    "InpL = Input(shape=(TimeStep, VarSize))\n",
    "LSTML = LSTM(Units, return_sequences=True, return_state =True)(InpL)\n",
    "model = Model(InpL, LSTML)\n",
    "LSTML"
   ]
  },
  {
   "cell_type": "code",
   "execution_count": 5,
   "metadata": {
    "scrolled": true
   },
   "outputs": [
    {
     "data": {
      "text/plain": [
       "(array([[[-0.04156275,  0.08001338,  0.03562296,  0.22103539,\n",
       "          -0.14513186, -0.00602775,  0.03863269, -0.09025482,\n",
       "          -0.04184421,  0.06167698],\n",
       "         [-0.04277663,  0.2883625 ,  0.12028064,  0.39339787,\n",
       "          -0.30404112,  0.02212961,  0.09520419, -0.14840594,\n",
       "          -0.11289477, -0.05737477],\n",
       "         [-0.01246768,  0.19644254,  0.18030156,  0.46179917,\n",
       "          -0.25489995,  0.02557311,  0.11631395, -0.26698187,\n",
       "          -0.13034704, -0.03120573],\n",
       "         [ 0.04067663,  0.24112576,  0.21133985,  0.4543307 ,\n",
       "          -0.19860333,  0.01216052, -0.007397  , -0.26433727,\n",
       "          -0.15450701,  0.04804842],\n",
       "         [ 0.01089755,  0.3017028 ,  0.17517112,  0.55459595,\n",
       "          -0.21754877, -0.02841754, -0.01016164, -0.10727151,\n",
       "          -0.25296578,  0.17465037],\n",
       "         [ 0.03365986,  0.23787202,  0.15470678,  0.6021135 ,\n",
       "          -0.21627575, -0.10512099,  0.1318622 , -0.15622057,\n",
       "          -0.23499453,  0.25459522],\n",
       "         [ 0.00195617,  0.25638083,  0.17042673,  0.4536781 ,\n",
       "          -0.26874667, -0.09986832,  0.08643182, -0.07985261,\n",
       "          -0.3127528 ,  0.23683237],\n",
       "         [ 0.04375712,  0.26299188,  0.16135676,  0.5319034 ,\n",
       "          -0.24081093, -0.21225823,  0.14225286, -0.06442156,\n",
       "          -0.23257814,  0.31526265],\n",
       "         [ 0.0325407 ,  0.22315653,  0.15022805,  0.49540445,\n",
       "          -0.21245846, -0.21554126,  0.13504659,  0.03039189,\n",
       "          -0.3228388 ,  0.3323224 ],\n",
       "         [ 0.00858582,  0.24116284,  0.21487434,  0.5663157 ,\n",
       "          -0.34020385, -0.21003257,  0.14904583, -0.12618187,\n",
       "          -0.20441937,  0.33561188],\n",
       "         [ 0.03247405,  0.25750533,  0.25557736,  0.5111318 ,\n",
       "          -0.32775494, -0.23026513,  0.1301917 , -0.15266806,\n",
       "          -0.25963458,  0.36307034],\n",
       "         [ 0.04187677,  0.40110496,  0.14378053,  0.6078174 ,\n",
       "          -0.28025338, -0.2832668 ,  0.22944556, -0.08291052,\n",
       "          -0.21872765,  0.33638772],\n",
       "         [ 0.06031014,  0.24974297,  0.1604739 ,  0.63889587,\n",
       "          -0.25606528, -0.30338925,  0.21156865, -0.15237655,\n",
       "          -0.12534736,  0.2571639 ],\n",
       "         [ 0.0570787 ,  0.3490463 ,  0.1832179 ,  0.6067397 ,\n",
       "          -0.23277102, -0.26920176,  0.29386762, -0.28351244,\n",
       "          -0.11871255,  0.23538944],\n",
       "         [ 0.05182543,  0.40307686,  0.31211632,  0.3967486 ,\n",
       "          -0.18542196, -0.29814214,  0.15520011, -0.15860347,\n",
       "          -0.18245788,  0.15345737],\n",
       "         [ 0.04166436,  0.2861247 ,  0.23471461,  0.5317764 ,\n",
       "          -0.19390683, -0.22532102,  0.1827169 , -0.12630995,\n",
       "          -0.17501894, -0.03673543],\n",
       "         [-0.04811139,  0.29099885,  0.2468335 ,  0.46258727,\n",
       "          -0.26167876, -0.29351056,  0.2314669 , -0.05024602,\n",
       "          -0.33018935,  0.07409403],\n",
       "         [-0.04213148,  0.3149653 ,  0.2116227 ,  0.5437795 ,\n",
       "          -0.29950908, -0.24629599,  0.2145864 , -0.01007883,\n",
       "          -0.28221324,  0.16403247],\n",
       "         [-0.04600125,  0.29902387,  0.15708032,  0.49381724,\n",
       "          -0.20064624, -0.28579986,  0.27114752,  0.04768407,\n",
       "          -0.26862922,  0.2462692 ],\n",
       "         [ 0.01197781,  0.34264514,  0.2614726 ,  0.55744207,\n",
       "          -0.263543  , -0.28072345,  0.22432303, -0.07853606,\n",
       "          -0.1604498 ,  0.1685156 ]]], dtype=float32),\n",
       " array([[ 0.01197781,  0.34264514,  0.2614726 ,  0.55744207, -0.263543  ,\n",
       "         -0.28072345,  0.22432303, -0.07853606, -0.1604498 ,  0.1685156 ]],\n",
       "       dtype=float32),\n",
       " array([[ 0.04401235,  0.8560572 ,  0.6675206 ,  2.006055  , -0.3835443 ,\n",
       "         -0.77615887,  0.675353  , -0.1510349 , -1.285563  ,  0.4332706 ]],\n",
       "       dtype=float32))"
      ]
     },
     "execution_count": 5,
     "metadata": {},
     "output_type": "execute_result"
    }
   ],
   "source": [
    "Dataset = np.random.rand(TimeStep * VarSize).reshape(1, TimeStep, VarSize)\n",
    "lstm1, state_h, state_c =model.predict(Dataset)\n",
    "lstm1, state_h, state_c"
   ]
  },
  {
   "cell_type": "markdown",
   "metadata": {},
   "source": [
    "#### The last lstm output and hidden state values are same"
   ]
  },
  {
   "cell_type": "code",
   "execution_count": 6,
   "metadata": {},
   "outputs": [
    {
     "data": {
      "text/plain": [
       "(array([ 0.01197781,  0.34264514,  0.2614726 ,  0.55744207, -0.263543  ,\n",
       "        -0.28072345,  0.22432303, -0.07853606, -0.1604498 ,  0.1685156 ],\n",
       "       dtype=float32),\n",
       " array([[ 0.01197781,  0.34264514,  0.2614726 ,  0.55744207, -0.263543  ,\n",
       "         -0.28072345,  0.22432303, -0.07853606, -0.1604498 ,  0.1685156 ]],\n",
       "       dtype=float32))"
      ]
     },
     "execution_count": 6,
     "metadata": {},
     "output_type": "execute_result"
    }
   ],
   "source": [
    "lstm1[0, -1], state_h"
   ]
  },
  {
   "cell_type": "code",
   "execution_count": null,
   "metadata": {},
   "outputs": [],
   "source": []
  },
  {
   "cell_type": "markdown",
   "metadata": {},
   "source": [
    "### Return_sequences = False & return_state =True"
   ]
  },
  {
   "cell_type": "code",
   "execution_count": 7,
   "metadata": {},
   "outputs": [],
   "source": [
    "TimeStep = 20\n",
    "VarSize = 30\n",
    "Units = 10\n",
    "\n",
    "InpL = Input(shape=(TimeStep, VarSize))\n",
    "LSTML = LSTM(Units, return_sequences=False, return_state =True)(InpL)\n",
    "model = Model(InpL, LSTML)"
   ]
  },
  {
   "cell_type": "code",
   "execution_count": 8,
   "metadata": {},
   "outputs": [
    {
     "data": {
      "text/plain": [
       "(array([[ 0.22038084,  0.18965082,  0.5009733 , -0.25353464,  0.21773149,\n",
       "         -0.4413395 ,  0.51663595,  0.5425975 ,  0.28696233,  0.10665391]],\n",
       "       dtype=float32),\n",
       " array([[ 0.22038084,  0.18965082,  0.5009733 , -0.25353464,  0.21773149,\n",
       "         -0.4413395 ,  0.51663595,  0.5425975 ,  0.28696233,  0.10665391]],\n",
       "       dtype=float32),\n",
       " array([[ 0.39819732,  1.3813059 ,  1.1038511 , -0.7830069 ,  0.46367028,\n",
       "         -0.63205224,  1.2784318 ,  1.2787627 ,  0.60210246,  0.2274644 ]],\n",
       "       dtype=float32))"
      ]
     },
     "execution_count": 8,
     "metadata": {},
     "output_type": "execute_result"
    }
   ],
   "source": [
    "Dataset = np.random.rand(TimeStep * VarSize).reshape(1, TimeStep, VarSize)\n",
    "lstm1, state_h, state_c =model.predict(Dataset)\n",
    "lstm1, state_h, state_c"
   ]
  },
  {
   "cell_type": "code",
   "execution_count": 9,
   "metadata": {},
   "outputs": [
    {
     "data": {
      "text/plain": [
       "[<KerasTensor: shape=(None, 10) dtype=float32 (created by layer 'lstm_3')>,\n",
       " <KerasTensor: shape=(None, 10) dtype=float32 (created by layer 'lstm_3')>,\n",
       " <KerasTensor: shape=(None, 10) dtype=float32 (created by layer 'lstm_3')>]"
      ]
     },
     "execution_count": 9,
     "metadata": {},
     "output_type": "execute_result"
    }
   ],
   "source": [
    "LSTML"
   ]
  },
  {
   "cell_type": "markdown",
   "metadata": {},
   "source": [
    "### Stacked LSTM models"
   ]
  },
  {
   "cell_type": "code",
   "execution_count": 10,
   "metadata": {},
   "outputs": [
    {
     "name": "stdout",
     "output_type": "stream",
     "text": [
      "Model: \"model_2\"\n",
      "_________________________________________________________________\n",
      "Layer (type)                 Output Shape              Param #   \n",
      "=================================================================\n",
      "input_5 (InputLayer)         [(None, 20, 30)]          0         \n",
      "_________________________________________________________________\n",
      "lstm_4 (LSTM)                (None, 20, 10)            1640      \n",
      "_________________________________________________________________\n",
      "lstm_5 (LSTM)                (None, 10)                840       \n",
      "=================================================================\n",
      "Total params: 2,480\n",
      "Trainable params: 2,480\n",
      "Non-trainable params: 0\n",
      "_________________________________________________________________\n"
     ]
    }
   ],
   "source": [
    "InpL = Input(shape=(TimeStep, VarSize))\n",
    "LSTML = LSTM(Units, return_sequences=True)(InpL)\n",
    "LSTML = LSTM(Units, return_sequences=False)(LSTML)\n",
    "model = Model(InpL, LSTML)\n",
    "model.summary()"
   ]
  },
  {
   "cell_type": "code",
   "execution_count": null,
   "metadata": {},
   "outputs": [],
   "source": []
  },
  {
   "cell_type": "markdown",
   "metadata": {},
   "source": [
    "### M to N LSTM"
   ]
  },
  {
   "cell_type": "code",
   "execution_count": 11,
   "metadata": {},
   "outputs": [
    {
     "name": "stdout",
     "output_type": "stream",
     "text": [
      "Model: \"model_3\"\n",
      "_________________________________________________________________\n",
      "Layer (type)                 Output Shape              Param #   \n",
      "=================================================================\n",
      "input_6 (InputLayer)         [(None, 20, 30)]          0         \n",
      "_________________________________________________________________\n",
      "lstm_6 (LSTM)                (None, 10)                1640      \n",
      "_________________________________________________________________\n",
      "repeat_vector (RepeatVector) (None, 10, 10)            0         \n",
      "=================================================================\n",
      "Total params: 1,640\n",
      "Trainable params: 1,640\n",
      "Non-trainable params: 0\n",
      "_________________________________________________________________\n"
     ]
    }
   ],
   "source": [
    "InpL = Input(shape=(TimeStep, VarSize))\n",
    "LSTML = LSTM(Units, return_sequences=False)(InpL)\n",
    "\n",
    "LSTMRepeat = RepeatVector(Units)(LSTML)\n",
    "LSTML = TimeDistributed(Dense(10))(LSTMRepeat)\n",
    "Output = LSTM(1, return_sequences=False)(LSTML)\n",
    "model = Model(InpL, LSTMRepeat)\n",
    "model.summary()"
   ]
  },
  {
   "cell_type": "markdown",
   "metadata": {},
   "source": [
    "#### Check repeat vector"
   ]
  },
  {
   "cell_type": "code",
   "execution_count": 12,
   "metadata": {},
   "outputs": [
    {
     "data": {
      "text/plain": [
       "array([[[-0.37059438,  0.34338307, -0.27796715,  0.23656084,\n",
       "         -0.18221886, -0.51808023, -0.42632604,  0.49360415,\n",
       "         -0.22799839,  0.43260345],\n",
       "        [-0.37059438,  0.34338307, -0.27796715,  0.23656084,\n",
       "         -0.18221886, -0.51808023, -0.42632604,  0.49360415,\n",
       "         -0.22799839,  0.43260345],\n",
       "        [-0.37059438,  0.34338307, -0.27796715,  0.23656084,\n",
       "         -0.18221886, -0.51808023, -0.42632604,  0.49360415,\n",
       "         -0.22799839,  0.43260345],\n",
       "        [-0.37059438,  0.34338307, -0.27796715,  0.23656084,\n",
       "         -0.18221886, -0.51808023, -0.42632604,  0.49360415,\n",
       "         -0.22799839,  0.43260345],\n",
       "        [-0.37059438,  0.34338307, -0.27796715,  0.23656084,\n",
       "         -0.18221886, -0.51808023, -0.42632604,  0.49360415,\n",
       "         -0.22799839,  0.43260345],\n",
       "        [-0.37059438,  0.34338307, -0.27796715,  0.23656084,\n",
       "         -0.18221886, -0.51808023, -0.42632604,  0.49360415,\n",
       "         -0.22799839,  0.43260345],\n",
       "        [-0.37059438,  0.34338307, -0.27796715,  0.23656084,\n",
       "         -0.18221886, -0.51808023, -0.42632604,  0.49360415,\n",
       "         -0.22799839,  0.43260345],\n",
       "        [-0.37059438,  0.34338307, -0.27796715,  0.23656084,\n",
       "         -0.18221886, -0.51808023, -0.42632604,  0.49360415,\n",
       "         -0.22799839,  0.43260345],\n",
       "        [-0.37059438,  0.34338307, -0.27796715,  0.23656084,\n",
       "         -0.18221886, -0.51808023, -0.42632604,  0.49360415,\n",
       "         -0.22799839,  0.43260345],\n",
       "        [-0.37059438,  0.34338307, -0.27796715,  0.23656084,\n",
       "         -0.18221886, -0.51808023, -0.42632604,  0.49360415,\n",
       "         -0.22799839,  0.43260345]]], dtype=float32)"
      ]
     },
     "execution_count": 12,
     "metadata": {},
     "output_type": "execute_result"
    }
   ],
   "source": [
    "model.predict(Dataset)"
   ]
  },
  {
   "cell_type": "code",
   "execution_count": null,
   "metadata": {},
   "outputs": [],
   "source": []
  }
 ],
 "metadata": {
  "kernelspec": {
   "display_name": "Python 3",
   "language": "python",
   "name": "python3"
  },
  "language_info": {
   "codemirror_mode": {
    "name": "ipython",
    "version": 3
   },
   "file_extension": ".py",
   "mimetype": "text/x-python",
   "name": "python",
   "nbconvert_exporter": "python",
   "pygments_lexer": "ipython3",
   "version": "3.8.5"
  }
 },
 "nbformat": 4,
 "nbformat_minor": 4
}
